{
 "cells": [
  {
   "cell_type": "markdown",
   "metadata": {},
   "source": [
    "# Training Insititute Student Data"
   ]
  },
  {
   "cell_type": "code",
   "execution_count": 2,
   "metadata": {},
   "outputs": [],
   "source": [
    "import numpy as np\n",
    "import pandas as pd\n",
    "import matplotlib.pyplot as plt\n",
    "import seaborn as sns\n",
    "\n",
    "import warnings\n",
    "warnings.filterwarnings(\"ignore\")"
   ]
  },
  {
   "cell_type": "code",
   "execution_count": 3,
   "metadata": {},
   "outputs": [
    {
     "data": {
      "text/html": [
       "<div>\n",
       "<style scoped>\n",
       "    .dataframe tbody tr th:only-of-type {\n",
       "        vertical-align: middle;\n",
       "    }\n",
       "\n",
       "    .dataframe tbody tr th {\n",
       "        vertical-align: top;\n",
       "    }\n",
       "\n",
       "    .dataframe thead th {\n",
       "        text-align: right;\n",
       "    }\n",
       "</style>\n",
       "<table border=\"1\" class=\"dataframe\">\n",
       "  <thead>\n",
       "    <tr style=\"text-align: right;\">\n",
       "      <th></th>\n",
       "      <th>id</th>\n",
       "      <th>program_id</th>\n",
       "      <th>program_type</th>\n",
       "      <th>program_duration</th>\n",
       "      <th>test_id</th>\n",
       "      <th>test_type</th>\n",
       "      <th>difficulty_level</th>\n",
       "      <th>trainee_id</th>\n",
       "      <th>gender</th>\n",
       "      <th>education</th>\n",
       "      <th>city_tier</th>\n",
       "      <th>age</th>\n",
       "      <th>total_programs_enrolled</th>\n",
       "      <th>is_handicapped</th>\n",
       "      <th>trainee_engagement_rating</th>\n",
       "      <th>is_pass</th>\n",
       "    </tr>\n",
       "  </thead>\n",
       "  <tbody>\n",
       "    <tr>\n",
       "      <th>0</th>\n",
       "      <td>13695_33</td>\n",
       "      <td>T_2</td>\n",
       "      <td>T</td>\n",
       "      <td>117</td>\n",
       "      <td>33</td>\n",
       "      <td>offline</td>\n",
       "      <td>intermediate</td>\n",
       "      <td>13695</td>\n",
       "      <td>F</td>\n",
       "      <td>Matriculation</td>\n",
       "      <td>2</td>\n",
       "      <td>43.0</td>\n",
       "      <td>2</td>\n",
       "      <td>N</td>\n",
       "      <td>1.0</td>\n",
       "      <td>1</td>\n",
       "    </tr>\n",
       "    <tr>\n",
       "      <th>1</th>\n",
       "      <td>873_139</td>\n",
       "      <td>Y_2</td>\n",
       "      <td>Y</td>\n",
       "      <td>120</td>\n",
       "      <td>139</td>\n",
       "      <td>offline</td>\n",
       "      <td>hard</td>\n",
       "      <td>873</td>\n",
       "      <td>M</td>\n",
       "      <td>Matriculation</td>\n",
       "      <td>2</td>\n",
       "      <td>NaN</td>\n",
       "      <td>2</td>\n",
       "      <td>N</td>\n",
       "      <td>3.0</td>\n",
       "      <td>1</td>\n",
       "    </tr>\n",
       "    <tr>\n",
       "      <th>2</th>\n",
       "      <td>6987_73</td>\n",
       "      <td>V_4</td>\n",
       "      <td>V</td>\n",
       "      <td>122</td>\n",
       "      <td>73</td>\n",
       "      <td>online</td>\n",
       "      <td>easy</td>\n",
       "      <td>6987</td>\n",
       "      <td>M</td>\n",
       "      <td>Matriculation</td>\n",
       "      <td>1</td>\n",
       "      <td>NaN</td>\n",
       "      <td>2</td>\n",
       "      <td>N</td>\n",
       "      <td>3.0</td>\n",
       "      <td>1</td>\n",
       "    </tr>\n",
       "    <tr>\n",
       "      <th>3</th>\n",
       "      <td>3380_100</td>\n",
       "      <td>V_1</td>\n",
       "      <td>V</td>\n",
       "      <td>133</td>\n",
       "      <td>100</td>\n",
       "      <td>offline</td>\n",
       "      <td>vary hard</td>\n",
       "      <td>3380</td>\n",
       "      <td>F</td>\n",
       "      <td>High School Diploma</td>\n",
       "      <td>3</td>\n",
       "      <td>30.0</td>\n",
       "      <td>2</td>\n",
       "      <td>Y</td>\n",
       "      <td>1.0</td>\n",
       "      <td>0</td>\n",
       "    </tr>\n",
       "    <tr>\n",
       "      <th>4</th>\n",
       "      <td>1906_114</td>\n",
       "      <td>Y_4</td>\n",
       "      <td>Y</td>\n",
       "      <td>121</td>\n",
       "      <td>114</td>\n",
       "      <td>offline</td>\n",
       "      <td>intermediate</td>\n",
       "      <td>1906</td>\n",
       "      <td>M</td>\n",
       "      <td>High School Diploma</td>\n",
       "      <td>3</td>\n",
       "      <td>NaN</td>\n",
       "      <td>2</td>\n",
       "      <td>N</td>\n",
       "      <td>5.0</td>\n",
       "      <td>1</td>\n",
       "    </tr>\n",
       "  </tbody>\n",
       "</table>\n",
       "</div>"
      ],
      "text/plain": [
       "         id program_id program_type  program_duration  test_id test_type  \\\n",
       "0  13695_33        T_2            T               117       33   offline   \n",
       "1   873_139        Y_2            Y               120      139   offline   \n",
       "2   6987_73        V_4            V               122       73    online   \n",
       "3  3380_100        V_1            V               133      100   offline   \n",
       "4  1906_114        Y_4            Y               121      114   offline   \n",
       "\n",
       "  difficulty_level  trainee_id gender            education  city_tier   age  \\\n",
       "0     intermediate       13695      F        Matriculation          2  43.0   \n",
       "1             hard         873      M        Matriculation          2   NaN   \n",
       "2             easy        6987      M        Matriculation          1   NaN   \n",
       "3        vary hard        3380      F  High School Diploma          3  30.0   \n",
       "4     intermediate        1906      M  High School Diploma          3   NaN   \n",
       "\n",
       "   total_programs_enrolled is_handicapped  trainee_engagement_rating  is_pass  \n",
       "0                        2              N                        1.0        1  \n",
       "1                        2              N                        3.0        1  \n",
       "2                        2              N                        3.0        1  \n",
       "3                        2              Y                        1.0        0  \n",
       "4                        2              N                        5.0        1  "
      ]
     },
     "execution_count": 3,
     "metadata": {},
     "output_type": "execute_result"
    }
   ],
   "source": [
    "train = pd.read_csv(r'C:\\Users\\MY PC\\Desktop\\Train.csv')\n",
    "test = pd.read_csv(r'C:\\Users\\MY PC\\Desktop\\Test.csv')\n",
    "train.head()"
   ]
  },
  {
   "cell_type": "code",
   "execution_count": 4,
   "metadata": {},
   "outputs": [
    {
     "data": {
      "text/plain": [
       "(51202, 16)"
      ]
     },
     "execution_count": 4,
     "metadata": {},
     "output_type": "execute_result"
    }
   ],
   "source": [
    "train.shape"
   ]
  },
  {
   "cell_type": "code",
   "execution_count": 5,
   "metadata": {},
   "outputs": [
    {
     "data": {
      "text/plain": [
       "(21945, 15)"
      ]
     },
     "execution_count": 5,
     "metadata": {},
     "output_type": "execute_result"
    }
   ],
   "source": [
    "test.shape"
   ]
  },
  {
   "cell_type": "code",
   "execution_count": 6,
   "metadata": {},
   "outputs": [
    {
     "name": "stdout",
     "output_type": "stream",
     "text": [
      "<class 'pandas.core.frame.DataFrame'>\n",
      "RangeIndex: 51202 entries, 0 to 51201\n",
      "Data columns (total 16 columns):\n",
      " #   Column                     Non-Null Count  Dtype  \n",
      "---  ------                     --------------  -----  \n",
      " 0   id                         51202 non-null  object \n",
      " 1   program_id                 51202 non-null  object \n",
      " 2   program_type               51202 non-null  object \n",
      " 3   program_duration           51202 non-null  int64  \n",
      " 4   test_id                    51202 non-null  int64  \n",
      " 5   test_type                  51202 non-null  object \n",
      " 6   difficulty_level           51202 non-null  object \n",
      " 7   trainee_id                 51202 non-null  int64  \n",
      " 8   gender                     51202 non-null  object \n",
      " 9   education                  51202 non-null  object \n",
      " 10  city_tier                  51202 non-null  int64  \n",
      " 11  age                        31857 non-null  float64\n",
      " 12  total_programs_enrolled    51202 non-null  int64  \n",
      " 13  is_handicapped             51202 non-null  object \n",
      " 14  trainee_engagement_rating  51151 non-null  float64\n",
      " 15  is_pass                    51202 non-null  int64  \n",
      "dtypes: float64(2), int64(6), object(8)\n",
      "memory usage: 6.3+ MB\n"
     ]
    }
   ],
   "source": [
    "train.info()"
   ]
  },
  {
   "cell_type": "code",
   "execution_count": 7,
   "metadata": {},
   "outputs": [
    {
     "name": "stdout",
     "output_type": "stream",
     "text": [
      "<class 'pandas.core.frame.DataFrame'>\n",
      "RangeIndex: 21945 entries, 0 to 21944\n",
      "Data columns (total 15 columns):\n",
      " #   Column                     Non-Null Count  Dtype  \n",
      "---  ------                     --------------  -----  \n",
      " 0   id                         21945 non-null  object \n",
      " 1   program_id                 21945 non-null  object \n",
      " 2   program_type               21945 non-null  object \n",
      " 3   program_duration           21945 non-null  int64  \n",
      " 4   test_id                    21945 non-null  int64  \n",
      " 5   test_type                  21945 non-null  object \n",
      " 6   difficulty_level           21945 non-null  object \n",
      " 7   trainee_id                 21945 non-null  int64  \n",
      " 8   gender                     21945 non-null  object \n",
      " 9   education                  21945 non-null  object \n",
      " 10  city_tier                  21945 non-null  int64  \n",
      " 11  age                        13561 non-null  float64\n",
      " 12  total_programs_enrolled    21945 non-null  int64  \n",
      " 13  is_handicapped             21945 non-null  object \n",
      " 14  trainee_engagement_rating  21919 non-null  float64\n",
      "dtypes: float64(2), int64(5), object(8)\n",
      "memory usage: 2.5+ MB\n"
     ]
    }
   ],
   "source": [
    "test.info()"
   ]
  },
  {
   "cell_type": "markdown",
   "metadata": {},
   "source": [
    "## Dropping the Variables:\n",
    "- id\n",
    "- program_id\n",
    "- test_id\n",
    "- trainee_id\n",
    "\n",
    "These variables would not have much impact on the model."
   ]
  },
  {
   "cell_type": "code",
   "execution_count": 8,
   "metadata": {},
   "outputs": [
    {
     "data": {
      "text/html": [
       "<div>\n",
       "<style scoped>\n",
       "    .dataframe tbody tr th:only-of-type {\n",
       "        vertical-align: middle;\n",
       "    }\n",
       "\n",
       "    .dataframe tbody tr th {\n",
       "        vertical-align: top;\n",
       "    }\n",
       "\n",
       "    .dataframe thead th {\n",
       "        text-align: right;\n",
       "    }\n",
       "</style>\n",
       "<table border=\"1\" class=\"dataframe\">\n",
       "  <thead>\n",
       "    <tr style=\"text-align: right;\">\n",
       "      <th></th>\n",
       "      <th>program_type</th>\n",
       "      <th>program_duration</th>\n",
       "      <th>test_type</th>\n",
       "      <th>difficulty_level</th>\n",
       "      <th>gender</th>\n",
       "      <th>education</th>\n",
       "      <th>city_tier</th>\n",
       "      <th>age</th>\n",
       "      <th>total_programs_enrolled</th>\n",
       "      <th>is_handicapped</th>\n",
       "      <th>trainee_engagement_rating</th>\n",
       "      <th>is_pass</th>\n",
       "    </tr>\n",
       "  </thead>\n",
       "  <tbody>\n",
       "    <tr>\n",
       "      <th>0</th>\n",
       "      <td>T</td>\n",
       "      <td>117</td>\n",
       "      <td>offline</td>\n",
       "      <td>intermediate</td>\n",
       "      <td>F</td>\n",
       "      <td>Matriculation</td>\n",
       "      <td>2</td>\n",
       "      <td>43.0</td>\n",
       "      <td>2</td>\n",
       "      <td>N</td>\n",
       "      <td>1.0</td>\n",
       "      <td>1</td>\n",
       "    </tr>\n",
       "    <tr>\n",
       "      <th>1</th>\n",
       "      <td>Y</td>\n",
       "      <td>120</td>\n",
       "      <td>offline</td>\n",
       "      <td>hard</td>\n",
       "      <td>M</td>\n",
       "      <td>Matriculation</td>\n",
       "      <td>2</td>\n",
       "      <td>NaN</td>\n",
       "      <td>2</td>\n",
       "      <td>N</td>\n",
       "      <td>3.0</td>\n",
       "      <td>1</td>\n",
       "    </tr>\n",
       "    <tr>\n",
       "      <th>2</th>\n",
       "      <td>V</td>\n",
       "      <td>122</td>\n",
       "      <td>online</td>\n",
       "      <td>easy</td>\n",
       "      <td>M</td>\n",
       "      <td>Matriculation</td>\n",
       "      <td>1</td>\n",
       "      <td>NaN</td>\n",
       "      <td>2</td>\n",
       "      <td>N</td>\n",
       "      <td>3.0</td>\n",
       "      <td>1</td>\n",
       "    </tr>\n",
       "    <tr>\n",
       "      <th>3</th>\n",
       "      <td>V</td>\n",
       "      <td>133</td>\n",
       "      <td>offline</td>\n",
       "      <td>vary hard</td>\n",
       "      <td>F</td>\n",
       "      <td>High School Diploma</td>\n",
       "      <td>3</td>\n",
       "      <td>30.0</td>\n",
       "      <td>2</td>\n",
       "      <td>Y</td>\n",
       "      <td>1.0</td>\n",
       "      <td>0</td>\n",
       "    </tr>\n",
       "    <tr>\n",
       "      <th>4</th>\n",
       "      <td>Y</td>\n",
       "      <td>121</td>\n",
       "      <td>offline</td>\n",
       "      <td>intermediate</td>\n",
       "      <td>M</td>\n",
       "      <td>High School Diploma</td>\n",
       "      <td>3</td>\n",
       "      <td>NaN</td>\n",
       "      <td>2</td>\n",
       "      <td>N</td>\n",
       "      <td>5.0</td>\n",
       "      <td>1</td>\n",
       "    </tr>\n",
       "  </tbody>\n",
       "</table>\n",
       "</div>"
      ],
      "text/plain": [
       "  program_type  program_duration test_type difficulty_level gender  \\\n",
       "0            T               117   offline     intermediate      F   \n",
       "1            Y               120   offline             hard      M   \n",
       "2            V               122    online             easy      M   \n",
       "3            V               133   offline        vary hard      F   \n",
       "4            Y               121   offline     intermediate      M   \n",
       "\n",
       "             education  city_tier   age  total_programs_enrolled  \\\n",
       "0        Matriculation          2  43.0                        2   \n",
       "1        Matriculation          2   NaN                        2   \n",
       "2        Matriculation          1   NaN                        2   \n",
       "3  High School Diploma          3  30.0                        2   \n",
       "4  High School Diploma          3   NaN                        2   \n",
       "\n",
       "  is_handicapped  trainee_engagement_rating  is_pass  \n",
       "0              N                        1.0        1  \n",
       "1              N                        3.0        1  \n",
       "2              N                        3.0        1  \n",
       "3              Y                        1.0        0  \n",
       "4              N                        5.0        1  "
      ]
     },
     "execution_count": 8,
     "metadata": {},
     "output_type": "execute_result"
    }
   ],
   "source": [
    "train = train.drop([\"id\" , \"program_id\" , \"test_id\" , \"trainee_id\"] , axis = 1)\n",
    "train.head()"
   ]
  },
  {
   "cell_type": "code",
   "execution_count": 9,
   "metadata": {},
   "outputs": [
    {
     "data": {
      "text/html": [
       "<div>\n",
       "<style scoped>\n",
       "    .dataframe tbody tr th:only-of-type {\n",
       "        vertical-align: middle;\n",
       "    }\n",
       "\n",
       "    .dataframe tbody tr th {\n",
       "        vertical-align: top;\n",
       "    }\n",
       "\n",
       "    .dataframe thead th {\n",
       "        text-align: right;\n",
       "    }\n",
       "</style>\n",
       "<table border=\"1\" class=\"dataframe\">\n",
       "  <thead>\n",
       "    <tr style=\"text-align: right;\">\n",
       "      <th></th>\n",
       "      <th>program_type</th>\n",
       "      <th>program_duration</th>\n",
       "      <th>test_type</th>\n",
       "      <th>difficulty_level</th>\n",
       "      <th>gender</th>\n",
       "      <th>education</th>\n",
       "      <th>city_tier</th>\n",
       "      <th>age</th>\n",
       "      <th>total_programs_enrolled</th>\n",
       "      <th>is_handicapped</th>\n",
       "      <th>trainee_engagement_rating</th>\n",
       "    </tr>\n",
       "  </thead>\n",
       "  <tbody>\n",
       "    <tr>\n",
       "      <th>0</th>\n",
       "      <td>Y</td>\n",
       "      <td>136</td>\n",
       "      <td>offline</td>\n",
       "      <td>intermediate</td>\n",
       "      <td>M</td>\n",
       "      <td>Matriculation</td>\n",
       "      <td>1</td>\n",
       "      <td>42.0</td>\n",
       "      <td>2</td>\n",
       "      <td>Y</td>\n",
       "      <td>3.0</td>\n",
       "    </tr>\n",
       "    <tr>\n",
       "      <th>1</th>\n",
       "      <td>T</td>\n",
       "      <td>134</td>\n",
       "      <td>offline</td>\n",
       "      <td>intermediate</td>\n",
       "      <td>F</td>\n",
       "      <td>Matriculation</td>\n",
       "      <td>3</td>\n",
       "      <td>25.0</td>\n",
       "      <td>2</td>\n",
       "      <td>Y</td>\n",
       "      <td>1.0</td>\n",
       "    </tr>\n",
       "    <tr>\n",
       "      <th>2</th>\n",
       "      <td>V</td>\n",
       "      <td>131</td>\n",
       "      <td>offline</td>\n",
       "      <td>intermediate</td>\n",
       "      <td>F</td>\n",
       "      <td>High School Diploma</td>\n",
       "      <td>3</td>\n",
       "      <td>24.0</td>\n",
       "      <td>3</td>\n",
       "      <td>N</td>\n",
       "      <td>1.0</td>\n",
       "    </tr>\n",
       "    <tr>\n",
       "      <th>3</th>\n",
       "      <td>V</td>\n",
       "      <td>131</td>\n",
       "      <td>offline</td>\n",
       "      <td>intermediate</td>\n",
       "      <td>M</td>\n",
       "      <td>Matriculation</td>\n",
       "      <td>3</td>\n",
       "      <td>NaN</td>\n",
       "      <td>4</td>\n",
       "      <td>N</td>\n",
       "      <td>3.0</td>\n",
       "    </tr>\n",
       "    <tr>\n",
       "      <th>4</th>\n",
       "      <td>Y</td>\n",
       "      <td>136</td>\n",
       "      <td>online</td>\n",
       "      <td>easy</td>\n",
       "      <td>M</td>\n",
       "      <td>High School Diploma</td>\n",
       "      <td>1</td>\n",
       "      <td>45.0</td>\n",
       "      <td>3</td>\n",
       "      <td>N</td>\n",
       "      <td>4.0</td>\n",
       "    </tr>\n",
       "  </tbody>\n",
       "</table>\n",
       "</div>"
      ],
      "text/plain": [
       "  program_type  program_duration test_type difficulty_level gender  \\\n",
       "0            Y               136   offline     intermediate      M   \n",
       "1            T               134   offline     intermediate      F   \n",
       "2            V               131   offline     intermediate      F   \n",
       "3            V               131   offline     intermediate      M   \n",
       "4            Y               136    online             easy      M   \n",
       "\n",
       "             education  city_tier   age  total_programs_enrolled  \\\n",
       "0        Matriculation          1  42.0                        2   \n",
       "1        Matriculation          3  25.0                        2   \n",
       "2  High School Diploma          3  24.0                        3   \n",
       "3        Matriculation          3   NaN                        4   \n",
       "4  High School Diploma          1  45.0                        3   \n",
       "\n",
       "  is_handicapped  trainee_engagement_rating  \n",
       "0              Y                        3.0  \n",
       "1              Y                        1.0  \n",
       "2              N                        1.0  \n",
       "3              N                        3.0  \n",
       "4              N                        4.0  "
      ]
     },
     "execution_count": 9,
     "metadata": {},
     "output_type": "execute_result"
    }
   ],
   "source": [
    "test = test.drop([\"id\" , \"program_id\" , \"test_id\" , \"trainee_id\"] , axis = 1)\n",
    "test.head()"
   ]
  },
  {
   "cell_type": "markdown",
   "metadata": {},
   "source": [
    "## Missing Value Treatment"
   ]
  },
  {
   "cell_type": "code",
   "execution_count": 10,
   "metadata": {},
   "outputs": [
    {
     "data": {
      "text/plain": [
       "program_type                     0\n",
       "program_duration                 0\n",
       "test_type                        0\n",
       "difficulty_level                 0\n",
       "gender                           0\n",
       "education                        0\n",
       "city_tier                        0\n",
       "age                          19345\n",
       "total_programs_enrolled          0\n",
       "is_handicapped                   0\n",
       "trainee_engagement_rating       51\n",
       "is_pass                          0\n",
       "dtype: int64"
      ]
     },
     "execution_count": 10,
     "metadata": {},
     "output_type": "execute_result"
    }
   ],
   "source": [
    "train.isnull().sum()"
   ]
  },
  {
   "cell_type": "code",
   "execution_count": 11,
   "metadata": {
    "scrolled": true
   },
   "outputs": [
    {
     "data": {
      "text/plain": [
       "program_type                    0\n",
       "program_duration                0\n",
       "test_type                       0\n",
       "difficulty_level                0\n",
       "gender                          0\n",
       "education                       0\n",
       "city_tier                       0\n",
       "age                          8384\n",
       "total_programs_enrolled         0\n",
       "is_handicapped                  0\n",
       "trainee_engagement_rating      26\n",
       "dtype: int64"
      ]
     },
     "execution_count": 11,
     "metadata": {},
     "output_type": "execute_result"
    }
   ],
   "source": [
    "test.isnull().sum()"
   ]
  },
  {
   "cell_type": "code",
   "execution_count": 12,
   "metadata": {},
   "outputs": [
    {
     "data": {
      "image/png": "[encoded data removed]",
      "text/plain": [
       "<Figure size 432x288 with 1 Axes>"
      ]
     },
     "metadata": {
      "needs_background": "light"
     },
     "output_type": "display_data"
    }
   ],
   "source": [
    "train.age.hist(bins=50)\n",
    "plt.show()"
   ]
  },
  {
   "cell_type": "code",
   "execution_count": 13,
   "metadata": {},
   "outputs": [
    {
     "data": {
      "image/png": "[encoded data removed]",
      "text/plain": [
       "<Figure size 432x288 with 1 Axes>"
      ]
     },
     "metadata": {
      "needs_background": "light"
     },
     "output_type": "display_data"
    }
   ],
   "source": [
    "test.age.hist(bins=50)\n",
    "plt.show()"
   ]
  },
  {
   "cell_type": "markdown",
   "metadata": {},
   "source": [
    "### Direct imputation for age column would not give true insights hence creating groups to impute for age of each category"
   ]
  },
  {
   "cell_type": "code",
   "execution_count": 14,
   "metadata": {},
   "outputs": [
    {
     "data": {
      "text/plain": [
       "program_type  gender  education          \n",
       "S             F       Bachelors              41.087719\n",
       "                      High School Diploma    37.694581\n",
       "                      Matriculation          40.726027\n",
       "              M       Bachelors              42.035461\n",
       "                      High School Diploma    37.509615\n",
       "                                               ...    \n",
       "Z             F       No Qualification       29.780488\n",
       "              M       Bachelors              41.421053\n",
       "                      High School Diploma    35.934132\n",
       "                      Matriculation          37.332344\n",
       "                      No Qualification       27.000000\n",
       "Name: age, Length: 65, dtype: float64"
      ]
     },
     "execution_count": 14,
     "metadata": {},
     "output_type": "execute_result"
    }
   ],
   "source": [
    "train.groupby([\"program_type\" ,\"gender\" , \"education\"])['age'].mean()"
   ]
  },
  {
   "cell_type": "code",
   "execution_count": 15,
   "metadata": {},
   "outputs": [],
   "source": [
    "train[\"age\"] = train[\"age\"].fillna(train.groupby([\"program_type\" ,\"gender\" , \"education\"])['age'].transform('mean'))"
   ]
  },
  {
   "cell_type": "code",
   "execution_count": 16,
   "metadata": {},
   "outputs": [],
   "source": [
    "test[\"age\"] = test[\"age\"].fillna(test.groupby([\"program_type\" , \"gender\" , \"education\"])['age'].transform('mean'))"
   ]
  },
  {
   "cell_type": "code",
   "execution_count": 17,
   "metadata": {},
   "outputs": [
    {
     "name": "stdout",
     "output_type": "stream",
     "text": [
      "0\n",
      "0\n"
     ]
    }
   ],
   "source": [
    "print(train[\"age\"].isnull().sum())\n",
    "print(test[\"age\"].isnull().sum())"
   ]
  },
  {
   "cell_type": "code",
   "execution_count": 18,
   "metadata": {},
   "outputs": [
    {
     "data": {
      "image/png": "[encoded data removed]",
      "text/plain": [
       "<Figure size 432x288 with 1 Axes>"
      ]
     },
     "metadata": {
      "needs_background": "light"
     },
     "output_type": "display_data"
    }
   ],
   "source": [
    "sns.distplot(train.trainee_engagement_rating)\n",
    "plt.show()"
   ]
  },
  {
   "cell_type": "code",
   "execution_count": 19,
   "metadata": {},
   "outputs": [
    {
     "data": {
      "image/png": "[encoded data removed]",
      "text/plain": [
       "<Figure size 432x288 with 1 Axes>"
      ]
     },
     "metadata": {
      "needs_background": "light"
     },
     "output_type": "display_data"
    }
   ],
   "source": [
    "sns.distplot(test.trainee_engagement_rating)\n",
    "plt.show()"
   ]
  },
  {
   "cell_type": "code",
   "execution_count": 20,
   "metadata": {},
   "outputs": [
    {
     "data": {
      "text/plain": [
       "0"
      ]
     },
     "execution_count": 20,
     "metadata": {},
     "output_type": "execute_result"
    }
   ],
   "source": [
    "### Filling missing values with mean for trainee_engagement_rating\n",
    "\n",
    "train[\"trainee_engagement_rating\"] = train[\"trainee_engagement_rating\"].fillna(train[\"trainee_engagement_rating\"].mean())\n",
    "train[\"trainee_engagement_rating\"].isnull().sum()"
   ]
  },
  {
   "cell_type": "code",
   "execution_count": 21,
   "metadata": {},
   "outputs": [
    {
     "data": {
      "text/plain": [
       "0"
      ]
     },
     "execution_count": 21,
     "metadata": {},
     "output_type": "execute_result"
    }
   ],
   "source": [
    "### Filling missing values with mean for trainee_engagement_rating\n",
    "\n",
    "test[\"trainee_engagement_rating\"] = test[\"trainee_engagement_rating\"].fillna(test[\"trainee_engagement_rating\"].mean())\n",
    "test[\"trainee_engagement_rating\"].isnull().sum()"
   ]
  },
  {
   "cell_type": "code",
   "execution_count": 22,
   "metadata": {},
   "outputs": [],
   "source": [
    "x = train.drop([\"is_pass\"],axis=1)\n",
    "y = train[\"is_pass\"]"
   ]
  },
  {
   "cell_type": "markdown",
   "metadata": {},
   "source": [
    "# EDA"
   ]
  },
  {
   "cell_type": "code",
   "execution_count": 23,
   "metadata": {},
   "outputs": [],
   "source": [
    "num_columns = list(train._get_numeric_data().columns)\n",
    "all_columns = list(train.columns)"
   ]
  },
  {
   "cell_type": "code",
   "execution_count": 24,
   "metadata": {},
   "outputs": [
    {
     "data": {
      "text/plain": [
       "['program_duration',\n",
       " 'city_tier',\n",
       " 'age',\n",
       " 'total_programs_enrolled',\n",
       " 'trainee_engagement_rating',\n",
       " 'is_pass']"
      ]
     },
     "execution_count": 24,
     "metadata": {},
     "output_type": "execute_result"
    }
   ],
   "source": [
    "num_columns"
   ]
  },
  {
   "cell_type": "code",
   "execution_count": 25,
   "metadata": {},
   "outputs": [
    {
     "data": {
      "text/plain": [
       "['program_type',\n",
       " 'test_type',\n",
       " 'difficulty_level',\n",
       " 'gender',\n",
       " 'education',\n",
       " 'is_handicapped']"
      ]
     },
     "execution_count": 25,
     "metadata": {},
     "output_type": "execute_result"
    }
   ],
   "source": [
    "cat_columns = []\n",
    "for i in all_columns:\n",
    "    if i not in num_columns:\n",
    "        cat_columns.append(i)\n",
    "cat_columns"
   ]
  },
  {
   "cell_type": "markdown",
   "metadata": {},
   "source": [
    "### CATAGORICAL FEATURES"
   ]
  },
  {
   "cell_type": "code",
   "execution_count": 26,
   "metadata": {},
   "outputs": [
    {
     "data": {
      "image/png": "[encoded data removed]",
      "text/plain": [
       "<Figure size 576x360 with 1 Axes>"
      ]
     },
     "metadata": {
      "needs_background": "light"
     },
     "output_type": "display_data"
    },
    {
     "data": {
      "image/png": "[encoded data removed]",
      "text/plain": [
       "<Figure size 576x360 with 1 Axes>"
      ]
     },
     "metadata": {
      "needs_background": "light"
     },
     "output_type": "display_data"
    },
    {
     "data": {
      "image/png": "[encoded data removed]",
      "text/plain": [
       "<Figure size 576x360 with 1 Axes>"
      ]
     },
     "metadata": {
      "needs_background": "light"
     },
     "output_type": "display_data"
    },
    {
     "data": {
      "image/png": "[encoded data removed]",
      "text/plain": [
       "<Figure size 576x360 with 1 Axes>"
      ]
     },
     "metadata": {
      "needs_background": "light"
     },
     "output_type": "display_data"
    },
    {
     "data": {
      "image/png": "[encoded data removed]",
      "text/plain": [
       "<Figure size 576x360 with 1 Axes>"
      ]
     },
     "metadata": {
      "needs_background": "light"
     },
     "output_type": "display_data"
    },
    {
     "data": {
      "image/png": "[encoded data removed]",
      "text/plain": [
       "<Figure size 576x360 with 1 Axes>"
      ]
     },
     "metadata": {
      "needs_background": "light"
     },
     "output_type": "display_data"
    }
   ],
   "source": [
    "for i in cat_columns:\n",
    "    plt.figure(figsize=(8,5))\n",
    "    sns.countplot(train[\"is_pass\"],hue=train[i])\n",
    "    plt.legend(loc=2)\n",
    "    plt.title(i)\n",
    "    plt.tight_layout()\n",
    "    plt.show()"
   ]
  },
  {
   "cell_type": "markdown",
   "metadata": {},
   "source": [
    "### Analyzed Results\n",
    "\n",
    "1. Y-program type generates most pass outcomes and T-program type generates most failed outcomes.\n",
    "2. In case of offline test type,pass ratio is more when compared to online test type.\n",
    "3. Pass ratio is more when difficulty level is 'easy'.\n",
    "4. More male trainees have passed in comparison with females.\n",
    "5. High-school diploma trainees have passed in more number.\n",
    "6. Non-handicapped trainees have passed in more number."
   ]
  },
  {
   "cell_type": "markdown",
   "metadata": {},
   "source": [
    "### NUMERICAL FEATURES"
   ]
  },
  {
   "cell_type": "code",
   "execution_count": 27,
   "metadata": {},
   "outputs": [
    {
     "data": {
      "image/png": "[encoded data removed]",
      "text/plain": [
       "<Figure size 576x432 with 1 Axes>"
      ]
     },
     "metadata": {
      "needs_background": "light"
     },
     "output_type": "display_data"
    }
   ],
   "source": [
    "plt.figure(figsize=(8,6))\n",
    "sns.countplot(train['is_pass'],hue=train['city_tier'])\n",
    "plt.legend(loc=2)\n",
    "plt.title(\"City Tier\")\n",
    "plt.show()"
   ]
  },
  {
   "cell_type": "code",
   "execution_count": 28,
   "metadata": {},
   "outputs": [
    {
     "data": {
      "image/png": "[encoded data removed]",
      "text/plain": [
       "<Figure size 576x432 with 1 Axes>"
      ]
     },
     "metadata": {
      "needs_background": "light"
     },
     "output_type": "display_data"
    }
   ],
   "source": [
    "plt.figure(figsize=(8,6))\n",
    "sns.countplot(train['program_duration'],hue=train['is_pass'])\n",
    "plt.legend(loc=2)\n",
    "plt.title(\"Passed/Failed as per Program Duration\")\n",
    "plt.show()"
   ]
  },
  {
   "cell_type": "code",
   "execution_count": 29,
   "metadata": {},
   "outputs": [
    {
     "data": {
      "image/png": "[encoded data removed]",
      "text/plain": [
       "<Figure size 576x432 with 1 Axes>"
      ]
     },
     "metadata": {
      "needs_background": "light"
     },
     "output_type": "display_data"
    }
   ],
   "source": [
    "plt.figure(figsize=(8,6))\n",
    "sns.barplot(train[\"is_pass\"],train[\"age\"])\n",
    "plt.show()"
   ]
  },
  {
   "cell_type": "code",
   "execution_count": 30,
   "metadata": {},
   "outputs": [
    {
     "data": {
      "image/png": "[encoded data removed]",
      "text/plain": [
       "<Figure size 576x432 with 1 Axes>"
      ]
     },
     "metadata": {
      "needs_background": "light"
     },
     "output_type": "display_data"
    }
   ],
   "source": [
    "plt.figure(figsize=(8,6))\n",
    "sns.countplot(train['total_programs_enrolled'],hue=train['is_pass'])\n",
    "plt.legend(loc=1)\n",
    "plt.title(\"Passed/Failed as per total programs enrolled\")\n",
    "plt.show()"
   ]
  },
  {
   "cell_type": "code",
   "execution_count": 31,
   "metadata": {},
   "outputs": [
    {
     "data": {
      "image/png": "[encoded data removed]",
      "text/plain": [
       "<Figure size 576x432 with 1 Axes>"
      ]
     },
     "metadata": {
      "needs_background": "light"
     },
     "output_type": "display_data"
    }
   ],
   "source": [
    "plt.figure(figsize=(8,6))\n",
    "sns.barplot(train[\"is_pass\"],train[\"trainee_engagement_rating\"])\n",
    "plt.show()"
   ]
  },
  {
   "cell_type": "markdown",
   "metadata": {},
   "source": [
    "### Analyzed Results\n",
    "\n",
    "1. For a 134 days Program duration followed by a 120 days program duration pass ration is high.\n",
    "2. More trainees from tier-3 city have passed.\n",
    "3. Trainees with 35+ age have passed in more number.\n",
    "4. Trainees who have enrolled in 2 programs have passed in more number followed by trainees with 4-programs enrollment.\n",
    "5. An average trainee engagement rating of more than 2 have resulted in more number of passed trainees. "
   ]
  },
  {
   "cell_type": "markdown",
   "metadata": {},
   "source": [
    "# DATA PRE-PROCESSING"
   ]
  },
  {
   "cell_type": "code",
   "execution_count": 32,
   "metadata": {},
   "outputs": [],
   "source": [
    "train_cat = train[cat_columns]\n",
    "train_num = train[num_columns]"
   ]
  },
  {
   "cell_type": "code",
   "execution_count": 33,
   "metadata": {},
   "outputs": [
    {
     "data": {
      "text/plain": [
       "(51202, 6)"
      ]
     },
     "execution_count": 33,
     "metadata": {},
     "output_type": "execute_result"
    }
   ],
   "source": [
    "train_cat.shape"
   ]
  },
  {
   "cell_type": "code",
   "execution_count": 34,
   "metadata": {},
   "outputs": [
    {
     "data": {
      "text/html": [
       "<div>\n",
       "<style scoped>\n",
       "    .dataframe tbody tr th:only-of-type {\n",
       "        vertical-align: middle;\n",
       "    }\n",
       "\n",
       "    .dataframe tbody tr th {\n",
       "        vertical-align: top;\n",
       "    }\n",
       "\n",
       "    .dataframe thead th {\n",
       "        text-align: right;\n",
       "    }\n",
       "</style>\n",
       "<table border=\"1\" class=\"dataframe\">\n",
       "  <thead>\n",
       "    <tr style=\"text-align: right;\">\n",
       "      <th></th>\n",
       "      <th>program_type_T</th>\n",
       "      <th>program_type_U</th>\n",
       "      <th>program_type_V</th>\n",
       "      <th>program_type_X</th>\n",
       "      <th>program_type_Y</th>\n",
       "      <th>program_type_Z</th>\n",
       "      <th>test_type_online</th>\n",
       "      <th>difficulty_level_hard</th>\n",
       "      <th>difficulty_level_intermediate</th>\n",
       "      <th>difficulty_level_vary hard</th>\n",
       "      <th>gender_M</th>\n",
       "      <th>education_High School Diploma</th>\n",
       "      <th>education_Masters</th>\n",
       "      <th>education_Matriculation</th>\n",
       "      <th>education_No Qualification</th>\n",
       "      <th>is_handicapped_Y</th>\n",
       "    </tr>\n",
       "  </thead>\n",
       "  <tbody>\n",
       "    <tr>\n",
       "      <th>0</th>\n",
       "      <td>1</td>\n",
       "      <td>0</td>\n",
       "      <td>0</td>\n",
       "      <td>0</td>\n",
       "      <td>0</td>\n",
       "      <td>0</td>\n",
       "      <td>0</td>\n",
       "      <td>0</td>\n",
       "      <td>1</td>\n",
       "      <td>0</td>\n",
       "      <td>0</td>\n",
       "      <td>0</td>\n",
       "      <td>0</td>\n",
       "      <td>1</td>\n",
       "      <td>0</td>\n",
       "      <td>0</td>\n",
       "    </tr>\n",
       "    <tr>\n",
       "      <th>1</th>\n",
       "      <td>0</td>\n",
       "      <td>0</td>\n",
       "      <td>0</td>\n",
       "      <td>0</td>\n",
       "      <td>1</td>\n",
       "      <td>0</td>\n",
       "      <td>0</td>\n",
       "      <td>1</td>\n",
       "      <td>0</td>\n",
       "      <td>0</td>\n",
       "      <td>1</td>\n",
       "      <td>0</td>\n",
       "      <td>0</td>\n",
       "      <td>1</td>\n",
       "      <td>0</td>\n",
       "      <td>0</td>\n",
       "    </tr>\n",
       "    <tr>\n",
       "      <th>2</th>\n",
       "      <td>0</td>\n",
       "      <td>0</td>\n",
       "      <td>1</td>\n",
       "      <td>0</td>\n",
       "      <td>0</td>\n",
       "      <td>0</td>\n",
       "      <td>1</td>\n",
       "      <td>0</td>\n",
       "      <td>0</td>\n",
       "      <td>0</td>\n",
       "      <td>1</td>\n",
       "      <td>0</td>\n",
       "      <td>0</td>\n",
       "      <td>1</td>\n",
       "      <td>0</td>\n",
       "      <td>0</td>\n",
       "    </tr>\n",
       "    <tr>\n",
       "      <th>3</th>\n",
       "      <td>0</td>\n",
       "      <td>0</td>\n",
       "      <td>1</td>\n",
       "      <td>0</td>\n",
       "      <td>0</td>\n",
       "      <td>0</td>\n",
       "      <td>0</td>\n",
       "      <td>0</td>\n",
       "      <td>0</td>\n",
       "      <td>1</td>\n",
       "      <td>0</td>\n",
       "      <td>1</td>\n",
       "      <td>0</td>\n",
       "      <td>0</td>\n",
       "      <td>0</td>\n",
       "      <td>1</td>\n",
       "    </tr>\n",
       "    <tr>\n",
       "      <th>4</th>\n",
       "      <td>0</td>\n",
       "      <td>0</td>\n",
       "      <td>0</td>\n",
       "      <td>0</td>\n",
       "      <td>1</td>\n",
       "      <td>0</td>\n",
       "      <td>0</td>\n",
       "      <td>0</td>\n",
       "      <td>1</td>\n",
       "      <td>0</td>\n",
       "      <td>1</td>\n",
       "      <td>1</td>\n",
       "      <td>0</td>\n",
       "      <td>0</td>\n",
       "      <td>0</td>\n",
       "      <td>0</td>\n",
       "    </tr>\n",
       "  </tbody>\n",
       "</table>\n",
       "</div>"
      ],
      "text/plain": [
       "   program_type_T  program_type_U  program_type_V  program_type_X  \\\n",
       "0               1               0               0               0   \n",
       "1               0               0               0               0   \n",
       "2               0               0               1               0   \n",
       "3               0               0               1               0   \n",
       "4               0               0               0               0   \n",
       "\n",
       "   program_type_Y  program_type_Z  test_type_online  difficulty_level_hard  \\\n",
       "0               0               0                 0                      0   \n",
       "1               1               0                 0                      1   \n",
       "2               0               0                 1                      0   \n",
       "3               0               0                 0                      0   \n",
       "4               1               0                 0                      0   \n",
       "\n",
       "   difficulty_level_intermediate  difficulty_level_vary hard  gender_M  \\\n",
       "0                              1                           0         0   \n",
       "1                              0                           0         1   \n",
       "2                              0                           0         1   \n",
       "3                              0                           1         0   \n",
       "4                              1                           0         1   \n",
       "\n",
       "   education_High School Diploma  education_Masters  education_Matriculation  \\\n",
       "0                              0                  0                        1   \n",
       "1                              0                  0                        1   \n",
       "2                              0                  0                        1   \n",
       "3                              1                  0                        0   \n",
       "4                              1                  0                        0   \n",
       "\n",
       "   education_No Qualification  is_handicapped_Y  \n",
       "0                           0                 0  \n",
       "1                           0                 0  \n",
       "2                           0                 0  \n",
       "3                           0                 1  \n",
       "4                           0                 0  "
      ]
     },
     "execution_count": 34,
     "metadata": {},
     "output_type": "execute_result"
    }
   ],
   "source": [
    "train_cat_dummy = pd.get_dummies(train_cat,prefix_sep=\"_\",drop_first=True)\n",
    "train_cat_dummy.head()"
   ]
  },
  {
   "cell_type": "code",
   "execution_count": 35,
   "metadata": {},
   "outputs": [
    {
     "data": {
      "text/html": [
       "<div>\n",
       "<style scoped>\n",
       "    .dataframe tbody tr th:only-of-type {\n",
       "        vertical-align: middle;\n",
       "    }\n",
       "\n",
       "    .dataframe tbody tr th {\n",
       "        vertical-align: top;\n",
       "    }\n",
       "\n",
       "    .dataframe thead th {\n",
       "        text-align: right;\n",
       "    }\n",
       "</style>\n",
       "<table border=\"1\" class=\"dataframe\">\n",
       "  <thead>\n",
       "    <tr style=\"text-align: right;\">\n",
       "      <th></th>\n",
       "      <th>program_duration</th>\n",
       "      <th>city_tier</th>\n",
       "      <th>age</th>\n",
       "      <th>total_programs_enrolled</th>\n",
       "      <th>trainee_engagement_rating</th>\n",
       "      <th>is_pass</th>\n",
       "      <th>program_type_T</th>\n",
       "      <th>program_type_U</th>\n",
       "      <th>program_type_V</th>\n",
       "      <th>program_type_X</th>\n",
       "      <th>...</th>\n",
       "      <th>test_type_online</th>\n",
       "      <th>difficulty_level_hard</th>\n",
       "      <th>difficulty_level_intermediate</th>\n",
       "      <th>difficulty_level_vary hard</th>\n",
       "      <th>gender_M</th>\n",
       "      <th>education_High School Diploma</th>\n",
       "      <th>education_Masters</th>\n",
       "      <th>education_Matriculation</th>\n",
       "      <th>education_No Qualification</th>\n",
       "      <th>is_handicapped_Y</th>\n",
       "    </tr>\n",
       "  </thead>\n",
       "  <tbody>\n",
       "    <tr>\n",
       "      <th>0</th>\n",
       "      <td>117</td>\n",
       "      <td>2</td>\n",
       "      <td>43.000000</td>\n",
       "      <td>2</td>\n",
       "      <td>1.0</td>\n",
       "      <td>1</td>\n",
       "      <td>1</td>\n",
       "      <td>0</td>\n",
       "      <td>0</td>\n",
       "      <td>0</td>\n",
       "      <td>...</td>\n",
       "      <td>0</td>\n",
       "      <td>0</td>\n",
       "      <td>1</td>\n",
       "      <td>0</td>\n",
       "      <td>0</td>\n",
       "      <td>0</td>\n",
       "      <td>0</td>\n",
       "      <td>1</td>\n",
       "      <td>0</td>\n",
       "      <td>0</td>\n",
       "    </tr>\n",
       "    <tr>\n",
       "      <th>1</th>\n",
       "      <td>120</td>\n",
       "      <td>2</td>\n",
       "      <td>35.718915</td>\n",
       "      <td>2</td>\n",
       "      <td>3.0</td>\n",
       "      <td>1</td>\n",
       "      <td>0</td>\n",
       "      <td>0</td>\n",
       "      <td>0</td>\n",
       "      <td>0</td>\n",
       "      <td>...</td>\n",
       "      <td>0</td>\n",
       "      <td>1</td>\n",
       "      <td>0</td>\n",
       "      <td>0</td>\n",
       "      <td>1</td>\n",
       "      <td>0</td>\n",
       "      <td>0</td>\n",
       "      <td>1</td>\n",
       "      <td>0</td>\n",
       "      <td>0</td>\n",
       "    </tr>\n",
       "    <tr>\n",
       "      <th>2</th>\n",
       "      <td>122</td>\n",
       "      <td>1</td>\n",
       "      <td>35.252582</td>\n",
       "      <td>2</td>\n",
       "      <td>3.0</td>\n",
       "      <td>1</td>\n",
       "      <td>0</td>\n",
       "      <td>0</td>\n",
       "      <td>1</td>\n",
       "      <td>0</td>\n",
       "      <td>...</td>\n",
       "      <td>1</td>\n",
       "      <td>0</td>\n",
       "      <td>0</td>\n",
       "      <td>0</td>\n",
       "      <td>1</td>\n",
       "      <td>0</td>\n",
       "      <td>0</td>\n",
       "      <td>1</td>\n",
       "      <td>0</td>\n",
       "      <td>0</td>\n",
       "    </tr>\n",
       "    <tr>\n",
       "      <th>3</th>\n",
       "      <td>133</td>\n",
       "      <td>3</td>\n",
       "      <td>30.000000</td>\n",
       "      <td>2</td>\n",
       "      <td>1.0</td>\n",
       "      <td>0</td>\n",
       "      <td>0</td>\n",
       "      <td>0</td>\n",
       "      <td>1</td>\n",
       "      <td>0</td>\n",
       "      <td>...</td>\n",
       "      <td>0</td>\n",
       "      <td>0</td>\n",
       "      <td>0</td>\n",
       "      <td>1</td>\n",
       "      <td>0</td>\n",
       "      <td>1</td>\n",
       "      <td>0</td>\n",
       "      <td>0</td>\n",
       "      <td>0</td>\n",
       "      <td>1</td>\n",
       "    </tr>\n",
       "    <tr>\n",
       "      <th>4</th>\n",
       "      <td>121</td>\n",
       "      <td>3</td>\n",
       "      <td>34.835922</td>\n",
       "      <td>2</td>\n",
       "      <td>5.0</td>\n",
       "      <td>1</td>\n",
       "      <td>0</td>\n",
       "      <td>0</td>\n",
       "      <td>0</td>\n",
       "      <td>0</td>\n",
       "      <td>...</td>\n",
       "      <td>0</td>\n",
       "      <td>0</td>\n",
       "      <td>1</td>\n",
       "      <td>0</td>\n",
       "      <td>1</td>\n",
       "      <td>1</td>\n",
       "      <td>0</td>\n",
       "      <td>0</td>\n",
       "      <td>0</td>\n",
       "      <td>0</td>\n",
       "    </tr>\n",
       "  </tbody>\n",
       "</table>\n",
       "<p>5 rows × 22 columns</p>\n",
       "</div>"
      ],
      "text/plain": [
       "   program_duration  city_tier        age  total_programs_enrolled  \\\n",
       "0               117          2  43.000000                        2   \n",
       "1               120          2  35.718915                        2   \n",
       "2               122          1  35.252582                        2   \n",
       "3               133          3  30.000000                        2   \n",
       "4               121          3  34.835922                        2   \n",
       "\n",
       "   trainee_engagement_rating  is_pass  program_type_T  program_type_U  \\\n",
       "0                        1.0        1               1               0   \n",
       "1                        3.0        1               0               0   \n",
       "2                        3.0        1               0               0   \n",
       "3                        1.0        0               0               0   \n",
       "4                        5.0        1               0               0   \n",
       "\n",
       "   program_type_V  program_type_X  ...  test_type_online  \\\n",
       "0               0               0  ...                 0   \n",
       "1               0               0  ...                 0   \n",
       "2               1               0  ...                 1   \n",
       "3               1               0  ...                 0   \n",
       "4               0               0  ...                 0   \n",
       "\n",
       "   difficulty_level_hard  difficulty_level_intermediate  \\\n",
       "0                      0                              1   \n",
       "1                      1                              0   \n",
       "2                      0                              0   \n",
       "3                      0                              0   \n",
       "4                      0                              1   \n",
       "\n",
       "   difficulty_level_vary hard  gender_M  education_High School Diploma  \\\n",
       "0                           0         0                              0   \n",
       "1                           0         1                              0   \n",
       "2                           0         1                              0   \n",
       "3                           1         0                              1   \n",
       "4                           0         1                              1   \n",
       "\n",
       "   education_Masters  education_Matriculation  education_No Qualification  \\\n",
       "0                  0                        1                           0   \n",
       "1                  0                        1                           0   \n",
       "2                  0                        1                           0   \n",
       "3                  0                        0                           0   \n",
       "4                  0                        0                           0   \n",
       "\n",
       "   is_handicapped_Y  \n",
       "0                 0  \n",
       "1                 0  \n",
       "2                 0  \n",
       "3                 1  \n",
       "4                 0  \n",
       "\n",
       "[5 rows x 22 columns]"
      ]
     },
     "execution_count": 35,
     "metadata": {},
     "output_type": "execute_result"
    }
   ],
   "source": [
    "Train = train_num.join(train_cat_dummy)\n",
    "Train.head()"
   ]
  },
  {
   "cell_type": "markdown",
   "metadata": {},
   "source": [
    "### Pre-processing the Test dataset"
   ]
  },
  {
   "cell_type": "code",
   "execution_count": 36,
   "metadata": {},
   "outputs": [
    {
     "data": {
      "text/plain": [
       "['program_type',\n",
       " 'test_type',\n",
       " 'difficulty_level',\n",
       " 'gender',\n",
       " 'education',\n",
       " 'is_handicapped']"
      ]
     },
     "execution_count": 36,
     "metadata": {},
     "output_type": "execute_result"
    }
   ],
   "source": [
    "test_num = list(test._get_numeric_data().columns)\n",
    "test_all = list(test.columns)\n",
    "test_cat = []\n",
    "for i in test_all:\n",
    "    if i not in test_num:\n",
    "        test_cat.append(i)\n",
    "test_cat"
   ]
  },
  {
   "cell_type": "code",
   "execution_count": 37,
   "metadata": {},
   "outputs": [
    {
     "data": {
      "text/html": [
       "<div>\n",
       "<style scoped>\n",
       "    .dataframe tbody tr th:only-of-type {\n",
       "        vertical-align: middle;\n",
       "    }\n",
       "\n",
       "    .dataframe tbody tr th {\n",
       "        vertical-align: top;\n",
       "    }\n",
       "\n",
       "    .dataframe thead th {\n",
       "        text-align: right;\n",
       "    }\n",
       "</style>\n",
       "<table border=\"1\" class=\"dataframe\">\n",
       "  <thead>\n",
       "    <tr style=\"text-align: right;\">\n",
       "      <th></th>\n",
       "      <th>program_type_T</th>\n",
       "      <th>program_type_U</th>\n",
       "      <th>program_type_V</th>\n",
       "      <th>program_type_X</th>\n",
       "      <th>program_type_Y</th>\n",
       "      <th>program_type_Z</th>\n",
       "      <th>test_type_online</th>\n",
       "      <th>difficulty_level_hard</th>\n",
       "      <th>difficulty_level_intermediate</th>\n",
       "      <th>difficulty_level_vary hard</th>\n",
       "      <th>gender_M</th>\n",
       "      <th>education_High School Diploma</th>\n",
       "      <th>education_Masters</th>\n",
       "      <th>education_Matriculation</th>\n",
       "      <th>education_No Qualification</th>\n",
       "      <th>is_handicapped_Y</th>\n",
       "    </tr>\n",
       "  </thead>\n",
       "  <tbody>\n",
       "    <tr>\n",
       "      <th>0</th>\n",
       "      <td>0</td>\n",
       "      <td>0</td>\n",
       "      <td>0</td>\n",
       "      <td>0</td>\n",
       "      <td>1</td>\n",
       "      <td>0</td>\n",
       "      <td>0</td>\n",
       "      <td>0</td>\n",
       "      <td>1</td>\n",
       "      <td>0</td>\n",
       "      <td>1</td>\n",
       "      <td>0</td>\n",
       "      <td>0</td>\n",
       "      <td>1</td>\n",
       "      <td>0</td>\n",
       "      <td>1</td>\n",
       "    </tr>\n",
       "    <tr>\n",
       "      <th>1</th>\n",
       "      <td>1</td>\n",
       "      <td>0</td>\n",
       "      <td>0</td>\n",
       "      <td>0</td>\n",
       "      <td>0</td>\n",
       "      <td>0</td>\n",
       "      <td>0</td>\n",
       "      <td>0</td>\n",
       "      <td>1</td>\n",
       "      <td>0</td>\n",
       "      <td>0</td>\n",
       "      <td>0</td>\n",
       "      <td>0</td>\n",
       "      <td>1</td>\n",
       "      <td>0</td>\n",
       "      <td>1</td>\n",
       "    </tr>\n",
       "    <tr>\n",
       "      <th>2</th>\n",
       "      <td>0</td>\n",
       "      <td>0</td>\n",
       "      <td>1</td>\n",
       "      <td>0</td>\n",
       "      <td>0</td>\n",
       "      <td>0</td>\n",
       "      <td>0</td>\n",
       "      <td>0</td>\n",
       "      <td>1</td>\n",
       "      <td>0</td>\n",
       "      <td>0</td>\n",
       "      <td>1</td>\n",
       "      <td>0</td>\n",
       "      <td>0</td>\n",
       "      <td>0</td>\n",
       "      <td>0</td>\n",
       "    </tr>\n",
       "    <tr>\n",
       "      <th>3</th>\n",
       "      <td>0</td>\n",
       "      <td>0</td>\n",
       "      <td>1</td>\n",
       "      <td>0</td>\n",
       "      <td>0</td>\n",
       "      <td>0</td>\n",
       "      <td>0</td>\n",
       "      <td>0</td>\n",
       "      <td>1</td>\n",
       "      <td>0</td>\n",
       "      <td>1</td>\n",
       "      <td>0</td>\n",
       "      <td>0</td>\n",
       "      <td>1</td>\n",
       "      <td>0</td>\n",
       "      <td>0</td>\n",
       "    </tr>\n",
       "    <tr>\n",
       "      <th>4</th>\n",
       "      <td>0</td>\n",
       "      <td>0</td>\n",
       "      <td>0</td>\n",
       "      <td>0</td>\n",
       "      <td>1</td>\n",
       "      <td>0</td>\n",
       "      <td>1</td>\n",
       "      <td>0</td>\n",
       "      <td>0</td>\n",
       "      <td>0</td>\n",
       "      <td>1</td>\n",
       "      <td>1</td>\n",
       "      <td>0</td>\n",
       "      <td>0</td>\n",
       "      <td>0</td>\n",
       "      <td>0</td>\n",
       "    </tr>\n",
       "  </tbody>\n",
       "</table>\n",
       "</div>"
      ],
      "text/plain": [
       "   program_type_T  program_type_U  program_type_V  program_type_X  \\\n",
       "0               0               0               0               0   \n",
       "1               1               0               0               0   \n",
       "2               0               0               1               0   \n",
       "3               0               0               1               0   \n",
       "4               0               0               0               0   \n",
       "\n",
       "   program_type_Y  program_type_Z  test_type_online  difficulty_level_hard  \\\n",
       "0               1               0                 0                      0   \n",
       "1               0               0                 0                      0   \n",
       "2               0               0                 0                      0   \n",
       "3               0               0                 0                      0   \n",
       "4               1               0                 1                      0   \n",
       "\n",
       "   difficulty_level_intermediate  difficulty_level_vary hard  gender_M  \\\n",
       "0                              1                           0         1   \n",
       "1                              1                           0         0   \n",
       "2                              1                           0         0   \n",
       "3                              1                           0         1   \n",
       "4                              0                           0         1   \n",
       "\n",
       "   education_High School Diploma  education_Masters  education_Matriculation  \\\n",
       "0                              0                  0                        1   \n",
       "1                              0                  0                        1   \n",
       "2                              1                  0                        0   \n",
       "3                              0                  0                        1   \n",
       "4                              1                  0                        0   \n",
       "\n",
       "   education_No Qualification  is_handicapped_Y  \n",
       "0                           0                 1  \n",
       "1                           0                 1  \n",
       "2                           0                 0  \n",
       "3                           0                 0  \n",
       "4                           0                 0  "
      ]
     },
     "execution_count": 37,
     "metadata": {},
     "output_type": "execute_result"
    }
   ],
   "source": [
    "testnum = test[test_num]\n",
    "testcat = test[test_cat]\n",
    "testcat_dummy = pd.get_dummies(testcat,prefix_sep='_',drop_first=True)\n",
    "testcat_dummy.head()"
   ]
  },
  {
   "cell_type": "code",
   "execution_count": 38,
   "metadata": {},
   "outputs": [
    {
     "data": {
      "text/html": [
       "<div>\n",
       "<style scoped>\n",
       "    .dataframe tbody tr th:only-of-type {\n",
       "        vertical-align: middle;\n",
       "    }\n",
       "\n",
       "    .dataframe tbody tr th {\n",
       "        vertical-align: top;\n",
       "    }\n",
       "\n",
       "    .dataframe thead th {\n",
       "        text-align: right;\n",
       "    }\n",
       "</style>\n",
       "<table border=\"1\" class=\"dataframe\">\n",
       "  <thead>\n",
       "    <tr style=\"text-align: right;\">\n",
       "      <th></th>\n",
       "      <th>program_duration</th>\n",
       "      <th>city_tier</th>\n",
       "      <th>age</th>\n",
       "      <th>total_programs_enrolled</th>\n",
       "      <th>trainee_engagement_rating</th>\n",
       "      <th>program_type_T</th>\n",
       "      <th>program_type_U</th>\n",
       "      <th>program_type_V</th>\n",
       "      <th>program_type_X</th>\n",
       "      <th>program_type_Y</th>\n",
       "      <th>...</th>\n",
       "      <th>test_type_online</th>\n",
       "      <th>difficulty_level_hard</th>\n",
       "      <th>difficulty_level_intermediate</th>\n",
       "      <th>difficulty_level_vary hard</th>\n",
       "      <th>gender_M</th>\n",
       "      <th>education_High School Diploma</th>\n",
       "      <th>education_Masters</th>\n",
       "      <th>education_Matriculation</th>\n",
       "      <th>education_No Qualification</th>\n",
       "      <th>is_handicapped_Y</th>\n",
       "    </tr>\n",
       "  </thead>\n",
       "  <tbody>\n",
       "    <tr>\n",
       "      <th>0</th>\n",
       "      <td>136</td>\n",
       "      <td>1</td>\n",
       "      <td>42.000000</td>\n",
       "      <td>2</td>\n",
       "      <td>3.0</td>\n",
       "      <td>0</td>\n",
       "      <td>0</td>\n",
       "      <td>0</td>\n",
       "      <td>0</td>\n",
       "      <td>1</td>\n",
       "      <td>...</td>\n",
       "      <td>0</td>\n",
       "      <td>0</td>\n",
       "      <td>1</td>\n",
       "      <td>0</td>\n",
       "      <td>1</td>\n",
       "      <td>0</td>\n",
       "      <td>0</td>\n",
       "      <td>1</td>\n",
       "      <td>0</td>\n",
       "      <td>1</td>\n",
       "    </tr>\n",
       "    <tr>\n",
       "      <th>1</th>\n",
       "      <td>134</td>\n",
       "      <td>3</td>\n",
       "      <td>25.000000</td>\n",
       "      <td>2</td>\n",
       "      <td>1.0</td>\n",
       "      <td>1</td>\n",
       "      <td>0</td>\n",
       "      <td>0</td>\n",
       "      <td>0</td>\n",
       "      <td>0</td>\n",
       "      <td>...</td>\n",
       "      <td>0</td>\n",
       "      <td>0</td>\n",
       "      <td>1</td>\n",
       "      <td>0</td>\n",
       "      <td>0</td>\n",
       "      <td>0</td>\n",
       "      <td>0</td>\n",
       "      <td>1</td>\n",
       "      <td>0</td>\n",
       "      <td>1</td>\n",
       "    </tr>\n",
       "    <tr>\n",
       "      <th>2</th>\n",
       "      <td>131</td>\n",
       "      <td>3</td>\n",
       "      <td>24.000000</td>\n",
       "      <td>3</td>\n",
       "      <td>1.0</td>\n",
       "      <td>0</td>\n",
       "      <td>0</td>\n",
       "      <td>1</td>\n",
       "      <td>0</td>\n",
       "      <td>0</td>\n",
       "      <td>...</td>\n",
       "      <td>0</td>\n",
       "      <td>0</td>\n",
       "      <td>1</td>\n",
       "      <td>0</td>\n",
       "      <td>0</td>\n",
       "      <td>1</td>\n",
       "      <td>0</td>\n",
       "      <td>0</td>\n",
       "      <td>0</td>\n",
       "      <td>0</td>\n",
       "    </tr>\n",
       "    <tr>\n",
       "      <th>3</th>\n",
       "      <td>131</td>\n",
       "      <td>3</td>\n",
       "      <td>35.093137</td>\n",
       "      <td>4</td>\n",
       "      <td>3.0</td>\n",
       "      <td>0</td>\n",
       "      <td>0</td>\n",
       "      <td>1</td>\n",
       "      <td>0</td>\n",
       "      <td>0</td>\n",
       "      <td>...</td>\n",
       "      <td>0</td>\n",
       "      <td>0</td>\n",
       "      <td>1</td>\n",
       "      <td>0</td>\n",
       "      <td>1</td>\n",
       "      <td>0</td>\n",
       "      <td>0</td>\n",
       "      <td>1</td>\n",
       "      <td>0</td>\n",
       "      <td>0</td>\n",
       "    </tr>\n",
       "    <tr>\n",
       "      <th>4</th>\n",
       "      <td>136</td>\n",
       "      <td>1</td>\n",
       "      <td>45.000000</td>\n",
       "      <td>3</td>\n",
       "      <td>4.0</td>\n",
       "      <td>0</td>\n",
       "      <td>0</td>\n",
       "      <td>0</td>\n",
       "      <td>0</td>\n",
       "      <td>1</td>\n",
       "      <td>...</td>\n",
       "      <td>1</td>\n",
       "      <td>0</td>\n",
       "      <td>0</td>\n",
       "      <td>0</td>\n",
       "      <td>1</td>\n",
       "      <td>1</td>\n",
       "      <td>0</td>\n",
       "      <td>0</td>\n",
       "      <td>0</td>\n",
       "      <td>0</td>\n",
       "    </tr>\n",
       "  </tbody>\n",
       "</table>\n",
       "<p>5 rows × 21 columns</p>\n",
       "</div>"
      ],
      "text/plain": [
       "   program_duration  city_tier        age  total_programs_enrolled  \\\n",
       "0               136          1  42.000000                        2   \n",
       "1               134          3  25.000000                        2   \n",
       "2               131          3  24.000000                        3   \n",
       "3               131          3  35.093137                        4   \n",
       "4               136          1  45.000000                        3   \n",
       "\n",
       "   trainee_engagement_rating  program_type_T  program_type_U  program_type_V  \\\n",
       "0                        3.0               0               0               0   \n",
       "1                        1.0               1               0               0   \n",
       "2                        1.0               0               0               1   \n",
       "3                        3.0               0               0               1   \n",
       "4                        4.0               0               0               0   \n",
       "\n",
       "   program_type_X  program_type_Y  ...  test_type_online  \\\n",
       "0               0               1  ...                 0   \n",
       "1               0               0  ...                 0   \n",
       "2               0               0  ...                 0   \n",
       "3               0               0  ...                 0   \n",
       "4               0               1  ...                 1   \n",
       "\n",
       "   difficulty_level_hard  difficulty_level_intermediate  \\\n",
       "0                      0                              1   \n",
       "1                      0                              1   \n",
       "2                      0                              1   \n",
       "3                      0                              1   \n",
       "4                      0                              0   \n",
       "\n",
       "   difficulty_level_vary hard  gender_M  education_High School Diploma  \\\n",
       "0                           0         1                              0   \n",
       "1                           0         0                              0   \n",
       "2                           0         0                              1   \n",
       "3                           0         1                              0   \n",
       "4                           0         1                              1   \n",
       "\n",
       "   education_Masters  education_Matriculation  education_No Qualification  \\\n",
       "0                  0                        1                           0   \n",
       "1                  0                        1                           0   \n",
       "2                  0                        0                           0   \n",
       "3                  0                        1                           0   \n",
       "4                  0                        0                           0   \n",
       "\n",
       "   is_handicapped_Y  \n",
       "0                 1  \n",
       "1                 1  \n",
       "2                 0  \n",
       "3                 0  \n",
       "4                 0  \n",
       "\n",
       "[5 rows x 21 columns]"
      ]
     },
     "execution_count": 38,
     "metadata": {},
     "output_type": "execute_result"
    }
   ],
   "source": [
    "Test = testnum.join(testcat_dummy)\n",
    "Test.head()"
   ]
  },
  {
   "cell_type": "markdown",
   "metadata": {},
   "source": [
    "# MULTICOLLINEARITY CHECK"
   ]
  },
  {
   "cell_type": "code",
   "execution_count": 39,
   "metadata": {},
   "outputs": [
    {
     "data": {
      "image/png": "[encoded data removed]",
      "text/plain": [
       "<Figure size 1440x720 with 2 Axes>"
      ]
     },
     "metadata": {
      "needs_background": "light"
     },
     "output_type": "display_data"
    }
   ],
   "source": [
    "plt.figure(figsize=(20,10))\n",
    "sns.heatmap(abs(Train.corr()),annot=True,linewidths=0.3,cmap=\"Set2\")\n",
    "plt.show()"
   ]
  },
  {
   "cell_type": "code",
   "execution_count": 40,
   "metadata": {},
   "outputs": [],
   "source": [
    "from statsmodels.stats.outliers_influence import variance_inflation_factor\n",
    "X_data = Train.drop([\"is_pass\"],axis=1)\n",
    "Y_data = Train[\"is_pass\"]"
   ]
  },
  {
   "cell_type": "code",
   "execution_count": 41,
   "metadata": {},
   "outputs": [],
   "source": [
    "from sklearn.preprocessing import StandardScaler\n",
    "sc = StandardScaler()\n",
    "x_stand = sc.fit_transform(X_data)"
   ]
  },
  {
   "cell_type": "code",
   "execution_count": 42,
   "metadata": {},
   "outputs": [
    {
     "data": {
      "text/html": [
       "<div>\n",
       "<style scoped>\n",
       "    .dataframe tbody tr th:only-of-type {\n",
       "        vertical-align: middle;\n",
       "    }\n",
       "\n",
       "    .dataframe tbody tr th {\n",
       "        vertical-align: top;\n",
       "    }\n",
       "\n",
       "    .dataframe thead th {\n",
       "        text-align: right;\n",
       "    }\n",
       "</style>\n",
       "<table border=\"1\" class=\"dataframe\">\n",
       "  <thead>\n",
       "    <tr style=\"text-align: right;\">\n",
       "      <th></th>\n",
       "      <th>Score</th>\n",
       "    </tr>\n",
       "    <tr>\n",
       "      <th>Index</th>\n",
       "      <th></th>\n",
       "    </tr>\n",
       "  </thead>\n",
       "  <tbody>\n",
       "    <tr>\n",
       "      <th>program_duration</th>\n",
       "      <td>1.093126</td>\n",
       "    </tr>\n",
       "    <tr>\n",
       "      <th>city_tier</th>\n",
       "      <td>1.027558</td>\n",
       "    </tr>\n",
       "    <tr>\n",
       "      <th>age</th>\n",
       "      <td>1.125639</td>\n",
       "    </tr>\n",
       "    <tr>\n",
       "      <th>total_programs_enrolled</th>\n",
       "      <td>1.185980</td>\n",
       "    </tr>\n",
       "    <tr>\n",
       "      <th>trainee_engagement_rating</th>\n",
       "      <td>1.753509</td>\n",
       "    </tr>\n",
       "    <tr>\n",
       "      <th>program_type_T</th>\n",
       "      <td>11.673996</td>\n",
       "    </tr>\n",
       "    <tr>\n",
       "      <th>program_type_U</th>\n",
       "      <td>6.235516</td>\n",
       "    </tr>\n",
       "    <tr>\n",
       "      <th>program_type_V</th>\n",
       "      <td>8.974875</td>\n",
       "    </tr>\n",
       "    <tr>\n",
       "      <th>program_type_X</th>\n",
       "      <td>3.465361</td>\n",
       "    </tr>\n",
       "    <tr>\n",
       "      <th>program_type_Y</th>\n",
       "      <td>13.010005</td>\n",
       "    </tr>\n",
       "    <tr>\n",
       "      <th>program_type_Z</th>\n",
       "      <td>5.989861</td>\n",
       "    </tr>\n",
       "    <tr>\n",
       "      <th>test_type_online</th>\n",
       "      <td>2.635257</td>\n",
       "    </tr>\n",
       "    <tr>\n",
       "      <th>difficulty_level_hard</th>\n",
       "      <td>2.194004</td>\n",
       "    </tr>\n",
       "    <tr>\n",
       "      <th>difficulty_level_intermediate</th>\n",
       "      <td>2.366001</td>\n",
       "    </tr>\n",
       "    <tr>\n",
       "      <th>difficulty_level_vary hard</th>\n",
       "      <td>1.239609</td>\n",
       "    </tr>\n",
       "    <tr>\n",
       "      <th>gender_M</th>\n",
       "      <td>1.603823</td>\n",
       "    </tr>\n",
       "    <tr>\n",
       "      <th>education_High School Diploma</th>\n",
       "      <td>2.219876</td>\n",
       "    </tr>\n",
       "    <tr>\n",
       "      <th>education_Masters</th>\n",
       "      <td>1.043659</td>\n",
       "    </tr>\n",
       "    <tr>\n",
       "      <th>education_Matriculation</th>\n",
       "      <td>2.235410</td>\n",
       "    </tr>\n",
       "    <tr>\n",
       "      <th>education_No Qualification</th>\n",
       "      <td>1.051410</td>\n",
       "    </tr>\n",
       "    <tr>\n",
       "      <th>is_handicapped_Y</th>\n",
       "      <td>1.020346</td>\n",
       "    </tr>\n",
       "  </tbody>\n",
       "</table>\n",
       "</div>"
      ],
      "text/plain": [
       "                                   Score\n",
       "Index                                   \n",
       "program_duration                1.093126\n",
       "city_tier                       1.027558\n",
       "age                             1.125639\n",
       "total_programs_enrolled         1.185980\n",
       "trainee_engagement_rating       1.753509\n",
       "program_type_T                 11.673996\n",
       "program_type_U                  6.235516\n",
       "program_type_V                  8.974875\n",
       "program_type_X                  3.465361\n",
       "program_type_Y                 13.010005\n",
       "program_type_Z                  5.989861\n",
       "test_type_online                2.635257\n",
       "difficulty_level_hard           2.194004\n",
       "difficulty_level_intermediate   2.366001\n",
       "difficulty_level_vary hard      1.239609\n",
       "gender_M                        1.603823\n",
       "education_High School Diploma   2.219876\n",
       "education_Masters               1.043659\n",
       "education_Matriculation         2.235410\n",
       "education_No Qualification      1.051410\n",
       "is_handicapped_Y                1.020346"
      ]
     },
     "execution_count": 42,
     "metadata": {},
     "output_type": "execute_result"
    }
   ],
   "source": [
    "vif = pd.DataFrame()\n",
    "vif[\"Index\"] = X_data.keys()\n",
    "vif[\"Score\"] = [variance_inflation_factor(x_stand,i) for i in range(len(X_data.keys()))]\n",
    "vif.set_index([\"Index\"] , inplace = True)\n",
    "vif"
   ]
  },
  {
   "cell_type": "markdown",
   "metadata": {},
   "source": [
    "#### We can see program type T and Y have high VIF, Hence dropping program type Y "
   ]
  },
  {
   "cell_type": "code",
   "execution_count": 43,
   "metadata": {},
   "outputs": [],
   "source": [
    "X_data = Train.drop([\"is_pass\" , \"program_type_Y\"],axis=1)"
   ]
  },
  {
   "cell_type": "code",
   "execution_count": 44,
   "metadata": {},
   "outputs": [
    {
     "data": {
      "text/html": [
       "<div>\n",
       "<style scoped>\n",
       "    .dataframe tbody tr th:only-of-type {\n",
       "        vertical-align: middle;\n",
       "    }\n",
       "\n",
       "    .dataframe tbody tr th {\n",
       "        vertical-align: top;\n",
       "    }\n",
       "\n",
       "    .dataframe thead th {\n",
       "        text-align: right;\n",
       "    }\n",
       "</style>\n",
       "<table border=\"1\" class=\"dataframe\">\n",
       "  <thead>\n",
       "    <tr style=\"text-align: right;\">\n",
       "      <th></th>\n",
       "      <th>Score</th>\n",
       "    </tr>\n",
       "    <tr>\n",
       "      <th>Index</th>\n",
       "      <th></th>\n",
       "    </tr>\n",
       "  </thead>\n",
       "  <tbody>\n",
       "    <tr>\n",
       "      <th>program_duration</th>\n",
       "      <td>1.083866</td>\n",
       "    </tr>\n",
       "    <tr>\n",
       "      <th>city_tier</th>\n",
       "      <td>1.026331</td>\n",
       "    </tr>\n",
       "    <tr>\n",
       "      <th>age</th>\n",
       "      <td>1.116007</td>\n",
       "    </tr>\n",
       "    <tr>\n",
       "      <th>total_programs_enrolled</th>\n",
       "      <td>1.184949</td>\n",
       "    </tr>\n",
       "    <tr>\n",
       "      <th>trainee_engagement_rating</th>\n",
       "      <td>1.711513</td>\n",
       "    </tr>\n",
       "    <tr>\n",
       "      <th>program_type_T</th>\n",
       "      <td>2.798646</td>\n",
       "    </tr>\n",
       "    <tr>\n",
       "      <th>program_type_U</th>\n",
       "      <td>1.447040</td>\n",
       "    </tr>\n",
       "    <tr>\n",
       "      <th>program_type_V</th>\n",
       "      <td>1.855273</td>\n",
       "    </tr>\n",
       "    <tr>\n",
       "      <th>program_type_X</th>\n",
       "      <td>1.260414</td>\n",
       "    </tr>\n",
       "    <tr>\n",
       "      <th>program_type_Z</th>\n",
       "      <td>2.169635</td>\n",
       "    </tr>\n",
       "    <tr>\n",
       "      <th>test_type_online</th>\n",
       "      <td>2.595028</td>\n",
       "    </tr>\n",
       "    <tr>\n",
       "      <th>difficulty_level_hard</th>\n",
       "      <td>2.182584</td>\n",
       "    </tr>\n",
       "    <tr>\n",
       "      <th>difficulty_level_intermediate</th>\n",
       "      <td>2.365533</td>\n",
       "    </tr>\n",
       "    <tr>\n",
       "      <th>difficulty_level_vary hard</th>\n",
       "      <td>1.238761</td>\n",
       "    </tr>\n",
       "    <tr>\n",
       "      <th>gender_M</th>\n",
       "      <td>1.590042</td>\n",
       "    </tr>\n",
       "    <tr>\n",
       "      <th>education_High School Diploma</th>\n",
       "      <td>2.219476</td>\n",
       "    </tr>\n",
       "    <tr>\n",
       "      <th>education_Masters</th>\n",
       "      <td>1.043581</td>\n",
       "    </tr>\n",
       "    <tr>\n",
       "      <th>education_Matriculation</th>\n",
       "      <td>2.232651</td>\n",
       "    </tr>\n",
       "    <tr>\n",
       "      <th>education_No Qualification</th>\n",
       "      <td>1.051322</td>\n",
       "    </tr>\n",
       "    <tr>\n",
       "      <th>is_handicapped_Y</th>\n",
       "      <td>1.020170</td>\n",
       "    </tr>\n",
       "  </tbody>\n",
       "</table>\n",
       "</div>"
      ],
      "text/plain": [
       "                                  Score\n",
       "Index                                  \n",
       "program_duration               1.083866\n",
       "city_tier                      1.026331\n",
       "age                            1.116007\n",
       "total_programs_enrolled        1.184949\n",
       "trainee_engagement_rating      1.711513\n",
       "program_type_T                 2.798646\n",
       "program_type_U                 1.447040\n",
       "program_type_V                 1.855273\n",
       "program_type_X                 1.260414\n",
       "program_type_Z                 2.169635\n",
       "test_type_online               2.595028\n",
       "difficulty_level_hard          2.182584\n",
       "difficulty_level_intermediate  2.365533\n",
       "difficulty_level_vary hard     1.238761\n",
       "gender_M                       1.590042\n",
       "education_High School Diploma  2.219476\n",
       "education_Masters              1.043581\n",
       "education_Matriculation        2.232651\n",
       "education_No Qualification     1.051322\n",
       "is_handicapped_Y               1.020170"
      ]
     },
     "execution_count": 44,
     "metadata": {},
     "output_type": "execute_result"
    }
   ],
   "source": [
    "x_stand = sc.fit_transform(X_data)\n",
    "\n",
    "vif = pd.DataFrame()\n",
    "vif[\"Index\"] = X_data.keys()\n",
    "vif[\"Score\"] = [variance_inflation_factor(x_stand,i) for i in range(len(X_data.keys()))]\n",
    "vif.set_index([\"Index\"] , inplace = True)\n",
    "vif"
   ]
  },
  {
   "cell_type": "markdown",
   "metadata": {},
   "source": [
    "#### Multicollinearity has been resolved"
   ]
  },
  {
   "cell_type": "markdown",
   "metadata": {},
   "source": [
    "# MODEL BUILDING"
   ]
  },
  {
   "cell_type": "code",
   "execution_count": 45,
   "metadata": {},
   "outputs": [],
   "source": [
    "from sklearn.linear_model import LogisticRegression\n",
    "from sklearn.ensemble import RandomForestClassifier\n",
    "from sklearn.neighbors import KNeighborsClassifier\n",
    "from sklearn.model_selection import cross_val_score , RandomizedSearchCV , RepeatedStratifiedKFold\n",
    "from sklearn.preprocessing import MinMaxScaler\n",
    "from sklearn.metrics import roc_auc_score , roc_curve , classification_report , accuracy_score"
   ]
  },
  {
   "cell_type": "markdown",
   "metadata": {},
   "source": [
    "### Logistic Regression"
   ]
  },
  {
   "cell_type": "code",
   "execution_count": 46,
   "metadata": {},
   "outputs": [
    {
     "data": {
      "text/plain": [
       "LogisticRegression(C=1.0, class_weight=None, dual=False, fit_intercept=True,\n",
       "                   intercept_scaling=1, l1_ratio=None, max_iter=100,\n",
       "                   multi_class='auto', n_jobs=None, penalty='l2',\n",
       "                   random_state=None, solver='lbfgs', tol=0.0001, verbose=0,\n",
       "                   warm_start=False)"
      ]
     },
     "execution_count": 46,
     "metadata": {},
     "output_type": "execute_result"
    }
   ],
   "source": [
    "lr = LogisticRegression()\n",
    "lr.fit(X_data,Y_data)"
   ]
  },
  {
   "cell_type": "code",
   "execution_count": 47,
   "metadata": {},
   "outputs": [],
   "source": [
    "Y_predict = lr.predict(X_data)"
   ]
  },
  {
   "cell_type": "code",
   "execution_count": 48,
   "metadata": {},
   "outputs": [],
   "source": [
    "fpr , tpr , thresolds = roc_curve(Y_data,lr.predict_proba(X_data)[:,1])"
   ]
  },
  {
   "cell_type": "code",
   "execution_count": 49,
   "metadata": {},
   "outputs": [
    {
     "data": {
      "image/png": "[encoded data removed]",
      "text/plain": [
       "<Figure size 432x288 with 1 Axes>"
      ]
     },
     "metadata": {
      "needs_background": "light"
     },
     "output_type": "display_data"
    }
   ],
   "source": [
    "plt.figure()\n",
    "plt.plot(fpr,tpr)\n",
    "plt.plot([0,1],[0,1],'k--')\n",
    "plt.xlim([0.0,1.0])\n",
    "plt.ylim([0.0,1.0])\n",
    "plt.xlabel('False Positive Rate')\n",
    "plt.ylabel('True Positive Rate')\n",
    "plt.title(\"ROC Curve\")\n",
    "plt.show()"
   ]
  },
  {
   "cell_type": "code",
   "execution_count": 50,
   "metadata": {},
   "outputs": [
    {
     "name": "stdout",
     "output_type": "stream",
     "text": [
      "The ROC_AUC score of training data is 56.49 %\n"
     ]
    }
   ],
   "source": [
    "print(\"The ROC_AUC score of training data is {:.2f}\".format(roc_auc_score(Y_data,Y_predict)*100),\"%\")"
   ]
  },
  {
   "cell_type": "code",
   "execution_count": 51,
   "metadata": {},
   "outputs": [
    {
     "name": "stdout",
     "output_type": "stream",
     "text": [
      "The average cross-validation score is 70.89 %\n"
     ]
    }
   ],
   "source": [
    "print(\"The average cross-validation score is {:.2f}\".format(cross_val_score(lr,X_data,Y_data,cv=10).mean()*100),\"%\")"
   ]
  },
  {
   "cell_type": "code",
   "execution_count": 52,
   "metadata": {},
   "outputs": [
    {
     "name": "stdout",
     "output_type": "stream",
     "text": [
      "The accuracy score of training data is 70.92 %\n"
     ]
    }
   ],
   "source": [
    "print(\"The accuracy score of training data is {:.2f}\".format(accuracy_score(Y_data,Y_predict)*100),\"%\")"
   ]
  },
  {
   "cell_type": "code",
   "execution_count": 53,
   "metadata": {},
   "outputs": [
    {
     "name": "stdout",
     "output_type": "stream",
     "text": [
      "The classification report is as follows:\n",
      "               precision    recall  f1-score   support\n",
      "\n",
      "           0       0.57      0.20      0.29     15596\n",
      "           1       0.73      0.93      0.82     35606\n",
      "\n",
      "    accuracy                           0.71     51202\n",
      "   macro avg       0.65      0.56      0.55     51202\n",
      "weighted avg       0.68      0.71      0.66     51202\n",
      "\n"
     ]
    }
   ],
   "source": [
    "print('The classification report is as follows:\\n',classification_report(Y_data,Y_predict))"
   ]
  },
  {
   "cell_type": "code",
   "execution_count": 54,
   "metadata": {},
   "outputs": [
    {
     "name": "stdout",
     "output_type": "stream",
     "text": [
      "[0 1]\n"
     ]
    }
   ],
   "source": [
    "print( np.unique( Y_predict ) )"
   ]
  },
  {
   "cell_type": "markdown",
   "metadata": {},
   "source": [
    "#### As we can clearly see that the dataset is imbalanced, hence resampling is done with replacement"
   ]
  },
  {
   "cell_type": "markdown",
   "metadata": {},
   "source": [
    "# RESAMPLING"
   ]
  },
  {
   "cell_type": "code",
   "execution_count": 55,
   "metadata": {},
   "outputs": [],
   "source": [
    "from sklearn.utils import resample\n",
    "data_majority = Train[Train[\"is_pass\"] == 1]\n",
    "data_minority = Train[Train[\"is_pass\"] == 0]"
   ]
  },
  {
   "cell_type": "code",
   "execution_count": 56,
   "metadata": {},
   "outputs": [],
   "source": [
    "data_minority_resampled = resample(data_minority , n_samples = 35606 , replace = True , random_state = 42)"
   ]
  },
  {
   "cell_type": "code",
   "execution_count": 57,
   "metadata": {},
   "outputs": [],
   "source": [
    "df = pd.concat([data_majority , data_minority_resampled])"
   ]
  },
  {
   "cell_type": "code",
   "execution_count": 58,
   "metadata": {},
   "outputs": [],
   "source": [
    "X = df.drop([\"is_pass\" , \"program_type_Y\"],axis=1)\n",
    "Y = df[\"is_pass\"]"
   ]
  },
  {
   "cell_type": "code",
   "execution_count": 59,
   "metadata": {},
   "outputs": [
    {
     "data": {
      "text/plain": [
       "1    35606\n",
       "0    35606\n",
       "Name: is_pass, dtype: int64"
      ]
     },
     "execution_count": 59,
     "metadata": {},
     "output_type": "execute_result"
    }
   ],
   "source": [
    "Y.value_counts()"
   ]
  },
  {
   "cell_type": "markdown",
   "metadata": {},
   "source": [
    "### Logistic Regression on upsampled dataset"
   ]
  },
  {
   "cell_type": "code",
   "execution_count": 60,
   "metadata": {},
   "outputs": [],
   "source": [
    "lr.fit(X,Y)\n",
    "Y_predict_sampled = lr.predict(X)"
   ]
  },
  {
   "cell_type": "code",
   "execution_count": 61,
   "metadata": {},
   "outputs": [
    {
     "name": "stdout",
     "output_type": "stream",
     "text": [
      "The accuracy score of training data is 64.07 %\n"
     ]
    }
   ],
   "source": [
    "print(\"The accuracy score of training data is {:.2f}\".format(accuracy_score(Y,Y_predict_sampled)*100),\"%\")"
   ]
  },
  {
   "cell_type": "code",
   "execution_count": 62,
   "metadata": {},
   "outputs": [],
   "source": [
    "cv = RepeatedStratifiedKFold(n_splits=10, n_repeats=3, random_state=1)"
   ]
  },
  {
   "cell_type": "code",
   "execution_count": 63,
   "metadata": {},
   "outputs": [],
   "source": [
    "scores = cross_val_score(lr, X , Y, cv=cv, n_jobs=-1)"
   ]
  },
  {
   "cell_type": "code",
   "execution_count": 64,
   "metadata": {},
   "outputs": [
    {
     "name": "stdout",
     "output_type": "stream",
     "text": [
      "The average cross-validation score is 64.00 %\n"
     ]
    }
   ],
   "source": [
    "print(\"The average cross-validation score is {:.2f}\".format(scores.mean()*100),\"%\")"
   ]
  },
  {
   "cell_type": "code",
   "execution_count": 65,
   "metadata": {},
   "outputs": [
    {
     "name": "stdout",
     "output_type": "stream",
     "text": [
      "The classification report is as follows:\n",
      "               precision    recall  f1-score   support\n",
      "\n",
      "           0       0.64      0.64      0.64     35606\n",
      "           1       0.64      0.64      0.64     35606\n",
      "\n",
      "    accuracy                           0.64     71212\n",
      "   macro avg       0.64      0.64      0.64     71212\n",
      "weighted avg       0.64      0.64      0.64     71212\n",
      "\n"
     ]
    }
   ],
   "source": [
    "print('The classification report is as follows:\\n',classification_report(Y,Y_predict_sampled))"
   ]
  },
  {
   "cell_type": "code",
   "execution_count": 66,
   "metadata": {},
   "outputs": [
    {
     "name": "stdout",
     "output_type": "stream",
     "text": [
      "[0 1]\n"
     ]
    }
   ],
   "source": [
    "print( np.unique( Y_predict_sampled ) )"
   ]
  },
  {
   "cell_type": "markdown",
   "metadata": {},
   "source": [
    "## Random Forest Classifier(On balanced dataset)"
   ]
  },
  {
   "cell_type": "code",
   "execution_count": 69,
   "metadata": {},
   "outputs": [],
   "source": [
    "rf = RandomForestClassifier(random_state=30)"
   ]
  },
  {
   "cell_type": "code",
   "execution_count": 70,
   "metadata": {},
   "outputs": [],
   "source": [
    "n_estimators = [int(x) for x in np.linspace(start=100,stop=1200,num=12)]\n",
    "max_features = ['auto','sqrt']\n",
    "max_depth=[int(x) for x in np.linspace(start=5,stop=30,num=6)]\n",
    "min_samples_split=[2,5,10,15,100]\n",
    "min_samples_leaf=[1,2,5,10]"
   ]
  },
  {
   "cell_type": "code",
   "execution_count": 71,
   "metadata": {},
   "outputs": [],
   "source": [
    "grid_rf={'n_estimators':n_estimators,'max_features':max_features,'max_depth':max_depth,'min_samples_split':min_samples_split,\n",
    "        'min_samples_leaf':min_samples_leaf}"
   ]
  },
  {
   "cell_type": "code",
   "execution_count": 72,
   "metadata": {},
   "outputs": [],
   "source": [
    "rf_random = RandomizedSearchCV(rf , grid_rf , n_iter = 12 , cv=5, verbose=2 , n_jobs=1)"
   ]
  },
  {
   "cell_type": "code",
   "execution_count": 107,
   "metadata": {},
   "outputs": [
    {
     "name": "stdout",
     "output_type": "stream",
     "text": [
      "Fitting 5 folds for each of 12 candidates, totalling 60 fits\n",
      "[CV] n_estimators=100, min_samples_split=100, min_samples_leaf=5, max_features=auto, max_depth=15 \n"
     ]
    },
    {
     "name": "stderr",
     "output_type": "stream",
     "text": [
      "[Parallel(n_jobs=1)]: Using backend SequentialBackend with 1 concurrent workers.\n"
     ]
    },
    {
     "name": "stdout",
     "output_type": "stream",
     "text": [
      "[CV]  n_estimators=100, min_samples_split=100, min_samples_leaf=5, max_features=auto, max_depth=15, total=   6.1s\n",
      "[CV] n_estimators=100, min_samples_split=100, min_samples_leaf=5, max_features=auto, max_depth=15 \n"
     ]
    },
    {
     "name": "stderr",
     "output_type": "stream",
     "text": [
      "[Parallel(n_jobs=1)]: Done   1 out of   1 | elapsed:    6.0s remaining:    0.0s\n"
     ]
    },
    {
     "name": "stdout",
     "output_type": "stream",
     "text": [
      "[CV]  n_estimators=100, min_samples_split=100, min_samples_leaf=5, max_features=auto, max_depth=15, total=   6.0s\n",
      "[CV] n_estimators=100, min_samples_split=100, min_samples_leaf=5, max_features=auto, max_depth=15 \n",
      "[CV]  n_estimators=100, min_samples_split=100, min_samples_leaf=5, max_features=auto, max_depth=15, total=   6.1s\n",
      "[CV] n_estimators=100, min_samples_split=100, min_samples_leaf=5, max_features=auto, max_depth=15 \n",
      "[CV]  n_estimators=100, min_samples_split=100, min_samples_leaf=5, max_features=auto, max_depth=15, total=   5.9s\n",
      "[CV] n_estimators=100, min_samples_split=100, min_samples_leaf=5, max_features=auto, max_depth=15 \n",
      "[CV]  n_estimators=100, min_samples_split=100, min_samples_leaf=5, max_features=auto, max_depth=15, total=   6.3s\n",
      "[CV] n_estimators=900, min_samples_split=10, min_samples_leaf=1, max_features=sqrt, max_depth=5 \n",
      "[CV]  n_estimators=900, min_samples_split=10, min_samples_leaf=1, max_features=sqrt, max_depth=5, total=  28.2s\n",
      "[CV] n_estimators=900, min_samples_split=10, min_samples_leaf=1, max_features=sqrt, max_depth=5 \n",
      "[CV]  n_estimators=900, min_samples_split=10, min_samples_leaf=1, max_features=sqrt, max_depth=5, total=  28.3s\n",
      "[CV] n_estimators=900, min_samples_split=10, min_samples_leaf=1, max_features=sqrt, max_depth=5 \n",
      "[CV]  n_estimators=900, min_samples_split=10, min_samples_leaf=1, max_features=sqrt, max_depth=5, total=  28.0s\n",
      "[CV] n_estimators=900, min_samples_split=10, min_samples_leaf=1, max_features=sqrt, max_depth=5 \n",
      "[CV]  n_estimators=900, min_samples_split=10, min_samples_leaf=1, max_features=sqrt, max_depth=5, total=  29.9s\n",
      "[CV] n_estimators=900, min_samples_split=10, min_samples_leaf=1, max_features=sqrt, max_depth=5 \n",
      "[CV]  n_estimators=900, min_samples_split=10, min_samples_leaf=1, max_features=sqrt, max_depth=5, total=  28.4s\n",
      "[CV] n_estimators=1200, min_samples_split=2, min_samples_leaf=10, max_features=auto, max_depth=20 \n",
      "[CV]  n_estimators=1200, min_samples_split=2, min_samples_leaf=10, max_features=auto, max_depth=20, total= 1.3min\n",
      "[CV] n_estimators=1200, min_samples_split=2, min_samples_leaf=10, max_features=auto, max_depth=20 \n",
      "[CV]  n_estimators=1200, min_samples_split=2, min_samples_leaf=10, max_features=auto, max_depth=20, total= 1.3min\n",
      "[CV] n_estimators=1200, min_samples_split=2, min_samples_leaf=10, max_features=auto, max_depth=20 \n",
      "[CV]  n_estimators=1200, min_samples_split=2, min_samples_leaf=10, max_features=auto, max_depth=20, total= 1.4min\n",
      "[CV] n_estimators=1200, min_samples_split=2, min_samples_leaf=10, max_features=auto, max_depth=20 \n",
      "[CV]  n_estimators=1200, min_samples_split=2, min_samples_leaf=10, max_features=auto, max_depth=20, total= 1.3min\n",
      "[CV] n_estimators=1200, min_samples_split=2, min_samples_leaf=10, max_features=auto, max_depth=20 \n",
      "[CV]  n_estimators=1200, min_samples_split=2, min_samples_leaf=10, max_features=auto, max_depth=20, total= 1.3min\n",
      "[CV] n_estimators=900, min_samples_split=10, min_samples_leaf=1, max_features=sqrt, max_depth=20 \n",
      "[CV]  n_estimators=900, min_samples_split=10, min_samples_leaf=1, max_features=sqrt, max_depth=20, total= 1.2min\n",
      "[CV] n_estimators=900, min_samples_split=10, min_samples_leaf=1, max_features=sqrt, max_depth=20 \n",
      "[CV]  n_estimators=900, min_samples_split=10, min_samples_leaf=1, max_features=sqrt, max_depth=20, total= 1.2min\n",
      "[CV] n_estimators=900, min_samples_split=10, min_samples_leaf=1, max_features=sqrt, max_depth=20 \n",
      "[CV]  n_estimators=900, min_samples_split=10, min_samples_leaf=1, max_features=sqrt, max_depth=20, total= 1.2min\n",
      "[CV] n_estimators=900, min_samples_split=10, min_samples_leaf=1, max_features=sqrt, max_depth=20 \n",
      "[CV]  n_estimators=900, min_samples_split=10, min_samples_leaf=1, max_features=sqrt, max_depth=20, total= 1.2min\n",
      "[CV] n_estimators=900, min_samples_split=10, min_samples_leaf=1, max_features=sqrt, max_depth=20 \n",
      "[CV]  n_estimators=900, min_samples_split=10, min_samples_leaf=1, max_features=sqrt, max_depth=20, total= 1.2min\n",
      "[CV] n_estimators=1200, min_samples_split=2, min_samples_leaf=10, max_features=sqrt, max_depth=5 \n",
      "[CV]  n_estimators=1200, min_samples_split=2, min_samples_leaf=10, max_features=sqrt, max_depth=5, total=  37.8s\n",
      "[CV] n_estimators=1200, min_samples_split=2, min_samples_leaf=10, max_features=sqrt, max_depth=5 \n",
      "[CV]  n_estimators=1200, min_samples_split=2, min_samples_leaf=10, max_features=sqrt, max_depth=5, total=  37.7s\n",
      "[CV] n_estimators=1200, min_samples_split=2, min_samples_leaf=10, max_features=sqrt, max_depth=5 \n",
      "[CV]  n_estimators=1200, min_samples_split=2, min_samples_leaf=10, max_features=sqrt, max_depth=5, total=  38.0s\n",
      "[CV] n_estimators=1200, min_samples_split=2, min_samples_leaf=10, max_features=sqrt, max_depth=5 \n",
      "[CV]  n_estimators=1200, min_samples_split=2, min_samples_leaf=10, max_features=sqrt, max_depth=5, total=  41.0s\n",
      "[CV] n_estimators=1200, min_samples_split=2, min_samples_leaf=10, max_features=sqrt, max_depth=5 \n",
      "[CV]  n_estimators=1200, min_samples_split=2, min_samples_leaf=10, max_features=sqrt, max_depth=5, total=  41.6s\n",
      "[CV] n_estimators=100, min_samples_split=100, min_samples_leaf=10, max_features=auto, max_depth=30 \n",
      "[CV]  n_estimators=100, min_samples_split=100, min_samples_leaf=10, max_features=auto, max_depth=30, total=   5.8s\n",
      "[CV] n_estimators=100, min_samples_split=100, min_samples_leaf=10, max_features=auto, max_depth=30 \n",
      "[CV]  n_estimators=100, min_samples_split=100, min_samples_leaf=10, max_features=auto, max_depth=30, total=   6.0s\n",
      "[CV] n_estimators=100, min_samples_split=100, min_samples_leaf=10, max_features=auto, max_depth=30 \n",
      "[CV]  n_estimators=100, min_samples_split=100, min_samples_leaf=10, max_features=auto, max_depth=30, total=   5.9s\n",
      "[CV] n_estimators=100, min_samples_split=100, min_samples_leaf=10, max_features=auto, max_depth=30 \n",
      "[CV]  n_estimators=100, min_samples_split=100, min_samples_leaf=10, max_features=auto, max_depth=30, total=   5.8s\n",
      "[CV] n_estimators=100, min_samples_split=100, min_samples_leaf=10, max_features=auto, max_depth=30 \n",
      "[CV]  n_estimators=100, min_samples_split=100, min_samples_leaf=10, max_features=auto, max_depth=30, total=   6.2s\n",
      "[CV] n_estimators=600, min_samples_split=2, min_samples_leaf=1, max_features=sqrt, max_depth=20 \n",
      "[CV]  n_estimators=600, min_samples_split=2, min_samples_leaf=1, max_features=sqrt, max_depth=20, total= 1.2min\n",
      "[CV] n_estimators=600, min_samples_split=2, min_samples_leaf=1, max_features=sqrt, max_depth=20 \n",
      "[CV]  n_estimators=600, min_samples_split=2, min_samples_leaf=1, max_features=sqrt, max_depth=20, total=  58.3s\n",
      "[CV] n_estimators=600, min_samples_split=2, min_samples_leaf=1, max_features=sqrt, max_depth=20 \n",
      "[CV]  n_estimators=600, min_samples_split=2, min_samples_leaf=1, max_features=sqrt, max_depth=20, total= 1.0min\n",
      "[CV] n_estimators=600, min_samples_split=2, min_samples_leaf=1, max_features=sqrt, max_depth=20 \n",
      "[CV]  n_estimators=600, min_samples_split=2, min_samples_leaf=1, max_features=sqrt, max_depth=20, total=  55.9s\n",
      "[CV] n_estimators=600, min_samples_split=2, min_samples_leaf=1, max_features=sqrt, max_depth=20 \n",
      "[CV]  n_estimators=600, min_samples_split=2, min_samples_leaf=1, max_features=sqrt, max_depth=20, total=  58.9s\n",
      "[CV] n_estimators=500, min_samples_split=15, min_samples_leaf=5, max_features=auto, max_depth=20 \n",
      "[CV]  n_estimators=500, min_samples_split=15, min_samples_leaf=5, max_features=auto, max_depth=20, total=  39.6s\n",
      "[CV] n_estimators=500, min_samples_split=15, min_samples_leaf=5, max_features=auto, max_depth=20 \n",
      "[CV]  n_estimators=500, min_samples_split=15, min_samples_leaf=5, max_features=auto, max_depth=20, total=  37.5s\n",
      "[CV] n_estimators=500, min_samples_split=15, min_samples_leaf=5, max_features=auto, max_depth=20 \n",
      "[CV]  n_estimators=500, min_samples_split=15, min_samples_leaf=5, max_features=auto, max_depth=20, total=  36.9s\n",
      "[CV] n_estimators=500, min_samples_split=15, min_samples_leaf=5, max_features=auto, max_depth=20 \n",
      "[CV]  n_estimators=500, min_samples_split=15, min_samples_leaf=5, max_features=auto, max_depth=20, total=  36.0s\n",
      "[CV] n_estimators=500, min_samples_split=15, min_samples_leaf=5, max_features=auto, max_depth=20 \n",
      "[CV]  n_estimators=500, min_samples_split=15, min_samples_leaf=5, max_features=auto, max_depth=20, total=  35.6s\n",
      "[CV] n_estimators=800, min_samples_split=10, min_samples_leaf=10, max_features=auto, max_depth=30 \n"
     ]
    },
    {
     "name": "stdout",
     "output_type": "stream",
     "text": [
      "[CV]  n_estimators=800, min_samples_split=10, min_samples_leaf=10, max_features=auto, max_depth=30, total=  53.3s\n",
      "[CV] n_estimators=800, min_samples_split=10, min_samples_leaf=10, max_features=auto, max_depth=30 \n",
      "[CV]  n_estimators=800, min_samples_split=10, min_samples_leaf=10, max_features=auto, max_depth=30, total=  53.5s\n",
      "[CV] n_estimators=800, min_samples_split=10, min_samples_leaf=10, max_features=auto, max_depth=30 \n",
      "[CV]  n_estimators=800, min_samples_split=10, min_samples_leaf=10, max_features=auto, max_depth=30, total=  53.5s\n",
      "[CV] n_estimators=800, min_samples_split=10, min_samples_leaf=10, max_features=auto, max_depth=30 \n",
      "[CV]  n_estimators=800, min_samples_split=10, min_samples_leaf=10, max_features=auto, max_depth=30, total=  53.8s\n",
      "[CV] n_estimators=800, min_samples_split=10, min_samples_leaf=10, max_features=auto, max_depth=30 \n",
      "[CV]  n_estimators=800, min_samples_split=10, min_samples_leaf=10, max_features=auto, max_depth=30, total=  53.2s\n",
      "[CV] n_estimators=200, min_samples_split=2, min_samples_leaf=2, max_features=auto, max_depth=25 \n",
      "[CV]  n_estimators=200, min_samples_split=2, min_samples_leaf=2, max_features=auto, max_depth=25, total=  17.5s\n",
      "[CV] n_estimators=200, min_samples_split=2, min_samples_leaf=2, max_features=auto, max_depth=25 \n",
      "[CV]  n_estimators=200, min_samples_split=2, min_samples_leaf=2, max_features=auto, max_depth=25, total=  17.3s\n",
      "[CV] n_estimators=200, min_samples_split=2, min_samples_leaf=2, max_features=auto, max_depth=25 \n",
      "[CV]  n_estimators=200, min_samples_split=2, min_samples_leaf=2, max_features=auto, max_depth=25, total=  17.4s\n",
      "[CV] n_estimators=200, min_samples_split=2, min_samples_leaf=2, max_features=auto, max_depth=25 \n",
      "[CV]  n_estimators=200, min_samples_split=2, min_samples_leaf=2, max_features=auto, max_depth=25, total=  17.6s\n",
      "[CV] n_estimators=200, min_samples_split=2, min_samples_leaf=2, max_features=auto, max_depth=25 \n",
      "[CV]  n_estimators=200, min_samples_split=2, min_samples_leaf=2, max_features=auto, max_depth=25, total=  17.7s\n",
      "[CV] n_estimators=1100, min_samples_split=15, min_samples_leaf=1, max_features=sqrt, max_depth=5 \n",
      "[CV]  n_estimators=1100, min_samples_split=15, min_samples_leaf=1, max_features=sqrt, max_depth=5, total=  35.3s\n",
      "[CV] n_estimators=1100, min_samples_split=15, min_samples_leaf=1, max_features=sqrt, max_depth=5 \n",
      "[CV]  n_estimators=1100, min_samples_split=15, min_samples_leaf=1, max_features=sqrt, max_depth=5, total=  35.6s\n",
      "[CV] n_estimators=1100, min_samples_split=15, min_samples_leaf=1, max_features=sqrt, max_depth=5 \n",
      "[CV]  n_estimators=1100, min_samples_split=15, min_samples_leaf=1, max_features=sqrt, max_depth=5, total=  34.9s\n",
      "[CV] n_estimators=1100, min_samples_split=15, min_samples_leaf=1, max_features=sqrt, max_depth=5 \n",
      "[CV]  n_estimators=1100, min_samples_split=15, min_samples_leaf=1, max_features=sqrt, max_depth=5, total=  35.0s\n",
      "[CV] n_estimators=1100, min_samples_split=15, min_samples_leaf=1, max_features=sqrt, max_depth=5 \n",
      "[CV]  n_estimators=1100, min_samples_split=15, min_samples_leaf=1, max_features=sqrt, max_depth=5, total=  35.2s\n",
      "[CV] n_estimators=100, min_samples_split=10, min_samples_leaf=2, max_features=auto, max_depth=15 \n",
      "[CV]  n_estimators=100, min_samples_split=10, min_samples_leaf=2, max_features=auto, max_depth=15, total=   6.8s\n",
      "[CV] n_estimators=100, min_samples_split=10, min_samples_leaf=2, max_features=auto, max_depth=15 \n",
      "[CV]  n_estimators=100, min_samples_split=10, min_samples_leaf=2, max_features=auto, max_depth=15, total=   6.8s\n",
      "[CV] n_estimators=100, min_samples_split=10, min_samples_leaf=2, max_features=auto, max_depth=15 \n",
      "[CV]  n_estimators=100, min_samples_split=10, min_samples_leaf=2, max_features=auto, max_depth=15, total=   7.0s\n",
      "[CV] n_estimators=100, min_samples_split=10, min_samples_leaf=2, max_features=auto, max_depth=15 \n",
      "[CV]  n_estimators=100, min_samples_split=10, min_samples_leaf=2, max_features=auto, max_depth=15, total=   6.8s\n",
      "[CV] n_estimators=100, min_samples_split=10, min_samples_leaf=2, max_features=auto, max_depth=15 \n",
      "[CV]  n_estimators=100, min_samples_split=10, min_samples_leaf=2, max_features=auto, max_depth=15, total=   6.8s\n"
     ]
    },
    {
     "name": "stderr",
     "output_type": "stream",
     "text": [
      "[Parallel(n_jobs=1)]: Done  60 out of  60 | elapsed: 37.1min finished\n"
     ]
    },
    {
     "data": {
      "text/plain": [
       "RandomizedSearchCV(cv=5, error_score=nan,\n",
       "                   estimator=RandomForestClassifier(bootstrap=True,\n",
       "                                                    ccp_alpha=0.0,\n",
       "                                                    class_weight=None,\n",
       "                                                    criterion='gini',\n",
       "                                                    max_depth=None,\n",
       "                                                    max_features='auto',\n",
       "                                                    max_leaf_nodes=None,\n",
       "                                                    max_samples=None,\n",
       "                                                    min_impurity_decrease=0.0,\n",
       "                                                    min_impurity_split=None,\n",
       "                                                    min_samples_leaf=1,\n",
       "                                                    min_samples_split=2,\n",
       "                                                    min_weight_fraction_leaf=0.0,\n",
       "                                                    n_estimators=100,\n",
       "                                                    n_jobs...\n",
       "                   iid='deprecated', n_iter=12, n_jobs=1,\n",
       "                   param_distributions={'max_depth': [5, 10, 15, 20, 25, 30],\n",
       "                                        'max_features': ['auto', 'sqrt'],\n",
       "                                        'min_samples_leaf': [1, 2, 5, 10],\n",
       "                                        'min_samples_split': [2, 5, 10, 15,\n",
       "                                                              100],\n",
       "                                        'n_estimators': [100, 200, 300, 400,\n",
       "                                                         500, 600, 700, 800,\n",
       "                                                         900, 1000, 1100,\n",
       "                                                         1200]},\n",
       "                   pre_dispatch='2*n_jobs', random_state=None, refit=True,\n",
       "                   return_train_score=False, scoring=None, verbose=2)"
      ]
     },
     "execution_count": 107,
     "metadata": {},
     "output_type": "execute_result"
    }
   ],
   "source": [
    "rf_random.fit(X,Y)"
   ]
  },
  {
   "cell_type": "code",
   "execution_count": 108,
   "metadata": {},
   "outputs": [
    {
     "data": {
      "text/plain": [
       "{'n_estimators': 600,\n",
       " 'min_samples_split': 2,\n",
       " 'min_samples_leaf': 1,\n",
       " 'max_features': 'sqrt',\n",
       " 'max_depth': 20}"
      ]
     },
     "execution_count": 108,
     "metadata": {},
     "output_type": "execute_result"
    }
   ],
   "source": [
    "rf_random.best_params_"
   ]
  },
  {
   "cell_type": "code",
   "execution_count": 92,
   "metadata": {},
   "outputs": [],
   "source": [
    "## USING THE ABOVE COMPUTED HYPER-PARAMETRES\n",
    "\n",
    "rf_random1 = RandomForestClassifier(n_estimators = 600 , min_samples_split = 2 , min_samples_leaf = 1 , max_features = 'sqrt' , \n",
    "                                    max_depth = 20,random_state=30)"
   ]
  },
  {
   "cell_type": "code",
   "execution_count": 93,
   "metadata": {},
   "outputs": [
    {
     "data": {
      "text/plain": [
       "RandomForestClassifier(bootstrap=True, ccp_alpha=0.0, class_weight=None,\n",
       "                       criterion='gini', max_depth=20, max_features='sqrt',\n",
       "                       max_leaf_nodes=None, max_samples=None,\n",
       "                       min_impurity_decrease=0.0, min_impurity_split=None,\n",
       "                       min_samples_leaf=1, min_samples_split=2,\n",
       "                       min_weight_fraction_leaf=0.0, n_estimators=600,\n",
       "                       n_jobs=None, oob_score=False, random_state=30, verbose=0,\n",
       "                       warm_start=False)"
      ]
     },
     "execution_count": 93,
     "metadata": {},
     "output_type": "execute_result"
    }
   ],
   "source": [
    "rf_random1.fit(X,Y)"
   ]
  },
  {
   "cell_type": "code",
   "execution_count": 94,
   "metadata": {},
   "outputs": [],
   "source": [
    "YYYY = rf_random1.predict(X)"
   ]
  },
  {
   "cell_type": "code",
   "execution_count": 95,
   "metadata": {},
   "outputs": [
    {
     "name": "stdout",
     "output_type": "stream",
     "text": [
      "The Accuracy score of training data is 87.89 %\n"
     ]
    }
   ],
   "source": [
    "print(\"The Accuracy score of training data is {:.2f}\".format(accuracy_score(YYYY,Y)*100),\"%\")"
   ]
  },
  {
   "cell_type": "code",
   "execution_count": 97,
   "metadata": {},
   "outputs": [],
   "source": [
    "scores_rfc = cross_val_score(rf_random1,X,Y,scoring='accuracy', cv=cv, n_jobs=-1)"
   ]
  },
  {
   "cell_type": "code",
   "execution_count": 98,
   "metadata": {},
   "outputs": [
    {
     "name": "stdout",
     "output_type": "stream",
     "text": [
      "The average cross-validation score is 79.20 %\n"
     ]
    }
   ],
   "source": [
    "print(\"The average cross-validation score is {:.2f}\".format(scores_rfc.mean()*100),\"%\")"
   ]
  },
  {
   "cell_type": "code",
   "execution_count": 99,
   "metadata": {},
   "outputs": [
    {
     "name": "stdout",
     "output_type": "stream",
     "text": [
      "The classification report is as follows:\n",
      "               precision    recall  f1-score   support\n",
      "\n",
      "           0       0.90      0.86      0.88     37379\n",
      "           1       0.85      0.90      0.88     33833\n",
      "\n",
      "    accuracy                           0.88     71212\n",
      "   macro avg       0.88      0.88      0.88     71212\n",
      "weighted avg       0.88      0.88      0.88     71212\n",
      "\n"
     ]
    }
   ],
   "source": [
    "print('The classification report is as follows:\\n',classification_report(YYYY,Y))"
   ]
  },
  {
   "cell_type": "code",
   "execution_count": 100,
   "metadata": {},
   "outputs": [
    {
     "data": {
      "image/png": "[encoded data removed]",
      "text/plain": [
       "<Figure size 792x432 with 1 Axes>"
      ]
     },
     "metadata": {
      "needs_background": "light"
     },
     "output_type": "display_data"
    }
   ],
   "source": [
    "data_frame = pd.DataFrame()\n",
    "data_frame['importance'] = rf_random1.feature_importances_ * 100\n",
    "data_frame['features'] = X.columns\n",
    "data_frame.set_index('features' , inplace = True)\n",
    "data_frame.sort_values(by = [\"importance\"] , ascending = True , inplace = True)\n",
    "data_frame.importance.plot(kind = 'barh' , figsize = (11,6) , color = 'orange')\n",
    "plt.xlabel('Importance')\n",
    "plt.ylabel('Features')\n",
    "plt.title('Features Vs. Importance')\n",
    "plt.show()"
   ]
  },
  {
   "cell_type": "markdown",
   "metadata": {},
   "source": [
    "### Self-Analysed Variables for Random Forest Classifier"
   ]
  },
  {
   "cell_type": "code",
   "execution_count": 69,
   "metadata": {},
   "outputs": [
    {
     "data": {
      "text/plain": [
       "Index(['program_duration', 'city_tier', 'age', 'total_programs_enrolled',\n",
       "       'trainee_engagement_rating', 'program_type_T', 'program_type_U',\n",
       "       'program_type_V', 'program_type_X', 'program_type_Z',\n",
       "       'test_type_online', 'difficulty_level_hard',\n",
       "       'difficulty_level_intermediate', 'difficulty_level_vary hard',\n",
       "       'gender_M', 'education_High School Diploma', 'education_Masters',\n",
       "       'education_Matriculation', 'education_No Qualification',\n",
       "       'is_handicapped_Y'],\n",
       "      dtype='object')"
      ]
     },
     "execution_count": 69,
     "metadata": {},
     "output_type": "execute_result"
    }
   ],
   "source": [
    "X.columns"
   ]
  },
  {
   "cell_type": "code",
   "execution_count": 73,
   "metadata": {},
   "outputs": [],
   "source": [
    "X_new = X.drop([\"difficulty_level_intermediate\" , \"program_type_U\" , \"program_type_T\" , \"program_type_V\" , \n",
    "                    \"difficulty_level_hard\" , \"difficulty_level_vary hard\" , \"program_type_X\" , \"program_type_Z\",\n",
    "                    \"education_No Qualification\" , \"education_Masters\"] , axis = 1)"
   ]
  },
  {
   "cell_type": "code",
   "execution_count": 67,
   "metadata": {},
   "outputs": [],
   "source": [
    "rf_random11 = RandomForestClassifier(n_estimators = 600 , min_samples_split = 2 , min_samples_leaf = 1 , max_features = 10, \n",
    "                                     max_depth = 20,random_state=30)"
   ]
  },
  {
   "cell_type": "code",
   "execution_count": 74,
   "metadata": {},
   "outputs": [],
   "source": [
    "rf_random11.fit(X_new,Y)\n",
    "Y_predict11 = rf_random11.predict(X_new)"
   ]
  },
  {
   "cell_type": "code",
   "execution_count": 75,
   "metadata": {},
   "outputs": [
    {
     "name": "stdout",
     "output_type": "stream",
     "text": [
      "The Accuracy score of training data is 84.76 %\n"
     ]
    }
   ],
   "source": [
    "print(\"The Accuracy score of training data is {:.2f}\".format(accuracy_score(Y_predict11,Y)*100),\"%\")"
   ]
  },
  {
   "cell_type": "code",
   "execution_count": 78,
   "metadata": {},
   "outputs": [],
   "source": [
    "scores_self_analysed = cross_val_score(rf_random11,X_new,Y,scoring='accuracy', cv=cv, n_jobs=-1)"
   ]
  },
  {
   "cell_type": "code",
   "execution_count": 79,
   "metadata": {},
   "outputs": [
    {
     "name": "stdout",
     "output_type": "stream",
     "text": [
      "The average cross-validation score is 76.98 %\n"
     ]
    }
   ],
   "source": [
    "print(\"The average cross-validation score is {:.2f}\".format(scores_self_analysed.mean()*100),\"%\")"
   ]
  },
  {
   "cell_type": "code",
   "execution_count": 127,
   "metadata": {},
   "outputs": [
    {
     "name": "stdout",
     "output_type": "stream",
     "text": [
      "The classification report is as follows:\n",
      "               precision    recall  f1-score   support\n",
      "\n",
      "           0       0.90      0.82      0.85     39009\n",
      "           1       0.80      0.88      0.84     32203\n",
      "\n",
      "    accuracy                           0.85     71212\n",
      "   macro avg       0.85      0.85      0.85     71212\n",
      "weighted avg       0.85      0.85      0.85     71212\n",
      "\n"
     ]
    }
   ],
   "source": [
    "print('The classification report is as follows:\\n',classification_report(Y_predict11,Y))"
   ]
  },
  {
   "cell_type": "markdown",
   "metadata": {},
   "source": [
    "## Kneighbors Classifier(On balanced dataset)"
   ]
  },
  {
   "cell_type": "code",
   "execution_count": 80,
   "metadata": {},
   "outputs": [],
   "source": [
    "grid1 = {'n_neighbors': np.array([5,10,15,20]) , 'p' : np.array([3,6,9,12])}\n",
    "knn = KNeighborsClassifier(metric='minkowski')\n",
    "knn1 = RandomizedSearchCV(knn, grid1, n_iter = 10 , cv = 5 , verbose = 2 , n_jobs = 1)"
   ]
  },
  {
   "cell_type": "code",
   "execution_count": 81,
   "metadata": {},
   "outputs": [],
   "source": [
    "ms = MinMaxScaler()\n",
    "Xms = ms.fit_transform(X)"
   ]
  },
  {
   "cell_type": "code",
   "execution_count": 82,
   "metadata": {},
   "outputs": [
    {
     "data": {
      "text/html": [
       "<div>\n",
       "<style scoped>\n",
       "    .dataframe tbody tr th:only-of-type {\n",
       "        vertical-align: middle;\n",
       "    }\n",
       "\n",
       "    .dataframe tbody tr th {\n",
       "        vertical-align: top;\n",
       "    }\n",
       "\n",
       "    .dataframe thead th {\n",
       "        text-align: right;\n",
       "    }\n",
       "</style>\n",
       "<table border=\"1\" class=\"dataframe\">\n",
       "  <thead>\n",
       "    <tr style=\"text-align: right;\">\n",
       "      <th></th>\n",
       "      <th>0</th>\n",
       "      <th>1</th>\n",
       "      <th>2</th>\n",
       "      <th>3</th>\n",
       "      <th>4</th>\n",
       "      <th>5</th>\n",
       "      <th>6</th>\n",
       "      <th>7</th>\n",
       "      <th>8</th>\n",
       "      <th>9</th>\n",
       "      <th>10</th>\n",
       "      <th>11</th>\n",
       "      <th>12</th>\n",
       "      <th>13</th>\n",
       "      <th>14</th>\n",
       "      <th>15</th>\n",
       "      <th>16</th>\n",
       "      <th>17</th>\n",
       "      <th>18</th>\n",
       "      <th>19</th>\n",
       "    </tr>\n",
       "  </thead>\n",
       "  <tbody>\n",
       "    <tr>\n",
       "      <th>0</th>\n",
       "      <td>0.000000</td>\n",
       "      <td>0.333333</td>\n",
       "      <td>0.565217</td>\n",
       "      <td>0.076923</td>\n",
       "      <td>0.0</td>\n",
       "      <td>1.0</td>\n",
       "      <td>0.0</td>\n",
       "      <td>0.0</td>\n",
       "      <td>0.0</td>\n",
       "      <td>0.0</td>\n",
       "      <td>0.0</td>\n",
       "      <td>0.0</td>\n",
       "      <td>1.0</td>\n",
       "      <td>0.0</td>\n",
       "      <td>0.0</td>\n",
       "      <td>0.0</td>\n",
       "      <td>0.0</td>\n",
       "      <td>1.0</td>\n",
       "      <td>0.0</td>\n",
       "      <td>0.0</td>\n",
       "    </tr>\n",
       "    <tr>\n",
       "      <th>1</th>\n",
       "      <td>0.157895</td>\n",
       "      <td>0.333333</td>\n",
       "      <td>0.406933</td>\n",
       "      <td>0.076923</td>\n",
       "      <td>0.5</td>\n",
       "      <td>0.0</td>\n",
       "      <td>0.0</td>\n",
       "      <td>0.0</td>\n",
       "      <td>0.0</td>\n",
       "      <td>0.0</td>\n",
       "      <td>0.0</td>\n",
       "      <td>1.0</td>\n",
       "      <td>0.0</td>\n",
       "      <td>0.0</td>\n",
       "      <td>1.0</td>\n",
       "      <td>0.0</td>\n",
       "      <td>0.0</td>\n",
       "      <td>1.0</td>\n",
       "      <td>0.0</td>\n",
       "      <td>0.0</td>\n",
       "    </tr>\n",
       "    <tr>\n",
       "      <th>2</th>\n",
       "      <td>0.263158</td>\n",
       "      <td>0.000000</td>\n",
       "      <td>0.396795</td>\n",
       "      <td>0.076923</td>\n",
       "      <td>0.5</td>\n",
       "      <td>0.0</td>\n",
       "      <td>0.0</td>\n",
       "      <td>1.0</td>\n",
       "      <td>0.0</td>\n",
       "      <td>0.0</td>\n",
       "      <td>1.0</td>\n",
       "      <td>0.0</td>\n",
       "      <td>0.0</td>\n",
       "      <td>0.0</td>\n",
       "      <td>1.0</td>\n",
       "      <td>0.0</td>\n",
       "      <td>0.0</td>\n",
       "      <td>1.0</td>\n",
       "      <td>0.0</td>\n",
       "      <td>0.0</td>\n",
       "    </tr>\n",
       "    <tr>\n",
       "      <th>3</th>\n",
       "      <td>0.210526</td>\n",
       "      <td>0.666667</td>\n",
       "      <td>0.387737</td>\n",
       "      <td>0.076923</td>\n",
       "      <td>1.0</td>\n",
       "      <td>0.0</td>\n",
       "      <td>0.0</td>\n",
       "      <td>0.0</td>\n",
       "      <td>0.0</td>\n",
       "      <td>0.0</td>\n",
       "      <td>0.0</td>\n",
       "      <td>0.0</td>\n",
       "      <td>1.0</td>\n",
       "      <td>0.0</td>\n",
       "      <td>1.0</td>\n",
       "      <td>1.0</td>\n",
       "      <td>0.0</td>\n",
       "      <td>0.0</td>\n",
       "      <td>0.0</td>\n",
       "      <td>0.0</td>\n",
       "    </tr>\n",
       "    <tr>\n",
       "      <th>4</th>\n",
       "      <td>0.894737</td>\n",
       "      <td>0.333333</td>\n",
       "      <td>0.412181</td>\n",
       "      <td>0.076923</td>\n",
       "      <td>0.0</td>\n",
       "      <td>1.0</td>\n",
       "      <td>0.0</td>\n",
       "      <td>0.0</td>\n",
       "      <td>0.0</td>\n",
       "      <td>0.0</td>\n",
       "      <td>1.0</td>\n",
       "      <td>0.0</td>\n",
       "      <td>0.0</td>\n",
       "      <td>0.0</td>\n",
       "      <td>0.0</td>\n",
       "      <td>1.0</td>\n",
       "      <td>0.0</td>\n",
       "      <td>0.0</td>\n",
       "      <td>0.0</td>\n",
       "      <td>0.0</td>\n",
       "    </tr>\n",
       "  </tbody>\n",
       "</table>\n",
       "</div>"
      ],
      "text/plain": [
       "          0         1         2         3    4    5    6    7    8    9   10  \\\n",
       "0  0.000000  0.333333  0.565217  0.076923  0.0  1.0  0.0  0.0  0.0  0.0  0.0   \n",
       "1  0.157895  0.333333  0.406933  0.076923  0.5  0.0  0.0  0.0  0.0  0.0  0.0   \n",
       "2  0.263158  0.000000  0.396795  0.076923  0.5  0.0  0.0  1.0  0.0  0.0  1.0   \n",
       "3  0.210526  0.666667  0.387737  0.076923  1.0  0.0  0.0  0.0  0.0  0.0  0.0   \n",
       "4  0.894737  0.333333  0.412181  0.076923  0.0  1.0  0.0  0.0  0.0  0.0  1.0   \n",
       "\n",
       "    11   12   13   14   15   16   17   18   19  \n",
       "0  0.0  1.0  0.0  0.0  0.0  0.0  1.0  0.0  0.0  \n",
       "1  1.0  0.0  0.0  1.0  0.0  0.0  1.0  0.0  0.0  \n",
       "2  0.0  0.0  0.0  1.0  0.0  0.0  1.0  0.0  0.0  \n",
       "3  0.0  1.0  0.0  1.0  1.0  0.0  0.0  0.0  0.0  \n",
       "4  0.0  0.0  0.0  0.0  1.0  0.0  0.0  0.0  0.0  "
      ]
     },
     "execution_count": 82,
     "metadata": {},
     "output_type": "execute_result"
    }
   ],
   "source": [
    "Xmsdf = pd.DataFrame(Xms)\n",
    "Xmsdf.head()"
   ]
  },
  {
   "cell_type": "code",
   "execution_count": 83,
   "metadata": {},
   "outputs": [
    {
     "name": "stdout",
     "output_type": "stream",
     "text": [
      "Fitting 5 folds for each of 10 candidates, totalling 50 fits\n",
      "[CV] p=6, n_neighbors=15 .............................................\n"
     ]
    },
    {
     "name": "stderr",
     "output_type": "stream",
     "text": [
      "[Parallel(n_jobs=1)]: Using backend SequentialBackend with 1 concurrent workers.\n"
     ]
    },
    {
     "name": "stdout",
     "output_type": "stream",
     "text": [
      "[CV] .............................. p=6, n_neighbors=15, total= 1.1min\n",
      "[CV] p=6, n_neighbors=15 .............................................\n"
     ]
    },
    {
     "name": "stderr",
     "output_type": "stream",
     "text": [
      "[Parallel(n_jobs=1)]: Done   1 out of   1 | elapsed:  1.1min remaining:    0.0s\n"
     ]
    },
    {
     "name": "stdout",
     "output_type": "stream",
     "text": [
      "[CV] .............................. p=6, n_neighbors=15, total= 1.1min\n",
      "[CV] p=6, n_neighbors=15 .............................................\n",
      "[CV] .............................. p=6, n_neighbors=15, total= 1.0min\n",
      "[CV] p=6, n_neighbors=15 .............................................\n",
      "[CV] .............................. p=6, n_neighbors=15, total= 1.1min\n",
      "[CV] p=6, n_neighbors=15 .............................................\n",
      "[CV] .............................. p=6, n_neighbors=15, total= 1.0min\n",
      "[CV] p=9, n_neighbors=20 .............................................\n",
      "[CV] .............................. p=9, n_neighbors=20, total= 1.2min\n",
      "[CV] p=9, n_neighbors=20 .............................................\n",
      "[CV] .............................. p=9, n_neighbors=20, total= 1.2min\n",
      "[CV] p=9, n_neighbors=20 .............................................\n",
      "[CV] .............................. p=9, n_neighbors=20, total= 1.1min\n",
      "[CV] p=9, n_neighbors=20 .............................................\n",
      "[CV] .............................. p=9, n_neighbors=20, total= 1.2min\n",
      "[CV] p=9, n_neighbors=20 .............................................\n",
      "[CV] .............................. p=9, n_neighbors=20, total= 1.1min\n",
      "[CV] p=6, n_neighbors=20 .............................................\n",
      "[CV] .............................. p=6, n_neighbors=20, total= 1.2min\n",
      "[CV] p=6, n_neighbors=20 .............................................\n",
      "[CV] .............................. p=6, n_neighbors=20, total= 1.2min\n",
      "[CV] p=6, n_neighbors=20 .............................................\n",
      "[CV] .............................. p=6, n_neighbors=20, total= 1.1min\n",
      "[CV] p=6, n_neighbors=20 .............................................\n",
      "[CV] .............................. p=6, n_neighbors=20, total= 1.2min\n",
      "[CV] p=6, n_neighbors=20 .............................................\n",
      "[CV] .............................. p=6, n_neighbors=20, total= 1.1min\n",
      "[CV] p=3, n_neighbors=10 .............................................\n",
      "[CV] .............................. p=3, n_neighbors=10, total=  57.6s\n",
      "[CV] p=3, n_neighbors=10 .............................................\n",
      "[CV] .............................. p=3, n_neighbors=10, total=  58.5s\n",
      "[CV] p=3, n_neighbors=10 .............................................\n",
      "[CV] .............................. p=3, n_neighbors=10, total=  54.6s\n",
      "[CV] p=3, n_neighbors=10 .............................................\n",
      "[CV] .............................. p=3, n_neighbors=10, total=  57.8s\n",
      "[CV] p=3, n_neighbors=10 .............................................\n",
      "[CV] .............................. p=3, n_neighbors=10, total=  54.7s\n",
      "[CV] p=9, n_neighbors=15 .............................................\n",
      "[CV] .............................. p=9, n_neighbors=15, total= 1.1min\n",
      "[CV] p=9, n_neighbors=15 .............................................\n",
      "[CV] .............................. p=9, n_neighbors=15, total= 1.1min\n",
      "[CV] p=9, n_neighbors=15 .............................................\n",
      "[CV] .............................. p=9, n_neighbors=15, total= 1.0min\n",
      "[CV] p=9, n_neighbors=15 .............................................\n",
      "[CV] .............................. p=9, n_neighbors=15, total= 1.1min\n",
      "[CV] p=9, n_neighbors=15 .............................................\n",
      "[CV] .............................. p=9, n_neighbors=15, total= 1.0min\n",
      "[CV] p=9, n_neighbors=10 .............................................\n",
      "[CV] .............................. p=9, n_neighbors=10, total=  58.5s\n",
      "[CV] p=9, n_neighbors=10 .............................................\n",
      "[CV] .............................. p=9, n_neighbors=10, total=  58.8s\n",
      "[CV] p=9, n_neighbors=10 .............................................\n",
      "[CV] .............................. p=9, n_neighbors=10, total=  54.1s\n",
      "[CV] p=9, n_neighbors=10 .............................................\n",
      "[CV] .............................. p=9, n_neighbors=10, total=  58.7s\n",
      "[CV] p=9, n_neighbors=10 .............................................\n",
      "[CV] .............................. p=9, n_neighbors=10, total=  55.1s\n",
      "[CV] p=12, n_neighbors=5 .............................................\n",
      "[CV] .............................. p=12, n_neighbors=5, total=  48.8s\n",
      "[CV] p=12, n_neighbors=5 .............................................\n",
      "[CV] .............................. p=12, n_neighbors=5, total=  49.0s\n",
      "[CV] p=12, n_neighbors=5 .............................................\n",
      "[CV] .............................. p=12, n_neighbors=5, total=  45.7s\n",
      "[CV] p=12, n_neighbors=5 .............................................\n",
      "[CV] .............................. p=12, n_neighbors=5, total=  48.2s\n",
      "[CV] p=12, n_neighbors=5 .............................................\n",
      "[CV] .............................. p=12, n_neighbors=5, total=  45.5s\n",
      "[CV] p=3, n_neighbors=5 ..............................................\n",
      "[CV] ............................... p=3, n_neighbors=5, total=  49.1s\n",
      "[CV] p=3, n_neighbors=5 ..............................................\n",
      "[CV] ............................... p=3, n_neighbors=5, total=  49.7s\n",
      "[CV] p=3, n_neighbors=5 ..............................................\n",
      "[CV] ............................... p=3, n_neighbors=5, total=  45.2s\n",
      "[CV] p=3, n_neighbors=5 ..............................................\n",
      "[CV] ............................... p=3, n_neighbors=5, total=  53.3s\n",
      "[CV] p=3, n_neighbors=5 ..............................................\n",
      "[CV] ............................... p=3, n_neighbors=5, total=  46.1s\n",
      "[CV] p=12, n_neighbors=20 ............................................\n",
      "[CV] ............................. p=12, n_neighbors=20, total= 1.2min\n",
      "[CV] p=12, n_neighbors=20 ............................................\n",
      "[CV] ............................. p=12, n_neighbors=20, total= 1.2min\n",
      "[CV] p=12, n_neighbors=20 ............................................\n",
      "[CV] ............................. p=12, n_neighbors=20, total= 1.1min\n",
      "[CV] p=12, n_neighbors=20 ............................................\n",
      "[CV] ............................. p=12, n_neighbors=20, total= 1.2min\n",
      "[CV] p=12, n_neighbors=20 ............................................\n",
      "[CV] ............................. p=12, n_neighbors=20, total= 1.1min\n",
      "[CV] p=12, n_neighbors=15 ............................................\n",
      "[CV] ............................. p=12, n_neighbors=15, total= 1.1min\n",
      "[CV] p=12, n_neighbors=15 ............................................\n",
      "[CV] ............................. p=12, n_neighbors=15, total= 1.1min\n",
      "[CV] p=12, n_neighbors=15 ............................................\n",
      "[CV] ............................. p=12, n_neighbors=15, total= 1.0min\n",
      "[CV] p=12, n_neighbors=15 ............................................\n",
      "[CV] ............................. p=12, n_neighbors=15, total= 1.1min\n",
      "[CV] p=12, n_neighbors=15 ............................................\n",
      "[CV] ............................. p=12, n_neighbors=15, total= 1.0min\n"
     ]
    },
    {
     "name": "stderr",
     "output_type": "stream",
     "text": [
      "[Parallel(n_jobs=1)]: Done  50 out of  50 | elapsed: 51.2min finished\n"
     ]
    }
   ],
   "source": [
    "knn1.fit(Xmsdf,Y)\n",
    "y_predict_knn = knn1.predict(Xmsdf)"
   ]
  },
  {
   "cell_type": "code",
   "execution_count": 84,
   "metadata": {},
   "outputs": [
    {
     "name": "stdout",
     "output_type": "stream",
     "text": [
      "Tuned hyperparameter : {'p': 3, 'n_neighbors': 5}\n"
     ]
    }
   ],
   "source": [
    "print(\"Tuned hyperparameter : {}\".format(knn1.best_params_))"
   ]
  },
  {
   "cell_type": "code",
   "execution_count": 85,
   "metadata": {},
   "outputs": [],
   "source": [
    "## USING THE ABOVE COMPUTED HYPER-PARAMETRES\n",
    "\n",
    "knn0 = KNeighborsClassifier(n_neighbors = 5 , p = 3 , metric='minkowski')\n",
    "knn0.fit(Xmsdf,Y)\n",
    "y_predict_knn_new = knn0.predict(Xmsdf)"
   ]
  },
  {
   "cell_type": "code",
   "execution_count": 86,
   "metadata": {},
   "outputs": [
    {
     "name": "stdout",
     "output_type": "stream",
     "text": [
      "The accuracy score of the model is 79.76 %\n"
     ]
    }
   ],
   "source": [
    "print(\"The accuracy score of the model is {:.2f}\".format(accuracy_score(Y , y_predict_knn_new) * 100) , \"%\")"
   ]
  },
  {
   "cell_type": "code",
   "execution_count": 88,
   "metadata": {},
   "outputs": [],
   "source": [
    "scores_knn = cross_val_score(knn0,Xmsdf,Y,scoring='accuracy', cv=cv, n_jobs=-1)"
   ]
  },
  {
   "cell_type": "code",
   "execution_count": 89,
   "metadata": {},
   "outputs": [
    {
     "name": "stdout",
     "output_type": "stream",
     "text": [
      "The average cross-validation score is 70.99 %\n"
     ]
    }
   ],
   "source": [
    "print(\"The average cross-validation score is {:.2f}\".format(scores_knn.mean()*100),\"%\")"
   ]
  },
  {
   "cell_type": "code",
   "execution_count": 90,
   "metadata": {},
   "outputs": [
    {
     "name": "stdout",
     "output_type": "stream",
     "text": [
      "The classification report is as follows:\n",
      "               precision    recall  f1-score   support\n",
      "\n",
      "           0       0.79      0.82      0.80     35606\n",
      "           1       0.81      0.78      0.79     35606\n",
      "\n",
      "    accuracy                           0.80     71212\n",
      "   macro avg       0.80      0.80      0.80     71212\n",
      "weighted avg       0.80      0.80      0.80     71212\n",
      "\n"
     ]
    }
   ],
   "source": [
    "print('The classification report is as follows:\\n',classification_report(Y , y_predict_knn_new))"
   ]
  },
  {
   "cell_type": "markdown",
   "metadata": {},
   "source": [
    "# CONCLUSION"
   ]
  },
  {
   "cell_type": "code",
   "execution_count": 101,
   "metadata": {},
   "outputs": [
    {
     "name": "stdout",
     "output_type": "stream",
     "text": [
      "The Accuracy score with Logistic regression is 64.07 %\n",
      "\n",
      "The average cross-validation score with Logistic regression is 64.00 %\n",
      "\n",
      "The Accuracy score with Random Forest Classifier is 87.89 %\n",
      "\n",
      "The average cross-validation score with Random Forest Classifier is 79.20 %\n",
      "\n",
      "The Accuracy score with Random Forest Classifier on self analysed variables is 84.76 %\n",
      "\n",
      "The average cross-validation score with Random Forest Classifier on self analysed variables is 76.98 %\n",
      "\n",
      "The Accuracy score with KNeighbors Classifier is 79.76 %\n",
      "\n",
      "The average cross-validation score with KNeighbors Classifier is 70.99 %\n"
     ]
    }
   ],
   "source": [
    "print(\"The Accuracy score with Logistic regression is {:.2f}\".format(accuracy_score(Y,Y_predict_sampled)*100),\"%\")\n",
    "print()\n",
    "print(\"The average cross-validation score with Logistic regression is {:.2f}\".format(scores.mean()*100),\"%\")\n",
    "print()\n",
    "print(\"The Accuracy score with Random Forest Classifier is {:.2f}\".format(accuracy_score(YYYY,Y)*100),\"%\")\n",
    "print()\n",
    "print(\"The average cross-validation score with Random Forest Classifier is {:.2f}\".format(scores_rfc.mean()*100),\"%\")\n",
    "print()\n",
    "print(\"The Accuracy score with Random Forest Classifier on self analysed variables is {:.2f}\".format(accuracy_score(Y_predict11,Y)*100),\"%\")\n",
    "print()\n",
    "print(\"The average cross-validation score with Random Forest Classifier on self analysed variables is {:.2f}\".format(scores_self_analysed.mean()*100),\"%\")\n",
    "print()\n",
    "print(\"The Accuracy score with KNeighbors Classifier is {:.2f}\".format(accuracy_score(Y , y_predict_knn_new) * 100) , \"%\")\n",
    "print()\n",
    "print(\"The average cross-validation score with KNeighbors Classifier is {:.2f}\".format(scores_knn.mean()*100),\"%\")"
   ]
  },
  {
   "cell_type": "markdown",
   "metadata": {},
   "source": [
    "#### We can observe from the entire analysis that Random forest classifier has performed well and with best selected features also\n",
    "#### Random forest classifier has provided a cosiderably good accuracy as well as cross validation score.\n",
    "#### So,\"Random Forest Classifier\" has finally been selected for test data prediction."
   ]
  },
  {
   "cell_type": "markdown",
   "metadata": {},
   "source": [
    "# Test Data Prediction"
   ]
  },
  {
   "cell_type": "code",
   "execution_count": 102,
   "metadata": {},
   "outputs": [
    {
     "data": {
      "text/html": [
       "<div>\n",
       "<style scoped>\n",
       "    .dataframe tbody tr th:only-of-type {\n",
       "        vertical-align: middle;\n",
       "    }\n",
       "\n",
       "    .dataframe tbody tr th {\n",
       "        vertical-align: top;\n",
       "    }\n",
       "\n",
       "    .dataframe thead th {\n",
       "        text-align: right;\n",
       "    }\n",
       "</style>\n",
       "<table border=\"1\" class=\"dataframe\">\n",
       "  <thead>\n",
       "    <tr style=\"text-align: right;\">\n",
       "      <th></th>\n",
       "      <th>program_type</th>\n",
       "      <th>program_duration</th>\n",
       "      <th>test_type</th>\n",
       "      <th>difficulty_level</th>\n",
       "      <th>gender</th>\n",
       "      <th>education</th>\n",
       "      <th>city_tier</th>\n",
       "      <th>age</th>\n",
       "      <th>total_programs_enrolled</th>\n",
       "      <th>is_handicapped</th>\n",
       "      <th>trainee_engagement_rating</th>\n",
       "      <th>is_pass</th>\n",
       "    </tr>\n",
       "  </thead>\n",
       "  <tbody>\n",
       "    <tr>\n",
       "      <th>0</th>\n",
       "      <td>Y</td>\n",
       "      <td>136</td>\n",
       "      <td>offline</td>\n",
       "      <td>intermediate</td>\n",
       "      <td>M</td>\n",
       "      <td>Matriculation</td>\n",
       "      <td>1</td>\n",
       "      <td>42.000000</td>\n",
       "      <td>2</td>\n",
       "      <td>Y</td>\n",
       "      <td>3.0</td>\n",
       "      <td>1</td>\n",
       "    </tr>\n",
       "    <tr>\n",
       "      <th>1</th>\n",
       "      <td>T</td>\n",
       "      <td>134</td>\n",
       "      <td>offline</td>\n",
       "      <td>intermediate</td>\n",
       "      <td>F</td>\n",
       "      <td>Matriculation</td>\n",
       "      <td>3</td>\n",
       "      <td>25.000000</td>\n",
       "      <td>2</td>\n",
       "      <td>Y</td>\n",
       "      <td>1.0</td>\n",
       "      <td>0</td>\n",
       "    </tr>\n",
       "    <tr>\n",
       "      <th>2</th>\n",
       "      <td>V</td>\n",
       "      <td>131</td>\n",
       "      <td>offline</td>\n",
       "      <td>intermediate</td>\n",
       "      <td>F</td>\n",
       "      <td>High School Diploma</td>\n",
       "      <td>3</td>\n",
       "      <td>24.000000</td>\n",
       "      <td>3</td>\n",
       "      <td>N</td>\n",
       "      <td>1.0</td>\n",
       "      <td>0</td>\n",
       "    </tr>\n",
       "    <tr>\n",
       "      <th>3</th>\n",
       "      <td>V</td>\n",
       "      <td>131</td>\n",
       "      <td>offline</td>\n",
       "      <td>intermediate</td>\n",
       "      <td>M</td>\n",
       "      <td>Matriculation</td>\n",
       "      <td>3</td>\n",
       "      <td>35.093137</td>\n",
       "      <td>4</td>\n",
       "      <td>N</td>\n",
       "      <td>3.0</td>\n",
       "      <td>0</td>\n",
       "    </tr>\n",
       "    <tr>\n",
       "      <th>4</th>\n",
       "      <td>Y</td>\n",
       "      <td>136</td>\n",
       "      <td>online</td>\n",
       "      <td>easy</td>\n",
       "      <td>M</td>\n",
       "      <td>High School Diploma</td>\n",
       "      <td>1</td>\n",
       "      <td>45.000000</td>\n",
       "      <td>3</td>\n",
       "      <td>N</td>\n",
       "      <td>4.0</td>\n",
       "      <td>1</td>\n",
       "    </tr>\n",
       "  </tbody>\n",
       "</table>\n",
       "</div>"
      ],
      "text/plain": [
       "  program_type  program_duration test_type difficulty_level gender  \\\n",
       "0            Y               136   offline     intermediate      M   \n",
       "1            T               134   offline     intermediate      F   \n",
       "2            V               131   offline     intermediate      F   \n",
       "3            V               131   offline     intermediate      M   \n",
       "4            Y               136    online             easy      M   \n",
       "\n",
       "             education  city_tier        age  total_programs_enrolled  \\\n",
       "0        Matriculation          1  42.000000                        2   \n",
       "1        Matriculation          3  25.000000                        2   \n",
       "2  High School Diploma          3  24.000000                        3   \n",
       "3        Matriculation          3  35.093137                        4   \n",
       "4  High School Diploma          1  45.000000                        3   \n",
       "\n",
       "  is_handicapped  trainee_engagement_rating  is_pass  \n",
       "0              Y                        3.0        1  \n",
       "1              Y                        1.0        0  \n",
       "2              N                        1.0        0  \n",
       "3              N                        3.0        0  \n",
       "4              N                        4.0        1  "
      ]
     },
     "execution_count": 102,
     "metadata": {},
     "output_type": "execute_result"
    }
   ],
   "source": [
    "Test1 = Test.drop([\"program_type_Y\",\"difficulty_level_intermediate\" , \"program_type_U\" , \"program_type_T\" , \"program_type_V\" , \n",
    "                    \"difficulty_level_hard\" , \"difficulty_level_vary hard\" , \"program_type_X\" , \"program_type_Z\",\n",
    "                    \"education_No Qualification\" , \"education_Masters\"],axis=1)\n",
    "y_test_predict = rf_random11.predict(Test1)\n",
    "test['is_pass'] = y_test_predict\n",
    "test.head()"
   ]
  },
  {
   "cell_type": "markdown",
   "metadata": {},
   "source": [
    "### Saving the prediction file"
   ]
  },
  {
   "cell_type": "code",
   "execution_count": 103,
   "metadata": {},
   "outputs": [],
   "source": [
    "test.to_csv(\"Final Test Data.csv\",index=False )"
   ]
  },
  {
   "cell_type": "markdown",
   "metadata": {},
   "source": [
    "### Model Deployment"
   ]
  },
  {
   "cell_type": "code",
   "execution_count": 84,
   "metadata": {},
   "outputs": [],
   "source": [
    "import gzip, pickle, pickletools"
   ]
  },
  {
   "cell_type": "code",
   "execution_count": 85,
   "metadata": {},
   "outputs": [],
   "source": [
    "filepath = \"random_forest.pkl\""
   ]
  },
  {
   "cell_type": "code",
   "execution_count": 86,
   "metadata": {},
   "outputs": [],
   "source": [
    "with gzip.open(filepath, \"wb\") as f:\n",
    "    pickled = pickle.dumps(rf_random11)\n",
    "    optimized_pickle = pickletools.optimize(pickled)\n",
    "    f.write(optimized_pickle)"
   ]
  }
 ],
 "metadata": {
  "kernelspec": {
   "display_name": "Python 3",
   "language": "python",
   "name": "python3"
  },
  "language_info": {
   "codemirror_mode": {
    "name": "ipython",
    "version": 3
   },
   "file_extension": ".py",
   "mimetype": "text/x-python",
   "name": "python",
   "nbconvert_exporter": "python",
   "pygments_lexer": "ipython3",
   "version": "3.7.6"
  }
 },
 "nbformat": 4,
 "nbformat_minor": 4
}
