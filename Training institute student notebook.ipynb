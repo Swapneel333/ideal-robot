{
 "cells": [
  {
   "cell_type": "markdown",
   "metadata": {},
   "source": [
    "# ML HACKATHON"
   ]
  },
  {
   "cell_type": "code",
   "execution_count": 1,
   "metadata": {},
   "outputs": [],
   "source": [
    "import numpy as np\n",
    "import pandas as pd\n",
    "import matplotlib.pyplot as plt\n",
    "import seaborn as sns\n",
    "\n",
    "import warnings\n",
    "warnings.filterwarnings(\"ignore\")\n",
    "%matplotlib inline"
   ]
  },
  {
   "cell_type": "code",
   "execution_count": 2,
   "metadata": {},
   "outputs": [
    {
     "data": {
      "text/html": [
       "<div>\n",
       "<style scoped>\n",
       "    .dataframe tbody tr th:only-of-type {\n",
       "        vertical-align: middle;\n",
       "    }\n",
       "\n",
       "    .dataframe tbody tr th {\n",
       "        vertical-align: top;\n",
       "    }\n",
       "\n",
       "    .dataframe thead th {\n",
       "        text-align: right;\n",
       "    }\n",
       "</style>\n",
       "<table border=\"1\" class=\"dataframe\">\n",
       "  <thead>\n",
       "    <tr style=\"text-align: right;\">\n",
       "      <th></th>\n",
       "      <th>id</th>\n",
       "      <th>program_id</th>\n",
       "      <th>program_type</th>\n",
       "      <th>program_duration</th>\n",
       "      <th>test_id</th>\n",
       "      <th>test_type</th>\n",
       "      <th>difficulty_level</th>\n",
       "      <th>trainee_id</th>\n",
       "      <th>gender</th>\n",
       "      <th>education</th>\n",
       "      <th>city_tier</th>\n",
       "      <th>age</th>\n",
       "      <th>total_programs_enrolled</th>\n",
       "      <th>is_handicapped</th>\n",
       "      <th>trainee_engagement_rating</th>\n",
       "      <th>is_pass</th>\n",
       "    </tr>\n",
       "  </thead>\n",
       "  <tbody>\n",
       "    <tr>\n",
       "      <th>0</th>\n",
       "      <td>13695_33</td>\n",
       "      <td>T_2</td>\n",
       "      <td>T</td>\n",
       "      <td>117</td>\n",
       "      <td>33</td>\n",
       "      <td>offline</td>\n",
       "      <td>intermediate</td>\n",
       "      <td>13695</td>\n",
       "      <td>F</td>\n",
       "      <td>Matriculation</td>\n",
       "      <td>2</td>\n",
       "      <td>43.0</td>\n",
       "      <td>2</td>\n",
       "      <td>N</td>\n",
       "      <td>1.0</td>\n",
       "      <td>1</td>\n",
       "    </tr>\n",
       "    <tr>\n",
       "      <th>1</th>\n",
       "      <td>873_139</td>\n",
       "      <td>Y_2</td>\n",
       "      <td>Y</td>\n",
       "      <td>120</td>\n",
       "      <td>139</td>\n",
       "      <td>offline</td>\n",
       "      <td>hard</td>\n",
       "      <td>873</td>\n",
       "      <td>M</td>\n",
       "      <td>Matriculation</td>\n",
       "      <td>2</td>\n",
       "      <td>NaN</td>\n",
       "      <td>2</td>\n",
       "      <td>N</td>\n",
       "      <td>3.0</td>\n",
       "      <td>1</td>\n",
       "    </tr>\n",
       "    <tr>\n",
       "      <th>2</th>\n",
       "      <td>6987_73</td>\n",
       "      <td>V_4</td>\n",
       "      <td>V</td>\n",
       "      <td>122</td>\n",
       "      <td>73</td>\n",
       "      <td>online</td>\n",
       "      <td>easy</td>\n",
       "      <td>6987</td>\n",
       "      <td>M</td>\n",
       "      <td>Matriculation</td>\n",
       "      <td>1</td>\n",
       "      <td>NaN</td>\n",
       "      <td>2</td>\n",
       "      <td>N</td>\n",
       "      <td>3.0</td>\n",
       "      <td>1</td>\n",
       "    </tr>\n",
       "    <tr>\n",
       "      <th>3</th>\n",
       "      <td>3380_100</td>\n",
       "      <td>V_1</td>\n",
       "      <td>V</td>\n",
       "      <td>133</td>\n",
       "      <td>100</td>\n",
       "      <td>offline</td>\n",
       "      <td>vary hard</td>\n",
       "      <td>3380</td>\n",
       "      <td>F</td>\n",
       "      <td>High School Diploma</td>\n",
       "      <td>3</td>\n",
       "      <td>30.0</td>\n",
       "      <td>2</td>\n",
       "      <td>Y</td>\n",
       "      <td>1.0</td>\n",
       "      <td>0</td>\n",
       "    </tr>\n",
       "    <tr>\n",
       "      <th>4</th>\n",
       "      <td>1906_114</td>\n",
       "      <td>Y_4</td>\n",
       "      <td>Y</td>\n",
       "      <td>121</td>\n",
       "      <td>114</td>\n",
       "      <td>offline</td>\n",
       "      <td>intermediate</td>\n",
       "      <td>1906</td>\n",
       "      <td>M</td>\n",
       "      <td>High School Diploma</td>\n",
       "      <td>3</td>\n",
       "      <td>NaN</td>\n",
       "      <td>2</td>\n",
       "      <td>N</td>\n",
       "      <td>5.0</td>\n",
       "      <td>1</td>\n",
       "    </tr>\n",
       "  </tbody>\n",
       "</table>\n",
       "</div>"
      ],
      "text/plain": [
       "         id program_id program_type  program_duration  test_id test_type  \\\n",
       "0  13695_33        T_2            T               117       33   offline   \n",
       "1   873_139        Y_2            Y               120      139   offline   \n",
       "2   6987_73        V_4            V               122       73    online   \n",
       "3  3380_100        V_1            V               133      100   offline   \n",
       "4  1906_114        Y_4            Y               121      114   offline   \n",
       "\n",
       "  difficulty_level  trainee_id gender            education  city_tier   age  \\\n",
       "0     intermediate       13695      F        Matriculation          2  43.0   \n",
       "1             hard         873      M        Matriculation          2   NaN   \n",
       "2             easy        6987      M        Matriculation          1   NaN   \n",
       "3        vary hard        3380      F  High School Diploma          3  30.0   \n",
       "4     intermediate        1906      M  High School Diploma          3   NaN   \n",
       "\n",
       "   total_programs_enrolled is_handicapped  trainee_engagement_rating  is_pass  \n",
       "0                        2              N                        1.0        1  \n",
       "1                        2              N                        3.0        1  \n",
       "2                        2              N                        3.0        1  \n",
       "3                        2              Y                        1.0        0  \n",
       "4                        2              N                        5.0        1  "
      ]
     },
     "execution_count": 2,
     "metadata": {},
     "output_type": "execute_result"
    }
   ],
   "source": [
    "train = pd.read_csv(r'C:\\Users\\MY PC\\Desktop\\Train.csv')\n",
    "test = pd.read_csv(r'C:\\Users\\MY PC\\Desktop\\Test.csv')\n",
    "train.head()"
   ]
  },
  {
   "cell_type": "code",
   "execution_count": 3,
   "metadata": {},
   "outputs": [
    {
     "data": {
      "text/plain": [
       "(51202, 16)"
      ]
     },
     "execution_count": 3,
     "metadata": {},
     "output_type": "execute_result"
    }
   ],
   "source": [
    "train.shape"
   ]
  },
  {
   "cell_type": "code",
   "execution_count": 4,
   "metadata": {},
   "outputs": [
    {
     "data": {
      "text/plain": [
       "(21945, 15)"
      ]
     },
     "execution_count": 4,
     "metadata": {},
     "output_type": "execute_result"
    }
   ],
   "source": [
    "test.shape"
   ]
  },
  {
   "cell_type": "code",
   "execution_count": 5,
   "metadata": {},
   "outputs": [
    {
     "name": "stdout",
     "output_type": "stream",
     "text": [
      "<class 'pandas.core.frame.DataFrame'>\n",
      "RangeIndex: 51202 entries, 0 to 51201\n",
      "Data columns (total 16 columns):\n",
      " #   Column                     Non-Null Count  Dtype  \n",
      "---  ------                     --------------  -----  \n",
      " 0   id                         51202 non-null  object \n",
      " 1   program_id                 51202 non-null  object \n",
      " 2   program_type               51202 non-null  object \n",
      " 3   program_duration           51202 non-null  int64  \n",
      " 4   test_id                    51202 non-null  int64  \n",
      " 5   test_type                  51202 non-null  object \n",
      " 6   difficulty_level           51202 non-null  object \n",
      " 7   trainee_id                 51202 non-null  int64  \n",
      " 8   gender                     51202 non-null  object \n",
      " 9   education                  51202 non-null  object \n",
      " 10  city_tier                  51202 non-null  int64  \n",
      " 11  age                        31857 non-null  float64\n",
      " 12  total_programs_enrolled    51202 non-null  int64  \n",
      " 13  is_handicapped             51202 non-null  object \n",
      " 14  trainee_engagement_rating  51151 non-null  float64\n",
      " 15  is_pass                    51202 non-null  int64  \n",
      "dtypes: float64(2), int64(6), object(8)\n",
      "memory usage: 6.3+ MB\n"
     ]
    }
   ],
   "source": [
    "train.info()"
   ]
  },
  {
   "cell_type": "code",
   "execution_count": 6,
   "metadata": {},
   "outputs": [
    {
     "name": "stdout",
     "output_type": "stream",
     "text": [
      "<class 'pandas.core.frame.DataFrame'>\n",
      "RangeIndex: 21945 entries, 0 to 21944\n",
      "Data columns (total 15 columns):\n",
      " #   Column                     Non-Null Count  Dtype  \n",
      "---  ------                     --------------  -----  \n",
      " 0   id                         21945 non-null  object \n",
      " 1   program_id                 21945 non-null  object \n",
      " 2   program_type               21945 non-null  object \n",
      " 3   program_duration           21945 non-null  int64  \n",
      " 4   test_id                    21945 non-null  int64  \n",
      " 5   test_type                  21945 non-null  object \n",
      " 6   difficulty_level           21945 non-null  object \n",
      " 7   trainee_id                 21945 non-null  int64  \n",
      " 8   gender                     21945 non-null  object \n",
      " 9   education                  21945 non-null  object \n",
      " 10  city_tier                  21945 non-null  int64  \n",
      " 11  age                        13561 non-null  float64\n",
      " 12  total_programs_enrolled    21945 non-null  int64  \n",
      " 13  is_handicapped             21945 non-null  object \n",
      " 14  trainee_engagement_rating  21919 non-null  float64\n",
      "dtypes: float64(2), int64(5), object(8)\n",
      "memory usage: 2.5+ MB\n"
     ]
    }
   ],
   "source": [
    "test.info()"
   ]
  },
  {
   "cell_type": "markdown",
   "metadata": {},
   "source": [
    "## Dropping the Variables:\n",
    "- id\n",
    "- program_id\n",
    "- test_id\n",
    "- trainee_id\n",
    "\n",
    "These variables would not have much impact on the model."
   ]
  },
  {
   "cell_type": "code",
   "execution_count": 7,
   "metadata": {},
   "outputs": [
    {
     "data": {
      "text/html": [
       "<div>\n",
       "<style scoped>\n",
       "    .dataframe tbody tr th:only-of-type {\n",
       "        vertical-align: middle;\n",
       "    }\n",
       "\n",
       "    .dataframe tbody tr th {\n",
       "        vertical-align: top;\n",
       "    }\n",
       "\n",
       "    .dataframe thead th {\n",
       "        text-align: right;\n",
       "    }\n",
       "</style>\n",
       "<table border=\"1\" class=\"dataframe\">\n",
       "  <thead>\n",
       "    <tr style=\"text-align: right;\">\n",
       "      <th></th>\n",
       "      <th>program_type</th>\n",
       "      <th>program_duration</th>\n",
       "      <th>test_type</th>\n",
       "      <th>difficulty_level</th>\n",
       "      <th>gender</th>\n",
       "      <th>education</th>\n",
       "      <th>city_tier</th>\n",
       "      <th>age</th>\n",
       "      <th>total_programs_enrolled</th>\n",
       "      <th>is_handicapped</th>\n",
       "      <th>trainee_engagement_rating</th>\n",
       "      <th>is_pass</th>\n",
       "    </tr>\n",
       "  </thead>\n",
       "  <tbody>\n",
       "    <tr>\n",
       "      <th>0</th>\n",
       "      <td>T</td>\n",
       "      <td>117</td>\n",
       "      <td>offline</td>\n",
       "      <td>intermediate</td>\n",
       "      <td>F</td>\n",
       "      <td>Matriculation</td>\n",
       "      <td>2</td>\n",
       "      <td>43.0</td>\n",
       "      <td>2</td>\n",
       "      <td>N</td>\n",
       "      <td>1.0</td>\n",
       "      <td>1</td>\n",
       "    </tr>\n",
       "    <tr>\n",
       "      <th>1</th>\n",
       "      <td>Y</td>\n",
       "      <td>120</td>\n",
       "      <td>offline</td>\n",
       "      <td>hard</td>\n",
       "      <td>M</td>\n",
       "      <td>Matriculation</td>\n",
       "      <td>2</td>\n",
       "      <td>NaN</td>\n",
       "      <td>2</td>\n",
       "      <td>N</td>\n",
       "      <td>3.0</td>\n",
       "      <td>1</td>\n",
       "    </tr>\n",
       "    <tr>\n",
       "      <th>2</th>\n",
       "      <td>V</td>\n",
       "      <td>122</td>\n",
       "      <td>online</td>\n",
       "      <td>easy</td>\n",
       "      <td>M</td>\n",
       "      <td>Matriculation</td>\n",
       "      <td>1</td>\n",
       "      <td>NaN</td>\n",
       "      <td>2</td>\n",
       "      <td>N</td>\n",
       "      <td>3.0</td>\n",
       "      <td>1</td>\n",
       "    </tr>\n",
       "    <tr>\n",
       "      <th>3</th>\n",
       "      <td>V</td>\n",
       "      <td>133</td>\n",
       "      <td>offline</td>\n",
       "      <td>vary hard</td>\n",
       "      <td>F</td>\n",
       "      <td>High School Diploma</td>\n",
       "      <td>3</td>\n",
       "      <td>30.0</td>\n",
       "      <td>2</td>\n",
       "      <td>Y</td>\n",
       "      <td>1.0</td>\n",
       "      <td>0</td>\n",
       "    </tr>\n",
       "    <tr>\n",
       "      <th>4</th>\n",
       "      <td>Y</td>\n",
       "      <td>121</td>\n",
       "      <td>offline</td>\n",
       "      <td>intermediate</td>\n",
       "      <td>M</td>\n",
       "      <td>High School Diploma</td>\n",
       "      <td>3</td>\n",
       "      <td>NaN</td>\n",
       "      <td>2</td>\n",
       "      <td>N</td>\n",
       "      <td>5.0</td>\n",
       "      <td>1</td>\n",
       "    </tr>\n",
       "  </tbody>\n",
       "</table>\n",
       "</div>"
      ],
      "text/plain": [
       "  program_type  program_duration test_type difficulty_level gender  \\\n",
       "0            T               117   offline     intermediate      F   \n",
       "1            Y               120   offline             hard      M   \n",
       "2            V               122    online             easy      M   \n",
       "3            V               133   offline        vary hard      F   \n",
       "4            Y               121   offline     intermediate      M   \n",
       "\n",
       "             education  city_tier   age  total_programs_enrolled  \\\n",
       "0        Matriculation          2  43.0                        2   \n",
       "1        Matriculation          2   NaN                        2   \n",
       "2        Matriculation          1   NaN                        2   \n",
       "3  High School Diploma          3  30.0                        2   \n",
       "4  High School Diploma          3   NaN                        2   \n",
       "\n",
       "  is_handicapped  trainee_engagement_rating  is_pass  \n",
       "0              N                        1.0        1  \n",
       "1              N                        3.0        1  \n",
       "2              N                        3.0        1  \n",
       "3              Y                        1.0        0  \n",
       "4              N                        5.0        1  "
      ]
     },
     "execution_count": 7,
     "metadata": {},
     "output_type": "execute_result"
    }
   ],
   "source": [
    "train = train.drop([\"id\" , \"program_id\" , \"test_id\" , \"trainee_id\"] , axis = 1)\n",
    "train.head()"
   ]
  },
  {
   "cell_type": "code",
   "execution_count": 8,
   "metadata": {},
   "outputs": [
    {
     "data": {
      "text/html": [
       "<div>\n",
       "<style scoped>\n",
       "    .dataframe tbody tr th:only-of-type {\n",
       "        vertical-align: middle;\n",
       "    }\n",
       "\n",
       "    .dataframe tbody tr th {\n",
       "        vertical-align: top;\n",
       "    }\n",
       "\n",
       "    .dataframe thead th {\n",
       "        text-align: right;\n",
       "    }\n",
       "</style>\n",
       "<table border=\"1\" class=\"dataframe\">\n",
       "  <thead>\n",
       "    <tr style=\"text-align: right;\">\n",
       "      <th></th>\n",
       "      <th>program_type</th>\n",
       "      <th>program_duration</th>\n",
       "      <th>test_type</th>\n",
       "      <th>difficulty_level</th>\n",
       "      <th>gender</th>\n",
       "      <th>education</th>\n",
       "      <th>city_tier</th>\n",
       "      <th>age</th>\n",
       "      <th>total_programs_enrolled</th>\n",
       "      <th>is_handicapped</th>\n",
       "      <th>trainee_engagement_rating</th>\n",
       "    </tr>\n",
       "  </thead>\n",
       "  <tbody>\n",
       "    <tr>\n",
       "      <th>0</th>\n",
       "      <td>Y</td>\n",
       "      <td>136</td>\n",
       "      <td>offline</td>\n",
       "      <td>intermediate</td>\n",
       "      <td>M</td>\n",
       "      <td>Matriculation</td>\n",
       "      <td>1</td>\n",
       "      <td>42.0</td>\n",
       "      <td>2</td>\n",
       "      <td>Y</td>\n",
       "      <td>3.0</td>\n",
       "    </tr>\n",
       "    <tr>\n",
       "      <th>1</th>\n",
       "      <td>T</td>\n",
       "      <td>134</td>\n",
       "      <td>offline</td>\n",
       "      <td>intermediate</td>\n",
       "      <td>F</td>\n",
       "      <td>Matriculation</td>\n",
       "      <td>3</td>\n",
       "      <td>25.0</td>\n",
       "      <td>2</td>\n",
       "      <td>Y</td>\n",
       "      <td>1.0</td>\n",
       "    </tr>\n",
       "    <tr>\n",
       "      <th>2</th>\n",
       "      <td>V</td>\n",
       "      <td>131</td>\n",
       "      <td>offline</td>\n",
       "      <td>intermediate</td>\n",
       "      <td>F</td>\n",
       "      <td>High School Diploma</td>\n",
       "      <td>3</td>\n",
       "      <td>24.0</td>\n",
       "      <td>3</td>\n",
       "      <td>N</td>\n",
       "      <td>1.0</td>\n",
       "    </tr>\n",
       "    <tr>\n",
       "      <th>3</th>\n",
       "      <td>V</td>\n",
       "      <td>131</td>\n",
       "      <td>offline</td>\n",
       "      <td>intermediate</td>\n",
       "      <td>M</td>\n",
       "      <td>Matriculation</td>\n",
       "      <td>3</td>\n",
       "      <td>NaN</td>\n",
       "      <td>4</td>\n",
       "      <td>N</td>\n",
       "      <td>3.0</td>\n",
       "    </tr>\n",
       "    <tr>\n",
       "      <th>4</th>\n",
       "      <td>Y</td>\n",
       "      <td>136</td>\n",
       "      <td>online</td>\n",
       "      <td>easy</td>\n",
       "      <td>M</td>\n",
       "      <td>High School Diploma</td>\n",
       "      <td>1</td>\n",
       "      <td>45.0</td>\n",
       "      <td>3</td>\n",
       "      <td>N</td>\n",
       "      <td>4.0</td>\n",
       "    </tr>\n",
       "  </tbody>\n",
       "</table>\n",
       "</div>"
      ],
      "text/plain": [
       "  program_type  program_duration test_type difficulty_level gender  \\\n",
       "0            Y               136   offline     intermediate      M   \n",
       "1            T               134   offline     intermediate      F   \n",
       "2            V               131   offline     intermediate      F   \n",
       "3            V               131   offline     intermediate      M   \n",
       "4            Y               136    online             easy      M   \n",
       "\n",
       "             education  city_tier   age  total_programs_enrolled  \\\n",
       "0        Matriculation          1  42.0                        2   \n",
       "1        Matriculation          3  25.0                        2   \n",
       "2  High School Diploma          3  24.0                        3   \n",
       "3        Matriculation          3   NaN                        4   \n",
       "4  High School Diploma          1  45.0                        3   \n",
       "\n",
       "  is_handicapped  trainee_engagement_rating  \n",
       "0              Y                        3.0  \n",
       "1              Y                        1.0  \n",
       "2              N                        1.0  \n",
       "3              N                        3.0  \n",
       "4              N                        4.0  "
      ]
     },
     "execution_count": 8,
     "metadata": {},
     "output_type": "execute_result"
    }
   ],
   "source": [
    "test = test.drop([\"id\" , \"program_id\" , \"test_id\" , \"trainee_id\"] , axis = 1)\n",
    "test.head()"
   ]
  },
  {
   "cell_type": "markdown",
   "metadata": {},
   "source": [
    "## Missing Value Treatment"
   ]
  },
  {
   "cell_type": "code",
   "execution_count": 9,
   "metadata": {},
   "outputs": [
    {
     "data": {
      "text/plain": [
       "program_type                     0\n",
       "program_duration                 0\n",
       "test_type                        0\n",
       "difficulty_level                 0\n",
       "gender                           0\n",
       "education                        0\n",
       "city_tier                        0\n",
       "age                          19345\n",
       "total_programs_enrolled          0\n",
       "is_handicapped                   0\n",
       "trainee_engagement_rating       51\n",
       "is_pass                          0\n",
       "dtype: int64"
      ]
     },
     "execution_count": 9,
     "metadata": {},
     "output_type": "execute_result"
    }
   ],
   "source": [
    "train.isnull().sum()"
   ]
  },
  {
   "cell_type": "code",
   "execution_count": 10,
   "metadata": {
    "scrolled": true
   },
   "outputs": [
    {
     "data": {
      "text/plain": [
       "program_type                    0\n",
       "program_duration                0\n",
       "test_type                       0\n",
       "difficulty_level                0\n",
       "gender                          0\n",
       "education                       0\n",
       "city_tier                       0\n",
       "age                          8384\n",
       "total_programs_enrolled         0\n",
       "is_handicapped                  0\n",
       "trainee_engagement_rating      26\n",
       "dtype: int64"
      ]
     },
     "execution_count": 10,
     "metadata": {},
     "output_type": "execute_result"
    }
   ],
   "source": [
    "test.isnull().sum()"
   ]
  },
  {
   "cell_type": "code",
   "execution_count": 11,
   "metadata": {},
   "outputs": [
    {
     "data": {
      "text/plain": [
       "<matplotlib.axes._subplots.AxesSubplot at 0x2e5c9867948>"
      ]
     },
     "execution_count": 11,
     "metadata": {},
     "output_type": "execute_result"
    },
    {
     "data": {
      "image/png": "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\n",
      "text/plain": [
       "<Figure size 432x288 with 1 Axes>"
      ]
     },
     "metadata": {
      "needs_background": "light"
     },
     "output_type": "display_data"
    }
   ],
   "source": [
    "train.age.hist(bins=50)"
   ]
  },
  {
   "cell_type": "code",
   "execution_count": 12,
   "metadata": {},
   "outputs": [
    {
     "data": {
      "text/plain": [
       "<matplotlib.axes._subplots.AxesSubplot at 0x2e5cc150a48>"
      ]
     },
     "execution_count": 12,
     "metadata": {},
     "output_type": "execute_result"
    },
    {
     "data": {
      "image/png": "iVBORw0KGgoAAAANSUhEUgAAAX0AAAD4CAYAAAAAczaOAAAABHNCSVQICAgIfAhkiAAAAAlwSFlzAAALEgAACxIB0t1+/AAAADh0RVh0U29mdHdhcmUAbWF0cGxvdGxpYiB2ZXJzaW9uMy4xLjMsIGh0dHA6Ly9tYXRwbG90bGliLm9yZy+AADFEAAATz0lEQVR4nO3df6ykV33f8fenXgyON3htTK6s3W3XUVYEygbHXNlOqdBdnIKNEfYfWDVykjV1tapkUqdyVJv0D6tpUI1aYkBKkVaskyWiXFwD8grckNXiK8IfdvDGlLUxqRdna197Y4f6R3KBgDb99o95Fq7X9+fM3Lmze94v6Wqe5zxn5jn3zMxnzpx55plUFZKkNvyj9W6AJGl0DH1JaoihL0kNMfQlqSGGviQ1ZMN6N2Ap559/fm3btm29m/Ey3//+9zn77LPXuxljzT5amv2zPPtoacv1z6FDh75XVa9faNtYh/62bdt46KGH1rsZLzMzM8PU1NR6N2Os2UdLs3+WZx8tbbn+SfJ/Ftvm9I4kNcTQl6SGGPqS1BBDX5IaYuhLUkMMfUlqiKEvSQ0x9CWpIYa+JDVkrL+RK2ltbbvtywuWH73jqhG3RKOy7Eg/yV1JnkvyyLyy/5LkO0m+leSLSTbN2/ahJEeS/GWSd80rv6IrO5LktuH/K5Kk5axkeuePgCtOKjsAvLmqfgn438CHAJK8CbgO+Kfddf5bkjOSnAH8AXAl8Cbg/V1dSdIILRv6VfU14PmTyv60qo53qw8AW7rlq4HpqvpRVf0VcAS4pPs7UlVPVNWPgemuriRphIYxp/+vgM91y5vpvQicMNuVATx1UvmlC91Ykt3AboCJiQlmZmaG0MThmZubG7s2jRv7aGnj1D+37Di+YPl6t2+c+mgcDdI/A4V+kv8AHAc+c6JogWrFwu8oaqHbrKo9wB6AycnJGrfTq3rK1+XZR0sbp/65YbEPcq+fGm1DTjJOfTSOBumfvkM/yS7gPcDlVXUiwGeBrfOqbQGe6ZYXK5ckjUhfx+knuQK4FXhvVf1g3qb9wHVJXp3kQmA78OfAN4DtSS5Mcia9D3v3D9Z0SdJqLTvST/JZYAo4P8kscDu9o3VeDRxIAvBAVf2bqno0yd3At+lN+9xUVf/Q3c4Hga8AZwB3VdWja/D/SJKWsGzoV9X7Fyjeu0T9DwMfXqD8PuC+VbVOkjRUnoZBkhpi6EtSQwx9SWqIoS9JDTH0JakhnlpZOs0tdvpktcmRviQ1xNCXpIYY+pLUEENfkhpi6EtSQwx9SWqIoS9JDTH0Jakhhr4kNcTQl6SGGPqS1BBDX5IaYuhLUkMMfUlqiKEvSQ0x9CWpIYa+JDXE0Jekhhj6ktSQZUM/yV1JnkvyyLyy85IcSPJ4d3luV54kn0hyJMm3klw87zq7uvqPJ9m1Nv+OJGkpKxnp/xFwxUlltwEHq2o7cLBbB7gS2N797QY+Cb0XCeB24FLgEuD2Ey8UkqTRWTb0q+prwPMnFV8N7OuW9wHXzCv/dPU8AGxKcgHwLuBAVT1fVS8AB3jlC4kkaY1t6PN6E1V1DKCqjiX5ua58M/DUvHqzXdli5a+QZDe9dwlMTEwwMzPTZxPXxtzc3Ni1adzYR0sbdf/csuP4qq+z3vefj6GlDdI//Yb+YrJAWS1R/srCqj3AHoDJycmampoaWuOGYWZmhnFr07ixj5Y26v654bYvr/o6R6+fGn5DVsHH0NIG6Z9+j955tpu2obt8riufBbbOq7cFeGaJcknSCPUb+vuBE0fg7ALunVf+G91RPJcBL3XTQF8B3pnk3O4D3Hd2ZZKkEVp2eifJZ4Ep4Pwks/SOwrkDuDvJjcCTwLVd9fuAdwNHgB8AHwCoqueT/CfgG129362qkz8cliStsWVDv6rev8imyxeoW8BNi9zOXcBdq2qdJGmo/EauJDXE0Jekhhj6ktQQQ1+SGmLoS1JDDH1JaoihL0kNGfa5dyStsW2LnEvn6B1XjbglOhUZ+lqQwSKdngx9Sa/gi/7pyzl9SWqII/1GOHKTBI70Jakphr4kNcTQl6SGGPqS1BBDX5IaYuhLUkMMfUlqiKEvSQ0x9CWpIYa+JDXE0Jekhhj6ktSQgUI/yb9L8miSR5J8NslrklyY5MEkjyf5XJIzu7qv7taPdNu3DeMfkCStXN+hn2Qz8G+Byap6M3AGcB3wEeDOqtoOvADc2F3lRuCFqvoF4M6uniRphAad3tkAnJVkA/AzwDHgHcA93fZ9wDXd8tXdOt32y5NkwP1Lklah79CvqqeB/wo8SS/sXwIOAS9W1fGu2iywuVveDDzVXfd4V/91/e5fkrR6qar+rpicC3we+JfAi8D/6NZv76ZwSLIVuK+qdiR5FHhXVc12274LXFJV//ek290N7AaYmJh46/T0dF/tWytzc3Ns3LhxvZuxaoeffmnB8h2bzxlK/flO1T4alUH7Z1j3ZT9Wcv8Pg4+hpS3XPzt37jxUVZMLbRvkl7N+FfirqvobgCRfAP4ZsCnJhm40vwV4pqs/C2wFZrvpoHOA50++0araA+wBmJycrKmpqQGaOHwzMzOMW5tW4obFfjnr+qmh1J/vVO2jURm0f4Z1X/ZjJff/MPgYWtog/TPInP6TwGVJfqabm78c+DZwP/C+rs4u4N5ueX+3Trf9q9Xv2wxJUl/6HulX1YNJ7gH+AjgOPExvhP5lYDrJ73Vle7ur7AX+OMkReiP86wZpuNaHv7UrndoG+mH0qroduP2k4ieASxao+/fAtYPsT5I0GL+RK0kNGWikr/Gz2PSLJIEjfUlqiqEvSQ0x9CWpIYa+JDXE0Jekhhj6ktQQQ1+SGmLoS1JDDH1JaoihL0kNMfQlqSGGviQ1xNCXpIYY+pLUEENfkhpi6EtSQwx9SWqIoS9JDTH0Jakhhr4kNcQfRtdQzP9B9lt2HOeGbv3oHVetV5MkLcCRviQ1xJG+NKbmv3uShmWgkX6STUnuSfKdJI8l+ZUk5yU5kOTx7vLcrm6SfCLJkSTfSnLxcP4FSdJKDTq983HgT6rqF4G3AI8BtwEHq2o7cLBbB7gS2N797QY+OeC+JUmr1HfoJ3kt8HZgL0BV/biqXgSuBvZ11fYB13TLVwOfrp4HgE1JLui75ZKkVUtV9XfF5CJgD/BteqP8Q8DNwNNVtWlevReq6twkXwLuqKqvd+UHgVur6qGTbnc3vXcCTExMvHV6erqv9q2Vubk5Nm7cuN7NWNThp19aVf0dm88Zyu3MN3EWPPvDpW+/ZSt9DI3DfbnSfQzbuD/P1tty/bNz585DVTW50LZBPsjdAFwM/GZVPZjk4/x0KmchWaDsFa84VbWH3osJk5OTNTU1NUATh29mZoZxa9N8N6zyw7+j108N5Xbmu2XHcT56eMOSt9+ylT6GxuG+XOk+hm3cn2frbZD+GST0Z4HZqnqwW7+HXug/m+SCqjrWTd88N6/+1nnX3wI8M8D+m+VRHZL61fecflX9NfBUkjd0RZfTm+rZD+zqynYB93bL+4Hf6I7iuQx4qaqO9bt/SdLqDXqc/m8Cn0lyJvAE8AF6LyR3J7kReBK4tqt7H/Bu4Ajwg66uJGmEBgr9qvomsNCHBZcvULeAmwbZnyRpMJ6GQZIaYuhLUkM8946kFVvsyDHPpnrqcKQvSQ0x9CWpIYa+JDXE0Jekhhj6ktQQQ1+SGmLoS1JDDH1JaoihL0kNMfQlqSGGviQ1xNCXpIYY+pLUEENfkhriqZW1pjwVrzReHOlLUkMMfUlqiKEvSQ0x9CWpIYa+JDXE0Jekhhj6ktSQgUM/yRlJHk7ypW79wiQPJnk8yeeSnNmVv7pbP9Jt3zboviVJqzOMkf7NwGPz1j8C3FlV24EXgBu78huBF6rqF4A7u3qSpBEaKPSTbAGuAj7VrQd4B3BPV2UfcE23fHW3Trf98q6+JGlEUlX9Xzm5B/jPwM8Cvw3cADzQjeZJshX4n1X15iSPAFdU1Wy37bvApVX1vZNuczewG2BiYuKt09PTfbdvLczNzbFx48Z1bcPhp18a2m3t2HzO0PcxcRY8+8P+9tuClT6GVnsfrMV9Oei++zUOz7Nxtlz/7Ny581BVTS60re9z7yR5D/BcVR1KMnWieIGqtYJtPy2o2gPsAZicnKypqamTq6yrmZkZ1rtNNyxyPpt+HL1+auj7uGXHcT56eOmH1mL7bcFKH0OrvQ/W4r4cdN/9Gofn2TgbpH8GOeHa24D3Jnk38BrgtcDHgE1JNlTVcWAL8ExXfxbYCswm2QCcAzw/wP6l08JiJ6U7lXhivVNH33P6VfWhqtpSVduA64CvVtX1wP3A+7pqu4B7u+X93Trd9q/WIHNLkqRVW4tTK98KTCf5PeBhYG9Xvhf44yRH6I3wr1uDfZ9WTocRoKTxMpTQr6oZYKZbfgK4ZIE6fw9cO4z9SZL64zdyJakhhr4kNcTQl6SGGPqS1BBDX5IaYuhLUkMMfUlqiKEvSQ0x9CWpIYa+JDXE0Jekhhj6ktQQQ1+SGmLoS1JDDH1Jasha/IiKtCx/Xk9aH470Jakhhr4kNcTQl6SGGPqS1BBDX5IaYuhLUkMMfUlqiKEvSQ0x9CWpIX2HfpKtSe5P8liSR5Pc3JWfl+RAkse7y3O78iT5RJIjSb6V5OJh/ROSpJUZZKR/HLilqt4IXAbclORNwG3AwaraDhzs1gGuBLZ3f7uBTw6wb0lSH/o+905VHQOOdct/l+QxYDNwNTDVVdsHzAC3duWfrqoCHkiyKckF3e1IaojnXlo/6WXwgDeSbAO+BrwZeLKqNs3b9kJVnZvkS8AdVfX1rvwgcGtVPXTSbe2m906AiYmJt05PTw/cvmGam5tj48aNI9nX4adfWvN97Nh8ztD3PXEWPPvD4bbndHLyY2hY9/Na3JeDWm2bTtQf5fPsVLRc/+zcufNQVU0utG3gs2wm2Qh8HvitqvrbJItWXaDsFa84VbUH2AMwOTlZU1NTgzZxqGZmZhhVm25YZDQ0TEevnxr6vm/ZcZyPHu7vobVYe04nJz+GhnU/r8V9OajVtulE/VE+z05Fg/TPQKGf5FX0Av8zVfWFrvjZE9M2SS4AnuvKZ4Gt866+BXhmkP2fLhZ7qytJw9Z36Kc3pN8LPFZVvz9v035gF3BHd3nvvPIPJpkGLgVecj5fK+UcsDQcg4z03wb8OnA4yTe7st+hF/Z3J7kReBK4ttt2H/Bu4AjwA+ADA+xbktSHQY7e+ToLz9MDXL5A/QJu6nd/kqTB+Y1cSWqIv5ErjciJzyVu2XF8XY+oUdsc6UtSQwx9SWqIoS9JDXFOfw14TLmkceVIX5IaYuhLUkMMfUlqiKEvSQ0x9CWpIYa+JDXE0Jekhnicvk5pS/0AzXp9L8IfxdE4c6QvSQ1xpD8AR3TScC12JlK/zT48hr4kDdG4n4bF6R1JaogjfalPTu/pVGTo67S12rfZ4/62XOPlVH3RN/QljT1fkIfH0FdzTtURmjQMfpArSQ1xpL8C80eGJx8/LEmnEkNfkpZwuk0Hjjz0k1wBfBw4A/hUVd0x6jacbnei1KpT6QPecWnrSEM/yRnAHwD/ApgFvpFkf1V9ey32Z7hLWqlW8mLUI/1LgCNV9QRAkmngamBNQl9Sm8ZlVL0So25rqmpNbnjBnSXvA66oqn/drf86cGlVfXBend3A7m71DcBfjqyBK3M+8L31bsSYs4+WZv8szz5a2nL980+q6vULbRj1SD8LlL3sVaeq9gB7RtOc1UvyUFVNrnc7xpl9tDT7Z3n20dIG6Z9RH6c/C2ydt74FeGbEbZCkZo069L8BbE9yYZIzgeuA/SNugyQ1a6TTO1V1PMkHga/QO2Tzrqp6dJRtGIKxnXoaI/bR0uyf5dlHS+u7f0b6Qa4kaX157h1JaoihL0kNMfSXkGRrkvuTPJbk0SQ3d+XnJTmQ5PHu8tz1but6SPKaJH+e5H91/fMfu/ILkzzY9c/nug/tm5bkjCQPJ/lSt24fdZIcTXI4yTeTPNSV+RybJ8mmJPck+U6XR7/Sbx8Z+ks7DtxSVW8ELgNuSvIm4DbgYFVtBw526y36EfCOqnoLcBFwRZLLgI8Ad3b98wJw4zq2cVzcDDw2b90+ermdVXXRvGPPfY693MeBP6mqXwTeQu+x1FcfGfpLqKpjVfUX3fLf0evozfROHbGvq7YPuGZ9Wri+qmeuW31V91fAO4B7uvJm++eEJFuAq4BPdevBPlqOz7FOktcCbwf2AlTVj6vqRfrsI0N/hZJsA34ZeBCYqKpj0HthAH5u/Vq2vrppi28CzwEHgO8CL1bV8a7KLL0XypZ9DPj3wP/r1l+HfTRfAX+a5FB3GhbwOTbfzwN/A/xhN0X4qSRn02cfGforkGQj8Hngt6rqb9e7PeOkqv6hqi6i9+3qS4A3LlRttK0aH0neAzxXVYfmFy9Qtdk+At5WVRcDV9KbQn37ejdozGwALgY+WVW/DHyfAaa7DP1lJHkVvcD/TFV9oSt+NskF3fYL6I1ym9a93Zyh99nHpiQnvvjX+qk23ga8N8lRYJretM7HsI9+oqqe6S6fA75Ib/Dgc+ynZoHZqnqwW7+H3otAX31k6C+hm3vdCzxWVb8/b9N+YFe3vAu4d9RtGwdJXp9kU7d8FvCr9D73uB94X1et2f4BqKoPVdWWqtpG77QjX62q67GPAEhydpKfPbEMvBN4BJ9jP1FVfw08leQNXdHl9E5H31cf+Y3cJST558CfAYf56Xzs79Cb178b+MfAk8C1VfX8ujRyHSX5JXofIJ1BbwBxd1X9bpKfpzeqPQ94GPi1qvrR+rV0PCSZAn67qt5jH/V0/fDFbnUD8N+r6sNJXofPsZ9IchG9AwHOBJ4APkD3nGOVfWToS1JDnN6RpIYY+pLUEENfkhpi6EtSQwx9SWqIoS9JDTH0Jakh/x8xmGTbwIVsUwAAAABJRU5ErkJggg==\n",
      "text/plain": [
       "<Figure size 432x288 with 1 Axes>"
      ]
     },
     "metadata": {
      "needs_background": "light"
     },
     "output_type": "display_data"
    }
   ],
   "source": [
    "test.age.hist(bins=50)"
   ]
  },
  {
   "cell_type": "markdown",
   "metadata": {},
   "source": [
    "### Direct imputation for age column would not give true insights hence creating groups to impute for age of each category"
   ]
  },
  {
   "cell_type": "code",
   "execution_count": 13,
   "metadata": {},
   "outputs": [
    {
     "data": {
      "text/plain": [
       "program_type  gender  education          \n",
       "S             F       Bachelors              41.087719\n",
       "                      High School Diploma    37.694581\n",
       "                      Matriculation          40.726027\n",
       "              M       Bachelors              42.035461\n",
       "                      High School Diploma    37.509615\n",
       "                                               ...    \n",
       "Z             F       No Qualification       29.780488\n",
       "              M       Bachelors              41.421053\n",
       "                      High School Diploma    35.934132\n",
       "                      Matriculation          37.332344\n",
       "                      No Qualification       27.000000\n",
       "Name: age, Length: 65, dtype: float64"
      ]
     },
     "execution_count": 13,
     "metadata": {},
     "output_type": "execute_result"
    }
   ],
   "source": [
    "train.groupby([\"program_type\" ,\"gender\" , \"education\"])['age'].mean()"
   ]
  },
  {
   "cell_type": "code",
   "execution_count": 14,
   "metadata": {},
   "outputs": [],
   "source": [
    "train[\"age\"] = train[\"age\"].fillna(train.groupby([\"program_type\" ,\"gender\" , \"education\"])['age'].transform('mean'))"
   ]
  },
  {
   "cell_type": "code",
   "execution_count": 15,
   "metadata": {},
   "outputs": [],
   "source": [
    "test[\"age\"] = test[\"age\"].fillna(test.groupby([\"program_type\" , \"gender\" , \"education\"])['age'].transform('mean'))"
   ]
  },
  {
   "cell_type": "code",
   "execution_count": 16,
   "metadata": {},
   "outputs": [
    {
     "name": "stdout",
     "output_type": "stream",
     "text": [
      "0\n",
      "0\n"
     ]
    }
   ],
   "source": [
    "print(train[\"age\"].isnull().sum())\n",
    "print(test[\"age\"].isnull().sum())"
   ]
  },
  {
   "cell_type": "code",
   "execution_count": 17,
   "metadata": {},
   "outputs": [
    {
     "data": {
      "text/plain": [
       "<matplotlib.axes._subplots.AxesSubplot at 0x2e5cd063508>"
      ]
     },
     "execution_count": 17,
     "metadata": {},
     "output_type": "execute_result"
    },
    {
     "data": {
      "image/png": "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\n",
      "text/plain": [
       "<Figure size 432x288 with 1 Axes>"
      ]
     },
     "metadata": {
      "needs_background": "light"
     },
     "output_type": "display_data"
    }
   ],
   "source": [
    "sns.distplot(train.trainee_engagement_rating)"
   ]
  },
  {
   "cell_type": "code",
   "execution_count": 18,
   "metadata": {},
   "outputs": [
    {
     "data": {
      "text/plain": [
       "<matplotlib.axes._subplots.AxesSubplot at 0x2e5cd115e88>"
      ]
     },
     "execution_count": 18,
     "metadata": {},
     "output_type": "execute_result"
    },
    {
     "data": {
      "image/png": "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\n",
      "text/plain": [
       "<Figure size 432x288 with 1 Axes>"
      ]
     },
     "metadata": {
      "needs_background": "light"
     },
     "output_type": "display_data"
    }
   ],
   "source": [
    "sns.distplot(test.trainee_engagement_rating)"
   ]
  },
  {
   "cell_type": "code",
   "execution_count": 19,
   "metadata": {},
   "outputs": [
    {
     "data": {
      "text/plain": [
       "0"
      ]
     },
     "execution_count": 19,
     "metadata": {},
     "output_type": "execute_result"
    }
   ],
   "source": [
    "### Filling missing values with mean for trainee_engagement_rating\n",
    "\n",
    "train[\"trainee_engagement_rating\"] = train[\"trainee_engagement_rating\"].fillna(train[\"trainee_engagement_rating\"].mean())\n",
    "train[\"trainee_engagement_rating\"].isnull().sum()"
   ]
  },
  {
   "cell_type": "code",
   "execution_count": 20,
   "metadata": {},
   "outputs": [
    {
     "data": {
      "text/plain": [
       "0"
      ]
     },
     "execution_count": 20,
     "metadata": {},
     "output_type": "execute_result"
    }
   ],
   "source": [
    "### Filling missing values with mean for trainee_engagement_rating\n",
    "\n",
    "test[\"trainee_engagement_rating\"] = test[\"trainee_engagement_rating\"].fillna(test[\"trainee_engagement_rating\"].mean())\n",
    "test[\"trainee_engagement_rating\"].isnull().sum()"
   ]
  },
  {
   "cell_type": "code",
   "execution_count": 21,
   "metadata": {},
   "outputs": [],
   "source": [
    "x = train.drop([\"is_pass\"],axis=1)\n",
    "y = train[\"is_pass\"]"
   ]
  },
  {
   "cell_type": "markdown",
   "metadata": {},
   "source": [
    "# EDA"
   ]
  },
  {
   "cell_type": "code",
   "execution_count": 22,
   "metadata": {},
   "outputs": [],
   "source": [
    "num_columns = list(train._get_numeric_data().columns)\n",
    "all_columns = list(train.columns)"
   ]
  },
  {
   "cell_type": "code",
   "execution_count": 23,
   "metadata": {},
   "outputs": [
    {
     "data": {
      "text/plain": [
       "['program_duration',\n",
       " 'city_tier',\n",
       " 'age',\n",
       " 'total_programs_enrolled',\n",
       " 'trainee_engagement_rating',\n",
       " 'is_pass']"
      ]
     },
     "execution_count": 23,
     "metadata": {},
     "output_type": "execute_result"
    }
   ],
   "source": [
    "num_columns"
   ]
  },
  {
   "cell_type": "code",
   "execution_count": 24,
   "metadata": {},
   "outputs": [
    {
     "data": {
      "text/plain": [
       "['program_type',\n",
       " 'test_type',\n",
       " 'difficulty_level',\n",
       " 'gender',\n",
       " 'education',\n",
       " 'is_handicapped']"
      ]
     },
     "execution_count": 24,
     "metadata": {},
     "output_type": "execute_result"
    }
   ],
   "source": [
    "cat_columns = []\n",
    "for i in all_columns:\n",
    "    if i not in num_columns:\n",
    "        cat_columns.append(i)\n",
    "cat_columns"
   ]
  },
  {
   "cell_type": "markdown",
   "metadata": {},
   "source": [
    "### CATAGORICAL FEATURES"
   ]
  },
  {
   "cell_type": "code",
   "execution_count": 25,
   "metadata": {},
   "outputs": [
    {
     "data": {
      "image/png": "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\n",
      "text/plain": [
       "<Figure size 576x360 with 1 Axes>"
      ]
     },
     "metadata": {
      "needs_background": "light"
     },
     "output_type": "display_data"
    },
    {
     "data": {
      "image/png": "iVBORw0KGgoAAAANSUhEUgAAAjgAAAFgCAYAAAC2QAPxAAAABHNCSVQICAgIfAhkiAAAAAlwSFlzAAALEgAACxIB0t1+/AAAADh0RVh0U29mdHdhcmUAbWF0cGxvdGxpYiB2ZXJzaW9uMy4xLjMsIGh0dHA6Ly9tYXRwbG90bGliLm9yZy+AADFEAAAgAElEQVR4nO3dfbRddX3n8ffH8BBFWOEhWiRgIitaIGogV2SmhWFKwUgpCIrCFAlWCGiY0eqygnbEQZnqiNSCGhdgeLAgPqQg7WBpZLSIEiRpw0NAJgGjXIkQQOWZEvnOH3df5hhu4iW5956Tfd+vtc46e3/3b+/923et4Mf9++2zU1VIkiS1yYu63QFJkqSRZsCRJEmtY8CRJEmtY8CRJEmtY8CRJEmtY8CRJEmtY8CRJEmtY8CRNGaSrEryx5t4jBOS3DDMthcn+eSmnE/S5smAI0mSWseAI2lMJPkKsBvwD0keS/KXSfZL8sMkv0pyS5IDO9qfkOSeJI8m+UmSP0uyB/Al4D80x/jVBs43F/gz4C+btv+Q5ENJFq7T7rwkn2uWv5fkr5P8KMmvk3wryQ4dbdfbX0m9Jb6qQdJYSbIKOLGqvpNkF+BW4J3APwEHAVcAvw88AawG3lBVdyXZGdihqpYnOaE5xh8O43wXA/1V9VfN+s7ASmCXqvpVki2A+4A3V9XSJN8DpgNvAn4CXAo8WVXHbai/VbVm0/86kkaSd3AkdctxwDVVdU1VPVtVi4AlwKHN9meBGUleXFWrq2r5pp6wqlYD1wNHN6XZwINVtbSj2Veq6vaqehz478Dbk0wYRn8l9RADjqRueSVwdDPc86tmuOkPgZ2bcPEO4BRgdZL/neT3R+i8lzAQVmi+v7LO9ns7ln8KbAnstKH+jlC/JI0gA46ksdQ5Jn4vA3dLJnV8tqmqTwFU1bVVdTADAeLHwAVDHOOFnG/QVcDrkswADgMuW2f7rh3LuwHPAA/+rv5K6i0GHElj6X7gVc3y3wF/muRNSSYkmZjkwCRTkrw8yeFJtgGeBh4DftNxjClJtnqB5wOgqp4CvglcDvyoqn62zj7HJdkzyUuAM4FvVtVvNtTfF/5nkDTaDDiSxtJfA3/VDO+8AzgC+AiwhoE7JB9i4L9LLwI+yMAE4IeB/wS8tznG/wGWA79I8uDvON+XgT2bIaWrOuqXAK/l+cNTNLWLgV8AE4H/BlBV926gv5J6jE9RSRp3kuzGwLDX71XVIx317wF/V1UXdqtvkkaG/89D0riS5EXAB4ArOsONpHbZotsdkKRNkWQ5A084revkqrpsnbbbMDAv56cMPCIuqaUcopIkSa3jEJUkSWqdcTdEtdNOO9XUqVO73Q1JkjQCli5d+mBVTV63Pu4CztSpU1myZEm3uyFJkkZAkp8OVXeISpIktc6oBZwkuyb5bpI7kyxP8r6mvkOSRUlWNN/bN/UkOTfJyiS3Jtmn41hzmvYrkszpqM9Kcluzz7lJMlrXI0mSNh+jeQdnLfDBqtoD2A+Yl2RP4DTguqqaDlzXrAO8GZjefOYC82EgEAFnAG8E9gXOGAxFTZu5Hfv52KckSRq9OThVtRpY3Sw/muROYBcGfur8wKbZJcD3gA839Utr4Ln1xUkmJdm5abuoqh4GSLIImN384uh2VXVjU78UeAvw7Rfa12eeeYb+/n6eeuqpjbvYlpg4cSJTpkxhyy237HZXJEnaJGMyyTjJVGBv4Cbg5U34oapWJ3lZ02wXBt7tMqi/qW2o3j9Efajzz2XgTg+77bbb87b39/ez7bbbMnXqVMbrKFdV8dBDD9Hf38+0adO63R1JkjbJqE8yTvJSYCHw/t/xs+hDJYvaiPrzi1XnV1VfVfVNnvy8J8l46qmn2HHHHcdtuAFIwo477jju72JJktphVANOki0ZCDeXVdXfN+X7m6Enmu8Hmno/sGvH7lMYeJPwhupThqhvbF83dtfW8G8gSWqL0XyKKsCXgTur6pyOTVcDg09CzQG+1VE/vnmaaj/g181Q1rXAIUm2byYXHwJc22x7NMl+zbmO7ziWJEkax0ZzDs4fAO8EbkuyrKl9BPgU8PUk7wZ+BhzdbLsGOBRYCTwBvAugqh5O8gng5qbdmYMTjoH3ABcDL2ZgcvELnmA8lFkfunQkDvOcpZ85fqP2O/fcc5k/fz777LMPCxYs4E/+5E948MEHOf3005k/fz5nn302fX19HHrooVx++eVMmjRpRPstSdLmajSforqBoefJABw0RPsC5q3nWAuABUPUlwAzNqGbPe2LX/wi3/72t5k2bRqLFy/mmWeeYdmygaw4f/7859pdc8013eqiJEk9yV8y7hHnnHMOM2bMYMaMGXzuc5/jlFNO4Z577uHwww/n05/+NMcddxzLli1j5syZ3H333b+179SpU3nwwQdZtWoVe+yxByeddBJ77bUXhxxyCE8++SQAd999N7Nnz2bWrFnsv//+/PjHP+7GZUqSNCYMOD1g6dKlXHTRRdx0000sXryYCy64gJNPPplXvOIVfPe73+XDH/4wF154Ifvvvz/Lli1j9913X++xVqxYwbx581i+fDmTJk1i4cKFAMydO5fzzjuPpUuXcvbZZ/Pe9753rC5PkqQxN+5ettmLbrjhBo488ki22WYbAI466ii+//3vb9Sxpk2bxsyZMwGYNWsWq1at4rHHHuOHP/whRx999HPtnn766U3vuDTOjfR8PW2ajZ3vqHYy4PSAgelHI2Prrbd+bnnChAk8+eSTPPvss0yaNOm5+TuSJLWdQ1Q94IADDuCqq67iiSee4PHHH+fKK69k//33H7Hjb7fddkybNo1vfOMbwECguuWWW0bs+JIk9Rrv4AxhrG9z7rPPPpxwwgnsu+++AJx44onsvffeI3qOyy67jPe85z188pOf5JlnnuGYY47h9a9//YieQ5KkXpGRHB7ZHPT19dWSJUt+q3bnnXeyxx57dKlHvcW/hTR8zsHpLc7BGZ+SLK2qvnXrDlFJkqTWMeBIkqTWMeBIkqTWMeBIkqTWMeBIkqTWMeBIkqTW8XdwhvCzM187osfb7WO3jejxTjjhBA477DDe9ra3ceKJJ/KBD3yAPffcc0TPIUnS5syAs5m78MILu90FSZJ6jkNUPeKcc85hxowZzJgxg8997nOsWrWKPfbYg5NOOom99tqLQw45hCeffPJ5+x144IEM/nDhS1/6Uj760Y/y+te/nv3224/7778fgDVr1vDWt76VN7zhDbzhDW/gBz/4wZhemyRJY82A0wOWLl3KRRddxE033cTixYu54IIL+OUvf8mKFSuYN28ey5cvZ9KkSSxcuHCDx3n88cfZb7/9uOWWWzjggAO44IILAHjf+97HX/zFX3DzzTezcOFCTjzxxLG4LEmSusYhqh5www03cOSRR7LNNtsAcNRRR/H973+fadOmMXPmTABmzZrFqlWrNnicrbbaisMOO+y59osWLQLgO9/5Dnfcccdz7R555BEeffRRtt1221G4GkmSus+A0wPW9z6wrbfe+rnlCRMmDDlE1WnLLbckyXPt165dC8Czzz7LjTfeyItf/OIR6rEkSb3NIaoecMABB3DVVVfxxBNP8Pjjj3PllVey//77j9jxDznkED7/+c8/t75s2bIRO7YkSb3IOzhDGOnHun+XffbZhxNOOIF9990XgBNPPJHtt99+xI5/7rnnMm/ePF73utexdu1aDjjgAL70pS+N2PElSeo1Wd/wSFv19fXV4FNHg+6880722GOPLvWot/i3kIZv1ocu7XYX1GHpZ47vdhfUBUmWVlXfunWHqCRJUusYcCRJUusYcBrjbahuKP4NJEltYcABJk6cyEMPPTSu/we+qnjooYeYOHFit7siSdIm8ykqYMqUKfT397NmzZpud6WrJk6cyJQpU7rdDUmSNtmoBZwkC4DDgAeqakZT+xrwmqbJJOBXVTUzyVTgTuCuZtviqjql2WcWcDHwYuAa4H1VVUl2AL4GTAVWAW+vql9uTF+33HJLpk2btjG7SpKkHjSaQ1QXA7M7C1X1jqqaWVUzgYXA33dsvntw22C4acwH5gLTm8/gMU8Drquq6cB1zbokSdLoBZyquh54eKhtGXifwNuBr27oGEl2BrarqhtrYILMpcBbms1HAJc0y5d01CVJ0jjXrUnG+wP3V9WKjtq0JP+W5F+SDL6nYBegv6NNf1MDeHlVrQZovl+2vpMlmZtkSZIl432ejSRJ40G3As6x/Pbdm9XAblW1N/AB4PIk2wEZYt8X/KhTVZ1fVX1V1Td58uSN6rAkSdp8jPlTVEm2AI4CZg3Wqupp4OlmeWmSu4FXM3DHpvOxninAfc3y/Ul2rqrVzVDWA2PRf0mS1Pu6cQfnj4EfV9VzQ09JJieZ0Cy/ioHJxPc0Q0+PJtmvmbdzPPCtZrergTnN8pyOuiRJGudGLeAk+SpwI/CaJP1J3t1sOobnTy4+ALg1yS3AN4FTqmpwgvJ7gAuBlcDdwLeb+qeAg5OsAA5u1iVJkkZviKqqjl1P/YQhagsZeGx8qPZLgBlD1B8CDtq0XkqSpDbyVQ2SJKl1DDiSJKl1DDiSJKl1DDiSJKl1DDiSJKl1DDiSJKl1DDiSJKl1DDiSJKl1DDiSJKl1DDiSJKl1DDiSJKl1DDiSJKl1DDiSJKl1Ru1t4pIkjaWfnfnabndB69jtY7d17dzewZEkSa1jwJEkSa1jwJEkSa1jwJEkSa1jwJEkSa1jwJEkSa1jwJEkSa1jwJEkSa1jwJEkSa1jwJEkSa1jwJEkSa1jwJEkSa0zagEnyYIkDyS5vaP28SQ/T7Ks+Rzase30JCuT3JXkTR312U1tZZLTOurTktyUZEWSryXZarSuRZIkbV5G8w7OxcDsIep/U1Uzm881AEn2BI4B9mr2+WKSCUkmAF8A3gzsCRzbtAX4dHOs6cAvgXeP4rVIkqTNyKgFnKq6Hnh4mM2PAK6oqqer6ifASmDf5rOyqu6pqn8HrgCOSBLgj4BvNvtfArxlRC9AkiRttroxB+fUJLc2Q1jbN7VdgHs72vQ3tfXVdwR+VVVr16kPKcncJEuSLFmzZs1IXYckSepRYx1w5gO7AzOB1cBnm3qGaFsbUR9SVZ1fVX1V1Td58uQX1mNJkrTZ2WIsT1ZV9w8uJ7kA+MdmtR/YtaPpFOC+Znmo+oPApCRbNHdxOttLkqRxbkzv4CTZuWP1SGDwCaurgWOSbJ1kGjAd+BFwMzC9eWJqKwYmIl9dVQV8F3hbs/8c4FtjcQ2SJKn3jdodnCRfBQ4EdkrSD5wBHJhkJgPDSauAkwGqanmSrwN3AGuBeVX1m+Y4pwLXAhOABVW1vDnFh4ErknwS+Dfgy6N1LZIkafMyagGnqo4dorzeEFJVZwFnDVG/BrhmiPo9DDxlJUmS9Fv8JWNJktQ6BhxJktQ6BhxJktQ6BhxJktQ6BhxJktQ6BhxJktQ6BhxJktQ6BhxJktQ6BhxJktQ6BhxJktQ6BhxJktQ6BhxJktQ6BhxJktQ6BhxJktQ6BhxJktQ6BhxJktQ6BhxJktQ6BhxJktQ6BhxJktQ6BhxJktQ6BhxJktQ6BhxJktQ6BhxJktQ6BhxJktQ6BhxJktQ6BhxJktQ6BhxJktQ6oxZwkixI8kCS2ztqn0ny4yS3JrkyyaSmPjXJk0mWNZ8vdewzK8ltSVYmOTdJmvoOSRYlWdF8bz9a1yJJkjYvo3kH52Jg9jq1RcCMqnod8H+B0zu23V1VM5vPKR31+cBcYHrzGTzmacB1VTUduK5ZlyRJGr2AU1XXAw+vU/vnqlrbrC4GpmzoGEl2BrarqhurqoBLgbc0m48ALmmWL+moS5Kkca6bc3D+HPh2x/q0JP+W5F+S7N/UdgH6O9r0NzWAl1fVaoDm+2XrO1GSuUmWJFmyZs2akbsCSZLUk7oScJJ8FFgLXNaUVgO7VdXewAeAy5NsB2SI3euFnq+qzq+qvqrqmzx58sZ2W5IkbSa2GOsTJpkDHAYc1Aw7UVVPA083y0uT3A28moE7Np3DWFOA+5rl+5PsXFWrm6GsB8bqGiRJUm8b0zs4SWYDHwYOr6onOuqTk0xoll/FwGTie5qhp0eT7Nc8PXU88K1mt6uBOc3ynI66JEka50btDk6SrwIHAjsl6QfOYOCpqa2BRc3T3oubJ6YOAM5Mshb4DXBKVQ1OUH4PA09kvZiBOTuD83Y+BXw9ybuBnwFHj9a1SJKkzcuoBZyqOnaI8pfX03YhsHA925YAM4aoPwQctCl9lCRJ7eQvGUuSpNYx4EiSpNYx4EiSpNYx4EiSpNYx4EiSpNYx4EiSpNYx4EiSpNYx4EiSpNYx4EiSpNYx4EiSpNYx4EiSpNYx4EiSpNYx4EiSpNYx4EiSpNYx4EiSpNbZotsdaKNZH7q0211Qh6WfOb7bXZAkjbFh3cFJct1wapIkSb1gg3dwkkwEXgLslGR7IM2m7YBXjHLfJEmSNsrvGqI6GXg/A2FmKf8/4DwCfGEU+yVJkrTRNhhwqupvgb9N8l+r6rwx6pMkSdImGdYk46o6L8l/BKZ27lNVzqaVJEk9Z1gBJ8lXgN2BZcBvmnIBBhxJktRzhvuYeB+wZ1XVaHZGkiRpJAz3h/5uB35vNDsiSZI0UoZ7B2cn4I4kPwKeHixW1eGj0itJkqRNMNyA8/HR7IQkSdJIGtYQVVX9y1Cf37VfkgVJHkhye0dthySLkqxovrdv6klybpKVSW5Nsk/HPnOa9iuSzOmoz0pyW7PPuUmCJEka94b7qoZHkzzSfJ5K8pskjwxj14uB2evUTgOuq6rpwHXNOsCbgenNZy4wvzn3DsAZwBuBfYEzBkNR02Zux37rnkuSJI1Dw72Ds21Vbdd8JgJvBT4/jP2uBx5ep3wEcEmzfAnwlo76pTVgMTApyc7Am4BFVfVwVf0SWATMbrZtV1U3Nk93XdpxLEmSNI4N9ymq31JVVwF/tJHnfHlVrW6Osxp4WVPfBbi3o11/U9tQvX+IuiRJGueG+0N/R3WsvoiB38UZ6d/EGWr+TG1E/fkHTuYyMJTFbrvttrH9kyRJm4nhPkX1px3La4FVDAwpbYz7k+xcVaubYaYHmno/sGtHuynAfU39wHXq32vqU4Zo/zxVdT5wPkBfX58/VihJUssN911U7xrBc14NzAE+1Xx/q6N+apIrGJhQ/OsmBF0L/M+OicWHAKdX1cPN5Of9gJuA4wFfCCpJkob9FNWUJFc2j3zfn2RhkinD2O+rwI3Aa5L0J3k3A8Hm4CQrgIObdYBrgHuAlcAFwHsBquph4BPAzc3nzKYG8B7gwmafu4FvD+d6JElSuw13iOoi4HLg6Gb9uKZ28IZ2qqpj17PpoCHaFjBvPcdZACwYor4EmLGhPkiSpPFnuE9RTa6qi6pqbfO5GJg8iv2SJEnaaMMNOA8mOS7JhOZzHPDQaHZMkiRpYw034Pw58HbgF8Bq4G3ASE48liRJGjHDnYPzCWBO80vCg69POJuB4CNJktRThnsH53WD4Qaee7Jp79HpkiRJ0qYZbsB5Ucfv0AzewRnu3R9JkqQxNdyQ8lngh0m+ycDrEN4OnDVqvZIkSdoEw/0l40uTLGHgBZsBjqqqO0a1Z5IkSRtp2MNMTaAx1EiSpJ433Dk4kiRJmw0DjiRJah0DjiRJah0DjiRJah0DjiRJah0DjiRJah0DjiRJah0DjiRJah0DjiRJah0DjiRJah0DjiRJah0DjiRJah0DjiRJah0DjiRJah0DjiRJah0DjiRJah0DjiRJah0DjiRJap0xDzhJXpNkWcfnkSTvT/LxJD/vqB/asc/pSVYmuSvJmzrqs5vayiSnjfW1SJKk3rTFWJ+wqu4CZgIkmQD8HLgSeBfwN1V1dmf7JHsCxwB7Aa8AvpPk1c3mLwAHA/3AzUmurqo7xuRCJElSzxrzgLOOg4C7q+qnSdbX5gjgiqp6GvhJkpXAvs22lVV1D0CSK5q2BhxJksa5bs/BOQb4asf6qUluTbIgyfZNbRfg3o42/U1tffXnSTI3yZIkS9asWTNyvZckST2pawEnyVbA4cA3mtJ8YHcGhq9WA58dbDrE7rWB+vOLVedXVV9V9U2ePHmT+i1JknpfN4eo3gz8a1XdDzD4DZDkAuAfm9V+YNeO/aYA9zXL66tLkqRxrJtDVMfSMTyVZOeObUcCtzfLVwPHJNk6yTRgOvAj4GZgepJpzd2gY5q2kiRpnOvKHZwkL2Hg6aeTO8r/K8lMBoaZVg1uq6rlSb7OwOThtcC8qvpNc5xTgWuBCcCCqlo+ZhchSZJ6VlcCTlU9Aey4Tu2dG2h/FnDWEPVrgGtGvIOSJGmz1u2nqCRJkkacAUeSJLWOAUeSJLWOAUeSJLWOAUeSJLWOAUeSJLWOAUeSJLWOAUeSJLWOAUeSJLWOAUeSJLWOAUeSJLWOAUeSJLWOAUeSJLWOAUeSJLWOAUeSJLWOAUeSJLWOAUeSJLWOAUeSJLWOAUeSJLWOAUeSJLWOAUeSJLWOAUeSJLWOAUeSJLWOAUeSJLWOAUeSJLWOAUeSJLWOAUeSJLVO1wJOklVJbkuyLMmSprZDkkVJVjTf2zf1JDk3ycoktybZp+M4c5r2K5LM6db1SJKk3tHtOzj/uapmVlVfs34acF1VTQeua9YB3gxMbz5zgfkwEIiAM4A3AvsCZwyGIkmSNH51O+Cs6wjgkmb5EuAtHfVLa8BiYFKSnYE3AYuq6uGq+iWwCJg91p2WJEm9pZsBp4B/TrI0ydym9vKqWg3QfL+sqe8C3Nuxb39TW1/9tySZm2RJkiVr1qwZ4cuQJEm9ZosunvsPquq+JC8DFiX58QbaZohabaD+24Wq84HzAfr6+p63XZIktUvX7uBU1X3N9wPAlQzMobm/GXqi+X6gad4P7Nqx+xTgvg3UJUnSONaVgJNkmyTbDi4DhwC3A1cDg09CzQG+1SxfDRzfPE21H/DrZgjrWuCQJNs3k4sPaWqSJGkc69YQ1cuBK5MM9uHyqvqnJDcDX0/ybuBnwNFN+2uAQ4GVwBPAuwCq6uEknwBubtqdWVUPj91lSJKkXtSVgFNV9wCvH6L+EHDQEPUC5q3nWAuABSPdR0mStPnq5iRjaUz87MzXdrsLWsduH7ut212Q1HK99js4kiRJm8yAI0mSWseAI0mSWseAI0mSWseAI0mSWseAI0mSWseAI0mSWseAI0mSWseAI0mSWseAI0mSWseAI0mSWseAI0mSWseAI0mSWseAI0mSWseAI0mSWseAI0mSWseAI0mSWseAI0mSWseAI0mSWseAI0mSWseAI0mSWseAI0mSWseAI0mSWseAI0mSWseAI0mSWmfMA06SXZN8N8mdSZYneV9T/3iSnydZ1nwO7djn9CQrk9yV5E0d9dlNbWWS08b6WiRJUm/aogvnXAt8sKr+Ncm2wNIki5ptf1NVZ3c2TrIncAywF/AK4DtJXt1s/gJwMNAP3Jzk6qq6Y0yuQpIk9awxDzhVtRpY3Sw/muROYJcN7HIEcEVVPQ38JMlKYN9m28qqugcgyRVNWwOOJEnjXFfn4CSZCuwN3NSUTk1ya5IFSbZvarsA93bs1t/U1lcf6jxzkyxJsmTNmjUjeAWSJKkXdS3gJHkpsBB4f1U9AswHdgdmMnCH57ODTYfYvTZQf36x6vyq6quqvsmTJ29y3yVJUm/rxhwckmzJQLi5rKr+HqCq7u/YfgHwj81qP7Brx+5TgPua5fXVJUnSONaNp6gCfBm4s6rO6ajv3NHsSOD2Zvlq4JgkWyeZBkwHfgTcDExPMi3JVgxMRL56LK5BkiT1tm7cwfkD4J3AbUmWNbWPAMcmmcnAMNMq4GSAqlqe5OsMTB5eC8yrqt8AJDkVuBaYACyoquVjeSGSJKk3deMpqhsYev7MNRvY5yzgrCHq12xoP0mSND75S8aSJKl1DDiSJKl1DDiSJKl1DDiSJKl1DDiSJKl1DDiSJKl1DDiSJKl1DDiSJKl1DDiSJKl1DDiSJKl1DDiSJKl1DDiSJKl1DDiSJKl1DDiSJKl1DDiSJKl1DDiSJKl1DDiSJKl1DDiSJKl1DDiSJKl1DDiSJKl1DDiSJKl1DDiSJKl1DDiSJKl1DDiSJKl1DDiSJKl1DDiSJKl1DDiSJKl1NvuAk2R2kruSrExyWrf7I0mSum+zDjhJJgBfAN4M7Akcm2TP7vZKkiR122YdcIB9gZVVdU9V/TtwBXBEl/skSZK6bItud2AT7QLc27HeD7xx3UZJ5gJzm9XHktw1Bn1Tj3gl7AQ82O1+qMMZ6XYP1EL+W+9BY/Nv/ZVDFTf3gDPUX66eV6g6Hzh/9LujXpRkSVX1dbsfkkaX/9bVaXMfouoHdu1YnwLc16W+SJKkHrG5B5ybgelJpiXZCjgGuLrLfZIkSV22WQ9RVdXaJKcC1wITgAVVtbzL3VLvcXhSGh/8t67npOp5U1YkSZI2a5v7EJUkSdLzGHAkSVLrGHDUar7KQ2q/JAuSPJDk9m73Rb3DgKPW8lUe0rhxMTC7251QbzHgqM18lYc0DlTV9cDD3e6HeosBR2021Ks8dulSXyRJY8iAozYb1qs8JEntY8BRm/kqD0kapww4ajNf5SFJ45QBR61VVWuBwVd53Al83Vd5SO2T5KvAjcBrkvQneXe3+6Tu81UNkiSpdbyDI0mSWseAI0mSWseAI0mSWseAI0mSWseAI0mSWseAI0mSWseAI6nnJPlht/sgafPm7+BIkqTW8Q6OpJ6T5LHme+ck1ydZluT2JPtvaJ8kn03yr0muSzK5qZ+U5OYktyRZmOQlTf3o5pi3JLm+qe2V5EfN+W5NMn0srlfSyPMOjqSek+Sxqnppkg8CE6vqrCQTgJdU1aPr2aeA46rqsiQfA15WVacm2bGqHmrafBK4v6rOS3IbMLuqfp5kUlX9Ksl5wOLmGFsBE6rqybG5akkjyTs4knrZzcC7knwceO36wk3jWeBrzfLfAX/YLM9I8v0m0PwZsFdT/wFwcZKTgAlN7UbgI0k+DLzScCNtvgw4knpWVV0PHAD8HPhKkuNfyO7N98XAqVX1WuB/ABObY58C/BWwK7CsudNzOXA48CRwbahBVQ0AAADZSURBVJI/GpELkTTmDDiSelaSVwIPVNUFwJeBfTbQ/EXA25rl/wLc0CxvC6xOsiUDd3AGj717Vd1UVR8DHgR2TfIq4J6qOhe4GnjdiF6QpDGzRbc7IEkbcCDwoSTPAI8BG7qD8ziwV5KlwK+BdzT1/w7cBPwUuI2BwAPwmWYScYDrgFuA04DjmvP9AjhzRK9G0phxkrGkVhicmNztfkjqDQ5RSZKk1nGIStJmJclNwNbrlN/p3RtJnRyikiRJreMQlSRJah0DjiRJah0DjiRJah0DjiRJap3/B0wFV0BZH2rIAAAAAElFTkSuQmCC\n",
      "text/plain": [
       "<Figure size 576x360 with 1 Axes>"
      ]
     },
     "metadata": {
      "needs_background": "light"
     },
     "output_type": "display_data"
    },
    {
     "data": {
      "image/png": "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\n",
      "text/plain": [
       "<Figure size 576x360 with 1 Axes>"
      ]
     },
     "metadata": {
      "needs_background": "light"
     },
     "output_type": "display_data"
    },
    {
     "data": {
      "image/png": "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\n",
      "text/plain": [
       "<Figure size 576x360 with 1 Axes>"
      ]
     },
     "metadata": {
      "needs_background": "light"
     },
     "output_type": "display_data"
    },
    {
     "data": {
      "image/png": "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\n",
      "text/plain": [
       "<Figure size 576x360 with 1 Axes>"
      ]
     },
     "metadata": {
      "needs_background": "light"
     },
     "output_type": "display_data"
    },
    {
     "data": {
      "image/png": "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\n",
      "text/plain": [
       "<Figure size 576x360 with 1 Axes>"
      ]
     },
     "metadata": {
      "needs_background": "light"
     },
     "output_type": "display_data"
    }
   ],
   "source": [
    "for i in cat_columns:\n",
    "    plt.figure(figsize=(8,5))\n",
    "    sns.countplot(train[\"is_pass\"],hue=train[i])\n",
    "    plt.legend(loc=2)\n",
    "    plt.title(i)\n",
    "    plt.tight_layout()\n",
    "    plt.show()"
   ]
  },
  {
   "cell_type": "markdown",
   "metadata": {},
   "source": [
    "### Analyzed Results\n",
    "\n",
    "1. Y-program type generates most pass outcomes and T-program type generates most failed outcomes.\n",
    "2. In case of offline test type,pass ratio is more when compared to online test type.\n",
    "3. Pass ratio is more when difficulty level is 'easy'.\n",
    "4. More male trainees have passed in comparison with females.\n",
    "5. High-school diploma trainees have passed in more number.\n",
    "6. Non-handicapped trainees have passed in more number."
   ]
  },
  {
   "cell_type": "markdown",
   "metadata": {},
   "source": [
    "### NUMERICAL FEATURES"
   ]
  },
  {
   "cell_type": "code",
   "execution_count": 26,
   "metadata": {},
   "outputs": [
    {
     "data": {
      "image/png": "iVBORw0KGgoAAAANSUhEUgAAAgEAAAGECAYAAACvc/OXAAAABHNCSVQICAgIfAhkiAAAAAlwSFlzAAALEgAACxIB0t1+/AAAADh0RVh0U29mdHdhcmUAbWF0cGxvdGxpYiB2ZXJzaW9uMy4xLjMsIGh0dHA6Ly9tYXRwbG90bGliLm9yZy+AADFEAAAcbUlEQVR4nO3df7RdZX3n8feHBEgZoPxKLCZo0prREFSELMTCQApVwXEK468BpUSNZToLnFq7HH9MRzpY2qr1BzLaLlpQQAuy6A9TpTIIFtoUwSBUQcqQhRQuRAkEEJRoEr7zx91pT+EmuUnuOefe+7xfa911zn72s/f+buByPvfZz94nVYUkSWrPLsMuQJIkDYchQJKkRhkCJElqlCFAkqRGGQIkSWqUIUCSpEYZAiSNS5IPJPnTAR3rySQ/P4hjSS0zBEj6F0nenGRV9yG8JsnfJDkaoKp+r6re0fWbn6SSzNyBY3yg2/+TSdYn2dSzfEd3rD2r6p6JPTtJz2QIkARAkncDnwR+D3gO8DzgM8BJE3mcLkzsWVV7Ar8O3Lh5uaoW78y+dySUSC0zBEgiyc8C5wBnVtVfVNWPqmpDVf11Vb2n6/M7ST7fbXJD9/pY9xf8sUnWJXlxzz7nJHkqyewdqKeSvKB7v3uSP0xyX5IfJPnjJD/TrVuaZCTJe5N8H/jsTvxjkJpjCJAE8ApgFvCX4+x/TPe6T/cX/PXA5cBpPX1OBb5WVWt3srYPA/8eOBR4ATAX+GDP+p8D9gOeD5yxk8eSmmIIkASwP/BwVW3ciX1cDLw5yeb/r/wqcOnOFJUkwK8Bv1lV66rqCUYvV5zS0+1p4Oyq+klVPbUzx5Na4/UzSQCPAAckmbmjQaCqbkryI+DYJGsY/at9xU7WNRvYA7hlNA8AEGBGT5+1VbV+J48jNckQIAngRmA9cDJw5Tj6b+nrRy9m9JLA94ErJ+DD+WHgKWBxVT2wnbVI2gYvB0iiqh5n9Dr7p5OcnGSPJLsmOTHJR8bYZC2jw/DPvJf/UuA/MxoELpmAup4G/gT4RJI5AEnmJnn1zu5bkiFAUqeqPg68G/htRj/k7wfOAv5qjL4/Bs4FViZ5LMmRXfsI8C1G/zr/uwkq7b3AauAbSX4IfA144QTtW2paqhxJkzRxklwEPFhVvz3sWiRtnXMCJE2YJPOB1wEvG24lksbDywGSJkSSDwG3Ax+tqu8Nux5J2+blAEmSGuVIgCRJjTIESJLUqOYmBh5wwAE1f/78YZchSdJA3HLLLQ9X1Zhf5NVcCJg/fz6rVq0adhmSJA1Ekn/e0jovB0iS1ChDgCRJjTIESJLUqObmBIxlw4YNjIyMsH795P020lmzZjFv3jx23XXXYZciSZomDAHAyMgIe+21F/Pnz6fnO8snjarikUceYWRkhAULFgy7HEnSNOHlAGD9+vXsv//+kzIAACRh//33n9QjFZKkqccQ0JmsAWCzyV6fJGnqMQRMEm9/+9uZM2cOhxxyyLBLkSQ1wjkBYzj8PZdM6P5u+ejp2+zz1re+lbPOOovTT992X0mSJoIjAZPEMcccw3777TfsMiRJDTEESJLUKEOAJEmNMgRIktQoJwZKkrbpqPOPGnYJ22XlO1cOu4QpwZGASeLUU0/lFa94BXfddRfz5s3jwgsvHHZJkqRpzpGAMYznlr6Jdtlllw38mJKktjkSIElSowwBkiQ1yhAgSVKjDAGSJDXKECBJUqMMAZIkNcoQMAncf//9/NIv/RKLFi1i8eLFnHfeecMuSZLUAJ8TMIb7znnxhO7veR/8zlbXz5w5k4997GMcdthhPPHEExx++OG88pWv5OCDD57QOiRJ6tW3kYAkFyV5KMntPW0fTfJPSb6d5C+T7NOz7v1JVie5K8mre9pP6NpWJ3lfT/uCJDcluTvJF5Ps1q9z6bcDDzyQww47DIC99tqLRYsW8cADDwy5KknSdNfPywGfA054Rts1wCFV9RLg/wHvB0hyMHAKsLjb5jNJZiSZAXwaOBE4GDi16wvwYeATVbUQeBRY3sdzGZh7772XW2+9lZe//OXDLkWSNM31LQRU1Q3Aume0/d+q2tgtfgOY170/Cbi8qn5SVd8DVgNHdD+rq+qeqvopcDlwUpIAxwFXdttfDJzcr3MZlCeffJLXv/71fPKTn2TvvfcedjmSpGlumBMD3w78Tfd+LnB/z7qRrm1L7fsDj/UEis3tU9aGDRt4/etfz1ve8hZe97rXDbscSVIDhhICkvxPYCPwhc1NY3SrHWjf0vHOSLIqyaq1a9dub7l9V1UsX76cRYsW8e53v3vY5UiSGjHwEJBkGfBa4C1VtfmDewQ4qKfbPODBrbQ/DOyTZOYz2sdUVRdU1ZKqWjJ79uyJOZEJtHLlSi699FKuu+46Dj30UA499FCuuuqqYZclSZrmBnqLYJITgPcCx1bVj3tWrQD+LMnHgecCC4GbGf2Lf2GSBcADjE4efHNVVZKvA29gdJ7AMuBLE1Xntm7pm2hHH300/5qHJG2Pw99zybBL2G7D+LpyaSz9vEXwMuBG4IVJRpIsB/4PsBdwTZLbkvwxQFXdAVwBfBf4KnBmVW3qrvmfBVwN3Alc0fWF0TDx7iSrGZ0jcGG/zkWSpOmobyMBVXXqGM1b/KCuqnOBc8dovwp41th4Vd3D6N0DkiRpB/jYYEmSGmUIkCSpUYYASZIaZQiQJKlRhoBJYP369RxxxBG89KUvZfHixZx99tnDLkmS1AC/SngMR51/1ITub+U7V251/e677851113HnnvuyYYNGzj66KM58cQTOfLIIye0DkmSejkSMAkkYc899wRGv0Ngw4YNjH5HkiRJ/WMImCQ2bdrEoYceypw5c3jlK1/pVwlLkvrOEDBJzJgxg9tuu42RkRFuvvlmbr/99mGXJEma5gwBk8w+++zD0qVL+epXvzrsUiRJ05whYBJYu3Ytjz32GABPPfUUX/va13jRi1405KokSdOddwdMAmvWrGHZsmVs2rSJp59+mje96U289rWvHXZZkqRpzhAwhm3d0jfRXvKSl3DrrbcO9JiSJHk5QJKkRhkCJElqlCFAkqRGGQIkSWqUIUCSpEYZAiRJapQhYBLZtGkTL3vZy3xGgCRpIHxOwBiuP+bYCd3fsTdcP65+5513HosWLeKHP/zhhB5fkqSxOBIwSYyMjPCVr3yFd7zjHcMuRZLUCEPAJPGud72Lj3zkI+yyi/9KJEmD4SfOJPDlL3+ZOXPmcPjhhw+7FElSQwwBk8DKlStZsWIF8+fP55RTTuG6667jtNNOG3ZZkqRpzhAwCfz+7/8+IyMj3HvvvVx++eUcd9xxfP7znx92WZKkac4QIElSo7xFcAzjvaWvH5YuXcrSpUuHdnxJUjscCZAkqVGGAEmSGmUIkCSpUYaATlUNu4Stmuz1SZKmHkMAMGvWLB555JFJ+0FbVTzyyCPMmjVr2KVIkqYR7w4A5s2bx8jICGvXrh12KVs0a9Ys5s2bN+wyJEnTiCEA2HXXXVmwYMGwy5AkaaC8HCBJUqMMAZIkNcoQIElSowwBkiQ1yhAgSVKjDAGSJDWqbyEgyUVJHkpye0/bfkmuSXJ397pv154kn0qyOsm3kxzWs82yrv/dSZb1tB+e5DvdNp9Kkn6diyRJ01E/RwI+B5zwjLb3AddW1ULg2m4Z4ERgYfdzBvBHMBoagLOBlwNHAGdvDg5dnzN6tnvmsSRJ0lb0LQRU1Q3Aumc0nwRc3L2/GDi5p/2SGvUNYJ8kBwKvBq6pqnVV9ShwDXBCt27vqrqxRp/1e0nPviRJ0jgMek7Ac6pqDUD3Oqdrnwvc39NvpGvbWvvIGO1jSnJGklVJVk3mRwNLkjRIk2Vi4FjX82sH2sdUVRdU1ZKqWjJ79uwdLFGSpOll0CHgB91QPt3rQ137CHBQT795wIPbaJ83RrskSRqnQYeAFcDmGf7LgC/1tJ/e3SVwJPB4d7ngauBVSfbtJgS+Cri6W/dEkiO7uwJO79mXJEkah759i2CSy4ClwAFJRhid5f8HwBVJlgP3AW/sul8FvAZYDfwYeBtAVa1L8iHgm12/c6pq82TD/8boHQg/A/xN9yNJksapbyGgqk7dwqrjx+hbwJlb2M9FwEVjtK8CDtmZGiVJatlkmRgoSZIGzBAgSVKjDAGSJDXKECBJUqMMAZIkNcoQIElSowwBkiQ1yhAgSVKjDAGSJDXKECBJUqMMAZIkNcoQIElSowwBkiQ1yhAgSVKjDAGSJDXKECBJUqMMAZIkNcoQIElSowwBkiQ1yhAgSVKjDAGSJDXKECBJUqMMAZIkNcoQIElSowwBkiQ1yhAgSVKjDAGSJDXKECBJUqMMAZIkNcoQIElSowwBkiQ1yhAgSVKjDAGSJDXKECBJUqMMAZIkNcoQIElSowwBkiQ1yhAgSVKjDAGSJDXKECBJUqOGEgKS/GaSO5LcnuSyJLOSLEhyU5K7k3wxyW5d39275dXd+vk9+3l/135XklcP41wkSZqqBh4CkswF/juwpKoOAWYApwAfBj5RVQuBR4Hl3SbLgUer6gXAJ7p+JDm4224xcALwmSQzBnkukiRNZcO6HDAT+JkkM4E9gDXAccCV3fqLgZO79yd1y3Trj0+Srv3yqvpJVX0PWA0cMaD6JUma8gYeAqrqAeAPgfsY/fB/HLgFeKyqNnbdRoC53fu5wP3dthu7/vv3to+xzb+R5Iwkq5KsWrt27cSekCRJU9QwLgfsy+hf8QuA5wL/DjhxjK61eZMtrNtS+7Mbqy6oqiVVtWT27NnbX7QkSdPQMC4H/DLwvapaW1UbgL8AfhHYp7s8ADAPeLB7PwIcBNCt/1lgXW/7GNtIkqRtmLntLhPuPuDIJHsATwHHA6uArwNvAC4HlgFf6vqv6JZv7NZfV1WVZAXwZ0k+zuiIwkLg5kGeiCTtiPvOefGwS9h+++497ArUBwMPAVV1U5IrgW8BG4FbgQuArwCXJ/ndru3CbpMLgUuTrGZ0BOCUbj93JLkC+G63nzOratNAT0aSpClsGCMBVNXZwNnPaL6HMWb3V9V64I1b2M+5wLkTXqAkSQ3wiYGSJDXKECBJUqMMAZIkNcoQIElSowwBkiQ1yhAgSVKjDAGSJDXKECBJUqMMAZIkNcoQIElSowwBkiQ1yhAgSVKjDAGSJDXKECBJUqMMAZIkNcoQIElSowwBkiQ1alwhIMm142mTJElTx8ytrUwyC9gDOCDJvkC6VXsDz+1zbZIkqY+2GgKA/wq8i9EP/Fv41xDwQ+DTfaxLkiT12VZDQFWdB5yX5J1Vdf6AapIkSQOwrZEAAKrq/CS/CMzv3aaqLulTXZIkqc/GFQKSXAr8AnAbsKlrLsAQIEnSFDWuEAAsAQ6uqupnMZIkaXDG+5yA24Gf62chkiRpsMY7EnAA8N0kNwM/2dxYVb/Sl6okSVLfjTcE/E4/i5AkSYM33rsDru93IZIkabDGe3fAE4zeDQCwG7Ar8KOq2rtfhUmSpP4a70jAXr3LSU4GjuhLRZIkaSB26FsEq+qvgOMmuBZJkjRA470c8LqexV0YfW6AzwyQJGkKG+/dAf+p5/1G4F7gpAmvRpIkDcx45wS8rd+FSJKkwRrXnIAk85L8ZZKHkvwgyZ8nmdfv4iRJUv+Md2LgZ4EVwHOBucBfd22SJGmKGm8ImF1Vn62qjd3P54DZfaxLkiT12XhDwMNJTksyo/s5DXikn4VJkqT+Gm8IeDvwJuD7wBrgDYCTBSVJmsLGe4vgh4BlVfUoQJL9gD9kNBxIkqQpaLwjAS/ZHAAAqmod8LIdPWiSfZJcmeSfktyZ5BVJ9ktyTZK7u9d9u75J8qkkq5N8O8lhPftZ1vW/O8myHa1HkqQWjTcE7LL5Qxn+ZSRgvKMIYzkP+GpVvQh4KXAn8D7g2qpaCFzbLQOcCCzsfs4A/qinhrOBlzP6PQZn99YoSZK2brwf5B8D/iHJlYw+LvhNwLk7csAkewPHAG8FqKqfAj9NchKwtOt2MfC3wHsZfTLhJVVVwDe6UYQDu77XdKMSJLkGOAG4bEfqkiSpNeN9YuAlSVYx+qVBAV5XVd/dwWP+PLAW+GySlwK3AL8BPKeq1nTHW5NkTtd/LnB/z/YjXduW2iVJ0jiMe0i/+9Df0Q/+Zx7zMOCdVXVTkvP416H/sWSscrbS/uwdJGcweimB5z3vedtXrSRJ09QOfZXwThoBRqrqpm75SkZDwQ+6YX6614d6+h/Us/084MGttD9LVV1QVUuqasns2T7jSJIkGEIIqKrvA/cneWHXdDyjIwwrgM0z/JcBX+rerwBO7+4SOBJ4vLtscDXwqiT7dhMCX9W1SZKkcdiZGf47453AF5LsBtzD6IOHdgGuSLIcuA94Y9f3KuA1wGrgx11fqmpdkg8B3+z6nbN5kqAkSdq2oYSAqroNWDLGquPH6FvAmVvYz0XARRNbnSaro84/atglbLeV71w57BIkaYuGMSdAkiRNAoYASZIaZQiQJKlRhgBJkhplCJAkqVGGAEmSGmUIkCSpUYYASZIaZQiQJKlRhgBJkhplCJAkqVGGAEmSGmUIkCSpUYYASZIaZQiQJKlRhgBJkhplCJAkqVGGAEmSGmUIkCSpUYYASZIaZQiQJKlRhgBJkhplCJAkqVGGAEmSGmUIkCSpUYYASZIaZQiQJKlRhgBJkhplCJAkqVGGAEmSGmUIkCSpUYYASZIaZQiQJKlRhgBJkhplCJAkqVGGAEmSGjVz2AVMF4e/55Jhl7Ddbvno6cMuQZI0RI4ESJLUKEOAJEmNMgRIktQoQ4AkSY0aWghIMiPJrUm+3C0vSHJTkruTfDHJbl377t3y6m79/J59vL9rvyvJq4dzJpIkTU3DHAn4DeDOnuUPA5+oqoXAo8Dyrn058GhVvQD4RNePJAcDpwCLgROAzySZMaDaJUma8oYSApLMA/4j8KfdcoDjgCu7LhcDJ3fvT+qW6dYf3/U/Cbi8qn5SVd8DVgNHDOYMJEma+oY1EvBJ4H8AT3fL+wOPVdXGbnkEmNu9nwvcD9Ctf7zr/y/tY2zzbyQ5I8mqJKvWrl07kechSdKUNfAQkOS1wENVdUtv8xhdaxvrtrbNv22suqCqllTVktmzZ29XvZIkTVfDeGLgUcCvJHkNMAvYm9GRgX2SzOz+2p8HPNj1HwEOAkaSzAR+FljX075Z7zaSJGkbBj4SUFXvr6p5VTWf0Yl911XVW4CvA2/oui0DvtS9X9Et062/rqqqaz+lu3tgAbAQuHlApyFJ0pQ3mb474L3A5Ul+F7gVuLBrvxC4NMlqRkcATgGoqjuSXAF8F9gInFlVmwZftiRJU9NQQ0BV/S3wt937exhjdn9VrQfeuIXtzwXO7V+FkiRNXz4xUJKkRhkCJElqlCFAkqRGGQIkSWqUIUCSpEYZAiRJapQhQJKkRhkCJElq1GR6YqAG7L5zXjzsErbPvnsPuwJJmlYcCZAkqVGGAEmSGmUIkCSpUYYASZIa5cRASdK0c/0xxw67hO127A3XD/yYjgRIktQoQ4AkSY0yBEiS1ChDgCRJjTIESJLUKEOAJEmNMgRIktQoQ4AkSY0yBEiS1ChDgCRJjTIESJLUKEOAJEmNMgRIktQoQ4AkSY0yBEiS1ChDgCRJjTIESJLUKEOAJEmNMgRIktQoQ4AkSY0yBEiS1ChDgCRJjTIESJLUKEOAJEmNMgRIktQoQ4AkSY0aeAhIclCSrye5M8kdSX6ja98vyTVJ7u5e9+3ak+RTSVYn+XaSw3r2tazrf3eSZYM+F0mSprJhjARsBH6rqhYBRwJnJjkYeB9wbVUtBK7tlgFOBBZ2P2cAfwSjoQE4G3g5cARw9ubgIEmStm3gIaCq1lTVt7r3TwB3AnOBk4CLu24XAyd3708CLqlR3wD2SXIg8GrgmqpaV1WPAtcAJwzwVCRJmtJmDvPgSeYDLwNuAp5TVWtgNCgkmdN1mwvc37PZSNe2pXZp0rj+mGOHXcJ2O/aG64ddgqQBGdrEwCR7An8OvKuqfri1rmO01VbaxzrWGUlWJVm1du3a7S9WkqRpaCghIMmujAaAL1TVX3TNP+iG+eleH+raR4CDejafBzy4lfZnqaoLqmpJVS2ZPXv2xJ2IJElT2DDuDghwIXBnVX28Z9UKYPMM/2XAl3raT+/uEjgSeLy7bHA18Kok+3YTAl/VtUmSpHEYxpyAo4BfBb6T5Lau7QPAHwBXJFkO3Ae8sVt3FfAaYDXwY+BtAFW1LsmHgG92/c6pqnWDOQVJkqa+gYeAqvp7xr6eD3D8GP0LOHML+7oIuGjiqpMkqR0+MVCSpEYZAiRJapQhQJKkRhkCJElqlCFAkqRGGQIkSWqUIUCSpEYZAiRJapQhQJKkRhkCJElqlCFAkqRGGQIkSWqUIUCSpEYZAiRJapQhQJKkRhkCJElqlCFAkqRGGQIkSWqUIUCSpEYZAiRJapQhQJKkRhkCJElqlCFAkqRGGQIkSWqUIUCSpEYZAiRJapQhQJKkRhkCJElqlCFAkqRGGQIkSWqUIUCSpEYZAiRJapQhQJKkRhkCJElqlCFAkqRGGQIkSWqUIUCSpEYZAiRJapQhQJKkRhkCJElq1JQPAUlOSHJXktVJ3jfseiRJmiqmdAhIMgP4NHAicDBwapKDh1uVJElTw5QOAcARwOqquqeqfgpcDpw05JokSZoSpnoImAvc37M80rVJkqRtmDnsAnZSxmirZ3VKzgDO6BafTHJXX6uaIp4/7AK23wHAw8MuYnssHXYBOyJj/VppIk3B3z2YYr9/S4ddwI7o3+/eFv+Tm+ohYAQ4qGd5HvDgMztV1QXABYMqSv2RZFVVLRl2HVKL/P2bnqb65YBvAguTLEiyG3AKsGLINUmSNCVM6ZGAqtqY5CzgamAGcFFV3THksiRJmhKmdAgAqKqrgKuGXYcGwks60vD4+zcNpepZ8+gkSVIDpvqcAEmStIMMAZoSfDy0NHhJLkryUJLbh12L+sMQoEnPx0NLQ/M54IRhF6H+MQRoKvDx0NIQVNUNwLph16H+MQRoKvDx0JLUB4YATQXjejy0JGn7GAI0FYzr8dCSpO1jCNBU4OOhJakPDAGa9KpqI7D58dB3Alf4eGip/5JcBtwIvDDJSJLlw65JE8snBkqS1ChHAiRJapQhQJKkRhkCJElqlCFAkqRGGQIkSWqUIUCSpEYZAiRtU5J/GHYNkiaezwmQJKlRjgRI2qYkT3avBya5IcltSW5P8h+2tk2SjyX5VpJrk8zu2n8tyTeT/GOSP0+yR9f+xm6f/5jkhq5tcZKbu+N9O8nCQZyv1ApHAiRtU5Inq2rPJL8FzKqqc5PMAPaoqie2sE0Bp1XVF5J8EJhTVWcl2b+qHun6/C7wg6o6P8l3gBOq6oEk+1TVY0nOB77R7WM3YEZVPTWYs5amP0cCJG2PbwJvS/I7wIu3FAA6TwNf7N5/Hji6e39Ikr/rPvTfAizu2lcCn0vya8CMru1G4ANJ3gs83wAgTSxDgKRxq6obgGOAB4BLk5y+PZt3r58DzqqqFwP/G5jV7fvXgd9m9Gujb+tGDP4M+BXgKeDqJMdNyIlIAgwBkrZDkucDD1XVnwAXAodtpfsuwBu6928G/r57vxewJsmujI4EbN73L1TVTVX1QeBh4KAkPw/cU1WfYvTro18yoSckNW7msAuQNKUsBd6TZAPwJLC1kYAfAYuT3AI8DvyXrv1/ATcB/wx8h9FQAPDRbuJfgGuBfwTeB5zWHe/7wDkTejZS45wYKKkvNk8mHHYdkrbMywGSJDXKywGSdkqSm4Ddn9H8q44CSJOflwMkSWqUlwMkSWqUIUCSpEYZAiRJapQhQJKkRhkCJElq1P8HAwMDlQBik/4AAAAASUVORK5CYII=\n",
      "text/plain": [
       "<Figure size 576x432 with 1 Axes>"
      ]
     },
     "metadata": {
      "needs_background": "light"
     },
     "output_type": "display_data"
    }
   ],
   "source": [
    "plt.figure(figsize=(8,6))\n",
    "sns.countplot(train['is_pass'],hue=train['city_tier'])\n",
    "plt.legend(loc=2)\n",
    "plt.title(\"City Tier\")\n",
    "plt.show()"
   ]
  },
  {
   "cell_type": "code",
   "execution_count": 27,
   "metadata": {},
   "outputs": [
    {
     "data": {
      "image/png": "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\n",
      "text/plain": [
       "<Figure size 576x432 with 1 Axes>"
      ]
     },
     "metadata": {
      "needs_background": "light"
     },
     "output_type": "display_data"
    }
   ],
   "source": [
    "plt.figure(figsize=(8,6))\n",
    "sns.countplot(train['program_duration'],hue=train['is_pass'])\n",
    "plt.legend(loc=2)\n",
    "plt.title(\"Passed/Failed as per Program Duration\")\n",
    "plt.show()"
   ]
  },
  {
   "cell_type": "code",
   "execution_count": 28,
   "metadata": {},
   "outputs": [
    {
     "data": {
      "image/png": "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\n",
      "text/plain": [
       "<Figure size 576x432 with 1 Axes>"
      ]
     },
     "metadata": {
      "needs_background": "light"
     },
     "output_type": "display_data"
    }
   ],
   "source": [
    "plt.figure(figsize=(8,6))\n",
    "sns.barplot(train[\"is_pass\"],train[\"age\"])\n",
    "plt.show()"
   ]
  },
  {
   "cell_type": "code",
   "execution_count": 29,
   "metadata": {},
   "outputs": [
    {
     "data": {
      "image/png": "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\n",
      "text/plain": [
       "<Figure size 576x432 with 1 Axes>"
      ]
     },
     "metadata": {
      "needs_background": "light"
     },
     "output_type": "display_data"
    }
   ],
   "source": [
    "plt.figure(figsize=(8,6))\n",
    "sns.countplot(train['total_programs_enrolled'],hue=train['is_pass'])\n",
    "plt.legend(loc=1)\n",
    "plt.title(\"Passed/Failed as per total programs enrolled\")\n",
    "plt.show()"
   ]
  },
  {
   "cell_type": "code",
   "execution_count": 30,
   "metadata": {},
   "outputs": [
    {
     "data": {
      "image/png": "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\n",
      "text/plain": [
       "<Figure size 576x432 with 1 Axes>"
      ]
     },
     "metadata": {
      "needs_background": "light"
     },
     "output_type": "display_data"
    }
   ],
   "source": [
    "plt.figure(figsize=(8,6))\n",
    "sns.barplot(train[\"is_pass\"],train[\"trainee_engagement_rating\"])\n",
    "plt.show()"
   ]
  },
  {
   "cell_type": "markdown",
   "metadata": {},
   "source": [
    "### Analyzed Results\n",
    "\n",
    "1. For a 134 days Program duration followed by a 120 days program duration pass ration is high.\n",
    "2. More trainees from tier-3 city have passed.\n",
    "3. Trainees with 35+ age have passed in more number.\n",
    "4. Trainees who have enrolled in 2 programs have passed in more number followed by trainees with 4-programs enrollment.\n",
    "5. An average trainee engagement rating of more than 2 have resulted in more number of passed trainees. "
   ]
  },
  {
   "cell_type": "markdown",
   "metadata": {},
   "source": [
    "# DATA PRE-PROCESSING"
   ]
  },
  {
   "cell_type": "code",
   "execution_count": 31,
   "metadata": {},
   "outputs": [],
   "source": [
    "from sklearn.preprocessing import LabelEncoder\n",
    "lb = LabelEncoder()"
   ]
  },
  {
   "cell_type": "code",
   "execution_count": 32,
   "metadata": {},
   "outputs": [],
   "source": [
    "train_cat = train[cat_columns]\n",
    "train_num = train[num_columns]"
   ]
  },
  {
   "cell_type": "code",
   "execution_count": 33,
   "metadata": {},
   "outputs": [
    {
     "data": {
      "text/html": [
       "<div>\n",
       "<style scoped>\n",
       "    .dataframe tbody tr th:only-of-type {\n",
       "        vertical-align: middle;\n",
       "    }\n",
       "\n",
       "    .dataframe tbody tr th {\n",
       "        vertical-align: top;\n",
       "    }\n",
       "\n",
       "    .dataframe thead th {\n",
       "        text-align: right;\n",
       "    }\n",
       "</style>\n",
       "<table border=\"1\" class=\"dataframe\">\n",
       "  <thead>\n",
       "    <tr style=\"text-align: right;\">\n",
       "      <th></th>\n",
       "      <th>program_type</th>\n",
       "      <th>test_type</th>\n",
       "      <th>difficulty_level</th>\n",
       "      <th>gender</th>\n",
       "      <th>education</th>\n",
       "      <th>is_handicapped</th>\n",
       "    </tr>\n",
       "  </thead>\n",
       "  <tbody>\n",
       "    <tr>\n",
       "      <th>0</th>\n",
       "      <td>1</td>\n",
       "      <td>0</td>\n",
       "      <td>2</td>\n",
       "      <td>0</td>\n",
       "      <td>3</td>\n",
       "      <td>0</td>\n",
       "    </tr>\n",
       "    <tr>\n",
       "      <th>1</th>\n",
       "      <td>5</td>\n",
       "      <td>0</td>\n",
       "      <td>1</td>\n",
       "      <td>1</td>\n",
       "      <td>3</td>\n",
       "      <td>0</td>\n",
       "    </tr>\n",
       "    <tr>\n",
       "      <th>2</th>\n",
       "      <td>3</td>\n",
       "      <td>1</td>\n",
       "      <td>0</td>\n",
       "      <td>1</td>\n",
       "      <td>3</td>\n",
       "      <td>0</td>\n",
       "    </tr>\n",
       "    <tr>\n",
       "      <th>3</th>\n",
       "      <td>3</td>\n",
       "      <td>0</td>\n",
       "      <td>3</td>\n",
       "      <td>0</td>\n",
       "      <td>1</td>\n",
       "      <td>1</td>\n",
       "    </tr>\n",
       "    <tr>\n",
       "      <th>4</th>\n",
       "      <td>5</td>\n",
       "      <td>0</td>\n",
       "      <td>2</td>\n",
       "      <td>1</td>\n",
       "      <td>1</td>\n",
       "      <td>0</td>\n",
       "    </tr>\n",
       "  </tbody>\n",
       "</table>\n",
       "</div>"
      ],
      "text/plain": [
       "   program_type  test_type  difficulty_level  gender  education  \\\n",
       "0             1          0                 2       0          3   \n",
       "1             5          0                 1       1          3   \n",
       "2             3          1                 0       1          3   \n",
       "3             3          0                 3       0          1   \n",
       "4             5          0                 2       1          1   \n",
       "\n",
       "   is_handicapped  \n",
       "0               0  \n",
       "1               0  \n",
       "2               0  \n",
       "3               1  \n",
       "4               0  "
      ]
     },
     "execution_count": 33,
     "metadata": {},
     "output_type": "execute_result"
    }
   ],
   "source": [
    "train_cat_encoded = train_cat.apply(lb.fit_transform)\n",
    "train_cat_encoded.head()"
   ]
  },
  {
   "cell_type": "code",
   "execution_count": 34,
   "metadata": {},
   "outputs": [
    {
     "data": {
      "text/html": [
       "<div>\n",
       "<style scoped>\n",
       "    .dataframe tbody tr th:only-of-type {\n",
       "        vertical-align: middle;\n",
       "    }\n",
       "\n",
       "    .dataframe tbody tr th {\n",
       "        vertical-align: top;\n",
       "    }\n",
       "\n",
       "    .dataframe thead th {\n",
       "        text-align: right;\n",
       "    }\n",
       "</style>\n",
       "<table border=\"1\" class=\"dataframe\">\n",
       "  <thead>\n",
       "    <tr style=\"text-align: right;\">\n",
       "      <th></th>\n",
       "      <th>program_duration</th>\n",
       "      <th>city_tier</th>\n",
       "      <th>age</th>\n",
       "      <th>total_programs_enrolled</th>\n",
       "      <th>trainee_engagement_rating</th>\n",
       "      <th>is_pass</th>\n",
       "      <th>program_type</th>\n",
       "      <th>test_type</th>\n",
       "      <th>difficulty_level</th>\n",
       "      <th>gender</th>\n",
       "      <th>education</th>\n",
       "      <th>is_handicapped</th>\n",
       "    </tr>\n",
       "  </thead>\n",
       "  <tbody>\n",
       "    <tr>\n",
       "      <th>0</th>\n",
       "      <td>117</td>\n",
       "      <td>2</td>\n",
       "      <td>43.000000</td>\n",
       "      <td>2</td>\n",
       "      <td>1.0</td>\n",
       "      <td>1</td>\n",
       "      <td>1</td>\n",
       "      <td>0</td>\n",
       "      <td>2</td>\n",
       "      <td>0</td>\n",
       "      <td>3</td>\n",
       "      <td>0</td>\n",
       "    </tr>\n",
       "    <tr>\n",
       "      <th>1</th>\n",
       "      <td>120</td>\n",
       "      <td>2</td>\n",
       "      <td>35.718915</td>\n",
       "      <td>2</td>\n",
       "      <td>3.0</td>\n",
       "      <td>1</td>\n",
       "      <td>5</td>\n",
       "      <td>0</td>\n",
       "      <td>1</td>\n",
       "      <td>1</td>\n",
       "      <td>3</td>\n",
       "      <td>0</td>\n",
       "    </tr>\n",
       "    <tr>\n",
       "      <th>2</th>\n",
       "      <td>122</td>\n",
       "      <td>1</td>\n",
       "      <td>35.252582</td>\n",
       "      <td>2</td>\n",
       "      <td>3.0</td>\n",
       "      <td>1</td>\n",
       "      <td>3</td>\n",
       "      <td>1</td>\n",
       "      <td>0</td>\n",
       "      <td>1</td>\n",
       "      <td>3</td>\n",
       "      <td>0</td>\n",
       "    </tr>\n",
       "    <tr>\n",
       "      <th>3</th>\n",
       "      <td>133</td>\n",
       "      <td>3</td>\n",
       "      <td>30.000000</td>\n",
       "      <td>2</td>\n",
       "      <td>1.0</td>\n",
       "      <td>0</td>\n",
       "      <td>3</td>\n",
       "      <td>0</td>\n",
       "      <td>3</td>\n",
       "      <td>0</td>\n",
       "      <td>1</td>\n",
       "      <td>1</td>\n",
       "    </tr>\n",
       "    <tr>\n",
       "      <th>4</th>\n",
       "      <td>121</td>\n",
       "      <td>3</td>\n",
       "      <td>34.835922</td>\n",
       "      <td>2</td>\n",
       "      <td>5.0</td>\n",
       "      <td>1</td>\n",
       "      <td>5</td>\n",
       "      <td>0</td>\n",
       "      <td>2</td>\n",
       "      <td>1</td>\n",
       "      <td>1</td>\n",
       "      <td>0</td>\n",
       "    </tr>\n",
       "  </tbody>\n",
       "</table>\n",
       "</div>"
      ],
      "text/plain": [
       "   program_duration  city_tier        age  total_programs_enrolled  \\\n",
       "0               117          2  43.000000                        2   \n",
       "1               120          2  35.718915                        2   \n",
       "2               122          1  35.252582                        2   \n",
       "3               133          3  30.000000                        2   \n",
       "4               121          3  34.835922                        2   \n",
       "\n",
       "   trainee_engagement_rating  is_pass  program_type  test_type  \\\n",
       "0                        1.0        1             1          0   \n",
       "1                        3.0        1             5          0   \n",
       "2                        3.0        1             3          1   \n",
       "3                        1.0        0             3          0   \n",
       "4                        5.0        1             5          0   \n",
       "\n",
       "   difficulty_level  gender  education  is_handicapped  \n",
       "0                 2       0          3               0  \n",
       "1                 1       1          3               0  \n",
       "2                 0       1          3               0  \n",
       "3                 3       0          1               1  \n",
       "4                 2       1          1               0  "
      ]
     },
     "execution_count": 34,
     "metadata": {},
     "output_type": "execute_result"
    }
   ],
   "source": [
    "Train = train_num.join(train_cat_encoded)\n",
    "Train.head()"
   ]
  },
  {
   "cell_type": "markdown",
   "metadata": {},
   "source": [
    "### Pre-processing the Test dataset"
   ]
  },
  {
   "cell_type": "code",
   "execution_count": 35,
   "metadata": {},
   "outputs": [
    {
     "data": {
      "text/plain": [
       "['program_type',\n",
       " 'test_type',\n",
       " 'difficulty_level',\n",
       " 'gender',\n",
       " 'education',\n",
       " 'is_handicapped']"
      ]
     },
     "execution_count": 35,
     "metadata": {},
     "output_type": "execute_result"
    }
   ],
   "source": [
    "test_num = list(test._get_numeric_data().columns)\n",
    "test_all = list(test.columns)\n",
    "test_cat = []\n",
    "for i in test_all:\n",
    "    if i not in test_num:\n",
    "        test_cat.append(i)\n",
    "test_cat"
   ]
  },
  {
   "cell_type": "code",
   "execution_count": 36,
   "metadata": {},
   "outputs": [
    {
     "data": {
      "text/html": [
       "<div>\n",
       "<style scoped>\n",
       "    .dataframe tbody tr th:only-of-type {\n",
       "        vertical-align: middle;\n",
       "    }\n",
       "\n",
       "    .dataframe tbody tr th {\n",
       "        vertical-align: top;\n",
       "    }\n",
       "\n",
       "    .dataframe thead th {\n",
       "        text-align: right;\n",
       "    }\n",
       "</style>\n",
       "<table border=\"1\" class=\"dataframe\">\n",
       "  <thead>\n",
       "    <tr style=\"text-align: right;\">\n",
       "      <th></th>\n",
       "      <th>program_type</th>\n",
       "      <th>test_type</th>\n",
       "      <th>difficulty_level</th>\n",
       "      <th>gender</th>\n",
       "      <th>education</th>\n",
       "      <th>is_handicapped</th>\n",
       "    </tr>\n",
       "  </thead>\n",
       "  <tbody>\n",
       "    <tr>\n",
       "      <th>0</th>\n",
       "      <td>5</td>\n",
       "      <td>0</td>\n",
       "      <td>2</td>\n",
       "      <td>1</td>\n",
       "      <td>3</td>\n",
       "      <td>1</td>\n",
       "    </tr>\n",
       "    <tr>\n",
       "      <th>1</th>\n",
       "      <td>1</td>\n",
       "      <td>0</td>\n",
       "      <td>2</td>\n",
       "      <td>0</td>\n",
       "      <td>3</td>\n",
       "      <td>1</td>\n",
       "    </tr>\n",
       "    <tr>\n",
       "      <th>2</th>\n",
       "      <td>3</td>\n",
       "      <td>0</td>\n",
       "      <td>2</td>\n",
       "      <td>0</td>\n",
       "      <td>1</td>\n",
       "      <td>0</td>\n",
       "    </tr>\n",
       "    <tr>\n",
       "      <th>3</th>\n",
       "      <td>3</td>\n",
       "      <td>0</td>\n",
       "      <td>2</td>\n",
       "      <td>1</td>\n",
       "      <td>3</td>\n",
       "      <td>0</td>\n",
       "    </tr>\n",
       "    <tr>\n",
       "      <th>4</th>\n",
       "      <td>5</td>\n",
       "      <td>1</td>\n",
       "      <td>0</td>\n",
       "      <td>1</td>\n",
       "      <td>1</td>\n",
       "      <td>0</td>\n",
       "    </tr>\n",
       "  </tbody>\n",
       "</table>\n",
       "</div>"
      ],
      "text/plain": [
       "   program_type  test_type  difficulty_level  gender  education  \\\n",
       "0             5          0                 2       1          3   \n",
       "1             1          0                 2       0          3   \n",
       "2             3          0                 2       0          1   \n",
       "3             3          0                 2       1          3   \n",
       "4             5          1                 0       1          1   \n",
       "\n",
       "   is_handicapped  \n",
       "0               1  \n",
       "1               1  \n",
       "2               0  \n",
       "3               0  \n",
       "4               0  "
      ]
     },
     "execution_count": 36,
     "metadata": {},
     "output_type": "execute_result"
    }
   ],
   "source": [
    "testnum = test[test_num]\n",
    "testcat = test[test_cat]\n",
    "testcat_encoded = testcat.apply(lb.fit_transform)\n",
    "testcat_encoded.head()"
   ]
  },
  {
   "cell_type": "code",
   "execution_count": 37,
   "metadata": {},
   "outputs": [
    {
     "data": {
      "text/html": [
       "<div>\n",
       "<style scoped>\n",
       "    .dataframe tbody tr th:only-of-type {\n",
       "        vertical-align: middle;\n",
       "    }\n",
       "\n",
       "    .dataframe tbody tr th {\n",
       "        vertical-align: top;\n",
       "    }\n",
       "\n",
       "    .dataframe thead th {\n",
       "        text-align: right;\n",
       "    }\n",
       "</style>\n",
       "<table border=\"1\" class=\"dataframe\">\n",
       "  <thead>\n",
       "    <tr style=\"text-align: right;\">\n",
       "      <th></th>\n",
       "      <th>program_duration</th>\n",
       "      <th>city_tier</th>\n",
       "      <th>age</th>\n",
       "      <th>total_programs_enrolled</th>\n",
       "      <th>trainee_engagement_rating</th>\n",
       "      <th>program_type</th>\n",
       "      <th>test_type</th>\n",
       "      <th>difficulty_level</th>\n",
       "      <th>gender</th>\n",
       "      <th>education</th>\n",
       "      <th>is_handicapped</th>\n",
       "    </tr>\n",
       "  </thead>\n",
       "  <tbody>\n",
       "    <tr>\n",
       "      <th>0</th>\n",
       "      <td>136</td>\n",
       "      <td>1</td>\n",
       "      <td>42.000000</td>\n",
       "      <td>2</td>\n",
       "      <td>3.0</td>\n",
       "      <td>5</td>\n",
       "      <td>0</td>\n",
       "      <td>2</td>\n",
       "      <td>1</td>\n",
       "      <td>3</td>\n",
       "      <td>1</td>\n",
       "    </tr>\n",
       "    <tr>\n",
       "      <th>1</th>\n",
       "      <td>134</td>\n",
       "      <td>3</td>\n",
       "      <td>25.000000</td>\n",
       "      <td>2</td>\n",
       "      <td>1.0</td>\n",
       "      <td>1</td>\n",
       "      <td>0</td>\n",
       "      <td>2</td>\n",
       "      <td>0</td>\n",
       "      <td>3</td>\n",
       "      <td>1</td>\n",
       "    </tr>\n",
       "    <tr>\n",
       "      <th>2</th>\n",
       "      <td>131</td>\n",
       "      <td>3</td>\n",
       "      <td>24.000000</td>\n",
       "      <td>3</td>\n",
       "      <td>1.0</td>\n",
       "      <td>3</td>\n",
       "      <td>0</td>\n",
       "      <td>2</td>\n",
       "      <td>0</td>\n",
       "      <td>1</td>\n",
       "      <td>0</td>\n",
       "    </tr>\n",
       "    <tr>\n",
       "      <th>3</th>\n",
       "      <td>131</td>\n",
       "      <td>3</td>\n",
       "      <td>35.093137</td>\n",
       "      <td>4</td>\n",
       "      <td>3.0</td>\n",
       "      <td>3</td>\n",
       "      <td>0</td>\n",
       "      <td>2</td>\n",
       "      <td>1</td>\n",
       "      <td>3</td>\n",
       "      <td>0</td>\n",
       "    </tr>\n",
       "    <tr>\n",
       "      <th>4</th>\n",
       "      <td>136</td>\n",
       "      <td>1</td>\n",
       "      <td>45.000000</td>\n",
       "      <td>3</td>\n",
       "      <td>4.0</td>\n",
       "      <td>5</td>\n",
       "      <td>1</td>\n",
       "      <td>0</td>\n",
       "      <td>1</td>\n",
       "      <td>1</td>\n",
       "      <td>0</td>\n",
       "    </tr>\n",
       "  </tbody>\n",
       "</table>\n",
       "</div>"
      ],
      "text/plain": [
       "   program_duration  city_tier        age  total_programs_enrolled  \\\n",
       "0               136          1  42.000000                        2   \n",
       "1               134          3  25.000000                        2   \n",
       "2               131          3  24.000000                        3   \n",
       "3               131          3  35.093137                        4   \n",
       "4               136          1  45.000000                        3   \n",
       "\n",
       "   trainee_engagement_rating  program_type  test_type  difficulty_level  \\\n",
       "0                        3.0             5          0                 2   \n",
       "1                        1.0             1          0                 2   \n",
       "2                        1.0             3          0                 2   \n",
       "3                        3.0             3          0                 2   \n",
       "4                        4.0             5          1                 0   \n",
       "\n",
       "   gender  education  is_handicapped  \n",
       "0       1          3               1  \n",
       "1       0          3               1  \n",
       "2       0          1               0  \n",
       "3       1          3               0  \n",
       "4       1          1               0  "
      ]
     },
     "execution_count": 37,
     "metadata": {},
     "output_type": "execute_result"
    }
   ],
   "source": [
    "Test = testnum.join(testcat_encoded)\n",
    "Test.head()"
   ]
  },
  {
   "cell_type": "markdown",
   "metadata": {},
   "source": [
    "# MULTICOLLINEARITY CHECK"
   ]
  },
  {
   "cell_type": "code",
   "execution_count": 38,
   "metadata": {},
   "outputs": [
    {
     "data": {
      "image/png": "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\n",
      "text/plain": [
       "<Figure size 864x432 with 2 Axes>"
      ]
     },
     "metadata": {
      "needs_background": "light"
     },
     "output_type": "display_data"
    }
   ],
   "source": [
    "plt.figure(figsize=(12,6))\n",
    "sns.heatmap(abs(Train.corr()),annot=True,linewidths=0.3,cmap=\"Set2\")\n",
    "plt.show()"
   ]
  },
  {
   "cell_type": "code",
   "execution_count": 39,
   "metadata": {},
   "outputs": [],
   "source": [
    "from statsmodels.stats.outliers_influence import variance_inflation_factor\n",
    "X_data = Train.drop([\"is_pass\"],axis=1)\n",
    "Y_data = Train[\"is_pass\"]"
   ]
  },
  {
   "cell_type": "code",
   "execution_count": 40,
   "metadata": {},
   "outputs": [],
   "source": [
    "from sklearn.preprocessing import StandardScaler\n",
    "sc = StandardScaler()\n",
    "x_stand = sc.fit_transform(X_data)"
   ]
  },
  {
   "cell_type": "code",
   "execution_count": 41,
   "metadata": {},
   "outputs": [
    {
     "data": {
      "text/html": [
       "<div>\n",
       "<style scoped>\n",
       "    .dataframe tbody tr th:only-of-type {\n",
       "        vertical-align: middle;\n",
       "    }\n",
       "\n",
       "    .dataframe tbody tr th {\n",
       "        vertical-align: top;\n",
       "    }\n",
       "\n",
       "    .dataframe thead th {\n",
       "        text-align: right;\n",
       "    }\n",
       "</style>\n",
       "<table border=\"1\" class=\"dataframe\">\n",
       "  <thead>\n",
       "    <tr style=\"text-align: right;\">\n",
       "      <th></th>\n",
       "      <th>Score</th>\n",
       "    </tr>\n",
       "    <tr>\n",
       "      <th>Index</th>\n",
       "      <th></th>\n",
       "    </tr>\n",
       "  </thead>\n",
       "  <tbody>\n",
       "    <tr>\n",
       "      <th>program_duration</th>\n",
       "      <td>1.037691</td>\n",
       "    </tr>\n",
       "    <tr>\n",
       "      <th>city_tier</th>\n",
       "      <td>1.019019</td>\n",
       "    </tr>\n",
       "    <tr>\n",
       "      <th>age</th>\n",
       "      <td>1.044623</td>\n",
       "    </tr>\n",
       "    <tr>\n",
       "      <th>total_programs_enrolled</th>\n",
       "      <td>1.053201</td>\n",
       "    </tr>\n",
       "    <tr>\n",
       "      <th>trainee_engagement_rating</th>\n",
       "      <td>1.263161</td>\n",
       "    </tr>\n",
       "    <tr>\n",
       "      <th>program_type</th>\n",
       "      <td>1.338183</td>\n",
       "    </tr>\n",
       "    <tr>\n",
       "      <th>test_type</th>\n",
       "      <td>1.960466</td>\n",
       "    </tr>\n",
       "    <tr>\n",
       "      <th>difficulty_level</th>\n",
       "      <td>1.968982</td>\n",
       "    </tr>\n",
       "    <tr>\n",
       "      <th>gender</th>\n",
       "      <td>1.180357</td>\n",
       "    </tr>\n",
       "    <tr>\n",
       "      <th>education</th>\n",
       "      <td>1.034888</td>\n",
       "    </tr>\n",
       "    <tr>\n",
       "      <th>is_handicapped</th>\n",
       "      <td>1.014991</td>\n",
       "    </tr>\n",
       "  </tbody>\n",
       "</table>\n",
       "</div>"
      ],
      "text/plain": [
       "                              Score\n",
       "Index                              \n",
       "program_duration           1.037691\n",
       "city_tier                  1.019019\n",
       "age                        1.044623\n",
       "total_programs_enrolled    1.053201\n",
       "trainee_engagement_rating  1.263161\n",
       "program_type               1.338183\n",
       "test_type                  1.960466\n",
       "difficulty_level           1.968982\n",
       "gender                     1.180357\n",
       "education                  1.034888\n",
       "is_handicapped             1.014991"
      ]
     },
     "execution_count": 41,
     "metadata": {},
     "output_type": "execute_result"
    }
   ],
   "source": [
    "vif = pd.DataFrame()\n",
    "vif[\"Index\"] = X_data.keys()\n",
    "vif[\"Score\"] = [variance_inflation_factor(x_stand,i) for i in range(len(X_data.keys()))]\n",
    "vif.set_index([\"Index\"] , inplace = True)\n",
    "vif"
   ]
  },
  {
   "cell_type": "markdown",
   "metadata": {},
   "source": [
    "#### As we can see from the above heatmap and VIF dataframe,multicollinearity is not encountered."
   ]
  },
  {
   "cell_type": "markdown",
   "metadata": {},
   "source": [
    "# RESAMPLING"
   ]
  },
  {
   "cell_type": "code",
   "execution_count": 42,
   "metadata": {},
   "outputs": [
    {
     "data": {
      "text/plain": [
       "1    35606\n",
       "0    15596\n",
       "Name: is_pass, dtype: int64"
      ]
     },
     "execution_count": 42,
     "metadata": {},
     "output_type": "execute_result"
    }
   ],
   "source": [
    "Y_data.value_counts()"
   ]
  },
  {
   "cell_type": "markdown",
   "metadata": {},
   "source": [
    "##### We can see that the data is imbalanced. Hence, resampling with replacement has been opted."
   ]
  },
  {
   "cell_type": "code",
   "execution_count": 43,
   "metadata": {},
   "outputs": [],
   "source": [
    "from sklearn.utils import resample\n",
    "data_majority = Train[Train[\"is_pass\"] == 1]\n",
    "data_minority = Train[Train[\"is_pass\"] == 0]"
   ]
  },
  {
   "cell_type": "code",
   "execution_count": 44,
   "metadata": {},
   "outputs": [],
   "source": [
    "data_minority_resampled = resample(data_minority , n_samples = 35606 , replace = True , random_state = 42)"
   ]
  },
  {
   "cell_type": "code",
   "execution_count": 45,
   "metadata": {},
   "outputs": [],
   "source": [
    "df = pd.concat([data_majority , data_minority_resampled])"
   ]
  },
  {
   "cell_type": "code",
   "execution_count": 46,
   "metadata": {},
   "outputs": [],
   "source": [
    "X = df.drop([\"is_pass\"],axis=1)\n",
    "Y = df[\"is_pass\"]"
   ]
  },
  {
   "cell_type": "code",
   "execution_count": 47,
   "metadata": {},
   "outputs": [
    {
     "data": {
      "text/plain": [
       "1    35606\n",
       "0    35606\n",
       "Name: is_pass, dtype: int64"
      ]
     },
     "execution_count": 47,
     "metadata": {},
     "output_type": "execute_result"
    }
   ],
   "source": [
    "Y.value_counts()"
   ]
  },
  {
   "cell_type": "markdown",
   "metadata": {},
   "source": [
    "##### As we can see, the dataset is balanced now."
   ]
  },
  {
   "cell_type": "markdown",
   "metadata": {},
   "source": [
    "# MODEL BUILDING"
   ]
  },
  {
   "cell_type": "code",
   "execution_count": 48,
   "metadata": {},
   "outputs": [],
   "source": [
    "from sklearn.linear_model import LogisticRegression\n",
    "from sklearn.ensemble import RandomForestClassifier\n",
    "from sklearn.neighbors import KNeighborsClassifier\n",
    "from sklearn.model_selection import cross_val_score , GridSearchCV\n",
    "from sklearn.feature_selection import RFE\n",
    "from sklearn.metrics import roc_auc_score , roc_curve , classification_report"
   ]
  },
  {
   "cell_type": "markdown",
   "metadata": {},
   "source": [
    "### Logistic Regression "
   ]
  },
  {
   "cell_type": "code",
   "execution_count": 49,
   "metadata": {},
   "outputs": [
    {
     "data": {
      "text/plain": [
       "LogisticRegression(C=1.0, class_weight=None, dual=False, fit_intercept=True,\n",
       "                   intercept_scaling=1, l1_ratio=None, max_iter=100,\n",
       "                   multi_class='auto', n_jobs=None, penalty='l2',\n",
       "                   random_state=None, solver='lbfgs', tol=0.0001, verbose=0,\n",
       "                   warm_start=False)"
      ]
     },
     "execution_count": 49,
     "metadata": {},
     "output_type": "execute_result"
    }
   ],
   "source": [
    "lr = LogisticRegression()\n",
    "lr.fit(X,Y)"
   ]
  },
  {
   "cell_type": "code",
   "execution_count": 50,
   "metadata": {},
   "outputs": [],
   "source": [
    "Y_predict = lr.predict(X)"
   ]
  },
  {
   "cell_type": "code",
   "execution_count": 51,
   "metadata": {},
   "outputs": [],
   "source": [
    "fpr , tpr , thresolds = roc_curve(Y,lr.predict_proba(X)[:,1])"
   ]
  },
  {
   "cell_type": "code",
   "execution_count": 52,
   "metadata": {},
   "outputs": [
    {
     "data": {
      "image/png": "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\n",
      "text/plain": [
       "<Figure size 432x288 with 1 Axes>"
      ]
     },
     "metadata": {
      "needs_background": "light"
     },
     "output_type": "display_data"
    }
   ],
   "source": [
    "plt.figure()\n",
    "plt.plot(fpr,tpr)\n",
    "plt.plot([0,1],[0,1],'k--')\n",
    "plt.xlim([0.0,1.0])\n",
    "plt.ylim([0.0,1.0])\n",
    "plt.xlabel('False Positive Rate')\n",
    "plt.ylabel('True Positive Rate')\n",
    "plt.title(\"ROC Curve\")\n",
    "plt.show()"
   ]
  },
  {
   "cell_type": "code",
   "execution_count": 53,
   "metadata": {},
   "outputs": [
    {
     "name": "stdout",
     "output_type": "stream",
     "text": [
      "The ROC_AUC score of training data is 61.86 %\n"
     ]
    }
   ],
   "source": [
    "print(\"The ROC_AUC score of training data is {:.2f}\".format(roc_auc_score(Y,Y_predict)*100),\"%\")"
   ]
  },
  {
   "cell_type": "code",
   "execution_count": 54,
   "metadata": {},
   "outputs": [
    {
     "name": "stdout",
     "output_type": "stream",
     "text": [
      "The average cross-validation score is 61.85\n"
     ]
    }
   ],
   "source": [
    "print(\"The average cross-validation score is {:.2f}\".format(cross_val_score(lr,X,Y,cv=10).mean()*100))"
   ]
  },
  {
   "cell_type": "code",
   "execution_count": 55,
   "metadata": {},
   "outputs": [
    {
     "name": "stdout",
     "output_type": "stream",
     "text": [
      "The classification report is as follows:\n",
      "               precision    recall  f1-score   support\n",
      "\n",
      "           0       0.61      0.64      0.63     35606\n",
      "           1       0.62      0.60      0.61     35606\n",
      "\n",
      "    accuracy                           0.62     71212\n",
      "   macro avg       0.62      0.62      0.62     71212\n",
      "weighted avg       0.62      0.62      0.62     71212\n",
      "\n"
     ]
    }
   ],
   "source": [
    "print('The classification report is as follows:\\n',classification_report(Y,Y_predict))"
   ]
  },
  {
   "cell_type": "markdown",
   "metadata": {},
   "source": [
    "### Random Forest Classifier"
   ]
  },
  {
   "cell_type": "code",
   "execution_count": 56,
   "metadata": {},
   "outputs": [
    {
     "data": {
      "text/plain": [
       "RandomForestClassifier(bootstrap=True, ccp_alpha=0.0, class_weight=None,\n",
       "                       criterion='gini', max_depth=5, max_features='auto',\n",
       "                       max_leaf_nodes=40, max_samples=None,\n",
       "                       min_impurity_decrease=0.0, min_impurity_split=None,\n",
       "                       min_samples_leaf=1, min_samples_split=2,\n",
       "                       min_weight_fraction_leaf=0.0, n_estimators=100,\n",
       "                       n_jobs=None, oob_score=False, random_state=42, verbose=0,\n",
       "                       warm_start=False)"
      ]
     },
     "execution_count": 56,
     "metadata": {},
     "output_type": "execute_result"
    }
   ],
   "source": [
    "rfc = RandomForestClassifier(n_estimators=100,max_leaf_nodes=40,max_depth=5,random_state=42)\n",
    "rfc.fit(X,Y)"
   ]
  },
  {
   "cell_type": "code",
   "execution_count": 57,
   "metadata": {},
   "outputs": [],
   "source": [
    "Y_predict1 = rfc.predict(X)"
   ]
  },
  {
   "cell_type": "code",
   "execution_count": 58,
   "metadata": {},
   "outputs": [
    {
     "name": "stdout",
     "output_type": "stream",
     "text": [
      "The ROC_AUC score of training data is 64.55 %\n"
     ]
    }
   ],
   "source": [
    "print(\"The ROC_AUC score of training data is {:.2f}\".format(roc_auc_score(Y,Y_predict1)*100),\"%\")"
   ]
  },
  {
   "cell_type": "code",
   "execution_count": 59,
   "metadata": {},
   "outputs": [
    {
     "name": "stdout",
     "output_type": "stream",
     "text": [
      "The average cross-validation score is 64.54\n"
     ]
    }
   ],
   "source": [
    "print(\"The average cross-validation score is {:.2f}\".format(cross_val_score(rfc,X,Y,cv=10).mean()*100))"
   ]
  },
  {
   "cell_type": "code",
   "execution_count": 60,
   "metadata": {},
   "outputs": [
    {
     "name": "stdout",
     "output_type": "stream",
     "text": [
      "The classification report is as follows:\n",
      "               precision    recall  f1-score   support\n",
      "\n",
      "           0       0.64      0.65      0.65     35606\n",
      "           1       0.65      0.64      0.64     35606\n",
      "\n",
      "    accuracy                           0.65     71212\n",
      "   macro avg       0.65      0.65      0.65     71212\n",
      "weighted avg       0.65      0.65      0.65     71212\n",
      "\n"
     ]
    }
   ],
   "source": [
    "print('The classification report is as follows:\\n',classification_report(Y,Y_predict1))"
   ]
  },
  {
   "cell_type": "code",
   "execution_count": 61,
   "metadata": {},
   "outputs": [
    {
     "data": {
      "image/png": "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\n",
      "text/plain": [
       "<Figure size 792x432 with 1 Axes>"
      ]
     },
     "metadata": {
      "needs_background": "light"
     },
     "output_type": "display_data"
    }
   ],
   "source": [
    "data_frame = pd.DataFrame()\n",
    "data_frame['importance'] = rfc.feature_importances_ * 100\n",
    "data_frame['features'] = X.columns\n",
    "data_frame.set_index('features' , inplace = True)\n",
    "data_frame.sort_values(by = [\"importance\"] , ascending = True , inplace = True)\n",
    "data_frame.importance.plot(kind = 'barh' , figsize = (11,6) , color = 'orange')\n",
    "plt.xlabel('Importance')\n",
    "plt.ylabel('Features')\n",
    "plt.title('Features Vs. Importance')\n",
    "plt.show()"
   ]
  },
  {
   "cell_type": "markdown",
   "metadata": {},
   "source": [
    "### Selecting Top Features only for analysis"
   ]
  },
  {
   "cell_type": "code",
   "execution_count": 62,
   "metadata": {},
   "outputs": [],
   "source": [
    "X_new = df.drop([\"total_programs_enrolled\",\"age\",\"gender\",\"is_handicapped\",\"is_pass\"],axis=1)"
   ]
  },
  {
   "cell_type": "code",
   "execution_count": 63,
   "metadata": {},
   "outputs": [],
   "source": [
    "grid = {'n_estimators':np.array([100,200,300,500,1000]),'max_leaf_nodes':np.array([40,60,80,100])}"
   ]
  },
  {
   "cell_type": "code",
   "execution_count": 64,
   "metadata": {},
   "outputs": [],
   "source": [
    "rfc1 = RandomForestClassifier(max_depth=5,random_state=42)"
   ]
  },
  {
   "cell_type": "code",
   "execution_count": 65,
   "metadata": {},
   "outputs": [],
   "source": [
    "rfc11 = GridSearchCV(rfc1, grid, cv = 5)"
   ]
  },
  {
   "cell_type": "code",
   "execution_count": 67,
   "metadata": {},
   "outputs": [
    {
     "data": {
      "text/plain": [
       "GridSearchCV(cv=5, error_score=nan,\n",
       "             estimator=RandomForestClassifier(bootstrap=True, ccp_alpha=0.0,\n",
       "                                              class_weight=None,\n",
       "                                              criterion='gini', max_depth=5,\n",
       "                                              max_features='auto',\n",
       "                                              max_leaf_nodes=None,\n",
       "                                              max_samples=None,\n",
       "                                              min_impurity_decrease=0.0,\n",
       "                                              min_impurity_split=None,\n",
       "                                              min_samples_leaf=1,\n",
       "                                              min_samples_split=2,\n",
       "                                              min_weight_fraction_leaf=0.0,\n",
       "                                              n_estimators=100, n_jobs=None,\n",
       "                                              oob_score=False, random_state=42,\n",
       "                                              verbose=0, warm_start=False),\n",
       "             iid='deprecated', n_jobs=None,\n",
       "             param_grid={'max_leaf_nodes': array([ 40,  60,  80, 100]),\n",
       "                         'n_estimators': array([ 100,  200,  300,  500, 1000])},\n",
       "             pre_dispatch='2*n_jobs', refit=True, return_train_score=False,\n",
       "             scoring=None, verbose=0)"
      ]
     },
     "execution_count": 67,
     "metadata": {},
     "output_type": "execute_result"
    }
   ],
   "source": [
    "rfc11.fit(X_new,Y)"
   ]
  },
  {
   "cell_type": "code",
   "execution_count": 69,
   "metadata": {},
   "outputs": [],
   "source": [
    "Y_predict_new = rfc11.predict(X_new)"
   ]
  },
  {
   "cell_type": "code",
   "execution_count": 70,
   "metadata": {},
   "outputs": [
    {
     "name": "stdout",
     "output_type": "stream",
     "text": [
      "Tuned hyperparameter : {'max_leaf_nodes': 40, 'n_estimators': 1000}\n"
     ]
    }
   ],
   "source": [
    "print(\"Tuned hyperparameter : {}\".format(rfc11.best_params_))"
   ]
  },
  {
   "cell_type": "code",
   "execution_count": 71,
   "metadata": {},
   "outputs": [],
   "source": [
    "##Using above best parametres\n",
    "\n",
    "rfc111 = RandomForestClassifier(n_estimators =1000 ,max_leaf_nodes =40 ,max_depth=5,random_state=42)\n",
    "rfc111.fit(X_new,Y)\n",
    "Y_predict_new1 = rfc111.predict(X_new)"
   ]
  },
  {
   "cell_type": "code",
   "execution_count": 72,
   "metadata": {},
   "outputs": [
    {
     "name": "stdout",
     "output_type": "stream",
     "text": [
      "The ROC_AUC score of training data is 65.02 %\n"
     ]
    }
   ],
   "source": [
    "print(\"The ROC_AUC score of training data is {:.2f}\".format(roc_auc_score(Y,Y_predict_new1)*100),\"%\")"
   ]
  },
  {
   "cell_type": "code",
   "execution_count": 73,
   "metadata": {},
   "outputs": [
    {
     "name": "stdout",
     "output_type": "stream",
     "text": [
      "The classification report is as follows:\n",
      "               precision    recall  f1-score   support\n",
      "\n",
      "           0       0.65      0.65      0.65     35606\n",
      "           1       0.65      0.65      0.65     35606\n",
      "\n",
      "    accuracy                           0.65     71212\n",
      "   macro avg       0.65      0.65      0.65     71212\n",
      "weighted avg       0.65      0.65      0.65     71212\n",
      "\n"
     ]
    }
   ],
   "source": [
    "print('The classification report is as follows:\\n',classification_report(Y,Y_predict_new1))"
   ]
  },
  {
   "cell_type": "markdown",
   "metadata": {},
   "source": [
    "### RFE-based Variables for  Random Forest Classifier"
   ]
  },
  {
   "cell_type": "code",
   "execution_count": 74,
   "metadata": {},
   "outputs": [
    {
     "data": {
      "text/plain": [
       "RFE(estimator=RandomForestClassifier(bootstrap=True, ccp_alpha=0.0,\n",
       "                                     class_weight=None, criterion='gini',\n",
       "                                     max_depth=5, max_features='auto',\n",
       "                                     max_leaf_nodes=40, max_samples=None,\n",
       "                                     min_impurity_decrease=0.0,\n",
       "                                     min_impurity_split=None,\n",
       "                                     min_samples_leaf=1, min_samples_split=2,\n",
       "                                     min_weight_fraction_leaf=0.0,\n",
       "                                     n_estimators=100, n_jobs=None,\n",
       "                                     oob_score=False, random_state=42,\n",
       "                                     verbose=0, warm_start=False),\n",
       "    n_features_to_select=7, step=1, verbose=0)"
      ]
     },
     "execution_count": 74,
     "metadata": {},
     "output_type": "execute_result"
    }
   ],
   "source": [
    "rfe = RFE(rfc , 7)\n",
    "rfe.fit(X , Y)"
   ]
  },
  {
   "cell_type": "code",
   "execution_count": 75,
   "metadata": {},
   "outputs": [
    {
     "data": {
      "text/plain": [
       "Index(['program_duration', 'age', 'trainee_engagement_rating', 'program_type',\n",
       "       'test_type', 'difficulty_level', 'education'],\n",
       "      dtype='object')"
      ]
     },
     "execution_count": 75,
     "metadata": {},
     "output_type": "execute_result"
    }
   ],
   "source": [
    "new_columns = X.columns[rfe.support_]\n",
    "new_columns"
   ]
  },
  {
   "cell_type": "code",
   "execution_count": 76,
   "metadata": {},
   "outputs": [],
   "source": [
    "rfc11.fit(X[new_columns],Y)\n",
    "Y_predict2 = rfc11.predict(X[new_columns])"
   ]
  },
  {
   "cell_type": "code",
   "execution_count": 77,
   "metadata": {},
   "outputs": [
    {
     "name": "stdout",
     "output_type": "stream",
     "text": [
      "Tuned hyperparameter : {'max_leaf_nodes': 40, 'n_estimators': 1000}\n"
     ]
    }
   ],
   "source": [
    "print(\"Tuned hyperparameter : {}\".format(rfc11.best_params_))"
   ]
  },
  {
   "cell_type": "code",
   "execution_count": 79,
   "metadata": {},
   "outputs": [],
   "source": [
    "##Using above best parametres\n",
    "\n",
    "rfc111 = RandomForestClassifier(n_estimators =1000 ,max_leaf_nodes =40 ,max_depth=5,random_state=42)\n",
    "rfc111.fit(X[new_columns],Y)\n",
    "Y_predict2_new = rfc111.predict(X[new_columns])"
   ]
  },
  {
   "cell_type": "code",
   "execution_count": 80,
   "metadata": {},
   "outputs": [
    {
     "name": "stdout",
     "output_type": "stream",
     "text": [
      "The ROC_AUC score is 64.72 %\n"
     ]
    }
   ],
   "source": [
    "print(\"The ROC_AUC score is {:.2f}\".format(roc_auc_score(Y,Y_predict2_new)*100),\"%\")"
   ]
  },
  {
   "cell_type": "code",
   "execution_count": 81,
   "metadata": {},
   "outputs": [
    {
     "name": "stdout",
     "output_type": "stream",
     "text": [
      "The classification report is as follows:\n",
      "               precision    recall  f1-score   support\n",
      "\n",
      "           0       0.65      0.64      0.65     35606\n",
      "           1       0.65      0.65      0.65     35606\n",
      "\n",
      "    accuracy                           0.65     71212\n",
      "   macro avg       0.65      0.65      0.65     71212\n",
      "weighted avg       0.65      0.65      0.65     71212\n",
      "\n"
     ]
    }
   ],
   "source": [
    "print('The classification report is as follows:\\n',classification_report(Y,Y_predict2_new))"
   ]
  },
  {
   "cell_type": "markdown",
   "metadata": {},
   "source": [
    "## Kneighbors Classifier"
   ]
  },
  {
   "cell_type": "code",
   "execution_count": 82,
   "metadata": {},
   "outputs": [],
   "source": [
    "grid1 = {'n_neighbors': np.array([5,10,15,20]) , 'p' : np.array([3,6,9,12])}\n",
    "knn = KNeighborsClassifier(metric='minkowski')\n",
    "knn1 = GridSearchCV(knn, grid1, cv = 5)\n",
    "knn1.fit(X,Y)\n",
    "y_predict_knn = knn1.predict(X)"
   ]
  },
  {
   "cell_type": "code",
   "execution_count": 83,
   "metadata": {},
   "outputs": [
    {
     "name": "stdout",
     "output_type": "stream",
     "text": [
      "Tuned hyperparameter : {'n_neighbors': 5, 'p': 6}\n"
     ]
    }
   ],
   "source": [
    "print(\"Tuned hyperparameter : {}\".format(knn1.best_params_))"
   ]
  },
  {
   "cell_type": "code",
   "execution_count": 84,
   "metadata": {},
   "outputs": [],
   "source": [
    "## USING THE ABOVE COMPUTED HYPER-PARAMETRE\n",
    "\n",
    "knn0 = KNeighborsClassifier(n_neighbors = 5 , p = 6 , metric='minkowski')\n",
    "knn0.fit(X,Y)\n",
    "y_predict_knn_new = knn0.predict(X)"
   ]
  },
  {
   "cell_type": "code",
   "execution_count": 85,
   "metadata": {},
   "outputs": [
    {
     "name": "stdout",
     "output_type": "stream",
     "text": [
      "The roc_auc score of the model is 81.01 %\n"
     ]
    }
   ],
   "source": [
    "print(\"The roc_auc score of the model is {:.2f}\".format(roc_auc_score(Y , y_predict_knn_new) * 100) , \"%\")"
   ]
  },
  {
   "cell_type": "code",
   "execution_count": 86,
   "metadata": {},
   "outputs": [
    {
     "name": "stdout",
     "output_type": "stream",
     "text": [
      "The classification report is as follows:\n",
      "               precision    recall  f1-score   support\n",
      "\n",
      "           0       0.78      0.87      0.82     35606\n",
      "           1       0.85      0.75      0.80     35606\n",
      "\n",
      "    accuracy                           0.81     71212\n",
      "   macro avg       0.81      0.81      0.81     71212\n",
      "weighted avg       0.81      0.81      0.81     71212\n",
      "\n"
     ]
    }
   ],
   "source": [
    "print('The classification report is as follows:\\n',classification_report(Y , y_predict_knn_new))"
   ]
  },
  {
   "cell_type": "markdown",
   "metadata": {},
   "source": [
    "# Test Data Prediction"
   ]
  },
  {
   "cell_type": "code",
   "execution_count": 87,
   "metadata": {},
   "outputs": [
    {
     "data": {
      "text/html": [
       "<div>\n",
       "<style scoped>\n",
       "    .dataframe tbody tr th:only-of-type {\n",
       "        vertical-align: middle;\n",
       "    }\n",
       "\n",
       "    .dataframe tbody tr th {\n",
       "        vertical-align: top;\n",
       "    }\n",
       "\n",
       "    .dataframe thead th {\n",
       "        text-align: right;\n",
       "    }\n",
       "</style>\n",
       "<table border=\"1\" class=\"dataframe\">\n",
       "  <thead>\n",
       "    <tr style=\"text-align: right;\">\n",
       "      <th></th>\n",
       "      <th>program_type</th>\n",
       "      <th>program_duration</th>\n",
       "      <th>test_type</th>\n",
       "      <th>difficulty_level</th>\n",
       "      <th>gender</th>\n",
       "      <th>education</th>\n",
       "      <th>city_tier</th>\n",
       "      <th>age</th>\n",
       "      <th>total_programs_enrolled</th>\n",
       "      <th>is_handicapped</th>\n",
       "      <th>trainee_engagement_rating</th>\n",
       "      <th>is_pass</th>\n",
       "    </tr>\n",
       "  </thead>\n",
       "  <tbody>\n",
       "    <tr>\n",
       "      <th>0</th>\n",
       "      <td>Y</td>\n",
       "      <td>136</td>\n",
       "      <td>offline</td>\n",
       "      <td>intermediate</td>\n",
       "      <td>M</td>\n",
       "      <td>Matriculation</td>\n",
       "      <td>1</td>\n",
       "      <td>42.000000</td>\n",
       "      <td>2</td>\n",
       "      <td>Y</td>\n",
       "      <td>3.0</td>\n",
       "      <td>0</td>\n",
       "    </tr>\n",
       "    <tr>\n",
       "      <th>1</th>\n",
       "      <td>T</td>\n",
       "      <td>134</td>\n",
       "      <td>offline</td>\n",
       "      <td>intermediate</td>\n",
       "      <td>F</td>\n",
       "      <td>Matriculation</td>\n",
       "      <td>3</td>\n",
       "      <td>25.000000</td>\n",
       "      <td>2</td>\n",
       "      <td>Y</td>\n",
       "      <td>1.0</td>\n",
       "      <td>0</td>\n",
       "    </tr>\n",
       "    <tr>\n",
       "      <th>2</th>\n",
       "      <td>V</td>\n",
       "      <td>131</td>\n",
       "      <td>offline</td>\n",
       "      <td>intermediate</td>\n",
       "      <td>F</td>\n",
       "      <td>High School Diploma</td>\n",
       "      <td>3</td>\n",
       "      <td>24.000000</td>\n",
       "      <td>3</td>\n",
       "      <td>N</td>\n",
       "      <td>1.0</td>\n",
       "      <td>0</td>\n",
       "    </tr>\n",
       "    <tr>\n",
       "      <th>3</th>\n",
       "      <td>V</td>\n",
       "      <td>131</td>\n",
       "      <td>offline</td>\n",
       "      <td>intermediate</td>\n",
       "      <td>M</td>\n",
       "      <td>Matriculation</td>\n",
       "      <td>3</td>\n",
       "      <td>35.093137</td>\n",
       "      <td>4</td>\n",
       "      <td>N</td>\n",
       "      <td>3.0</td>\n",
       "      <td>0</td>\n",
       "    </tr>\n",
       "    <tr>\n",
       "      <th>4</th>\n",
       "      <td>Y</td>\n",
       "      <td>136</td>\n",
       "      <td>online</td>\n",
       "      <td>easy</td>\n",
       "      <td>M</td>\n",
       "      <td>High School Diploma</td>\n",
       "      <td>1</td>\n",
       "      <td>45.000000</td>\n",
       "      <td>3</td>\n",
       "      <td>N</td>\n",
       "      <td>4.0</td>\n",
       "      <td>1</td>\n",
       "    </tr>\n",
       "  </tbody>\n",
       "</table>\n",
       "</div>"
      ],
      "text/plain": [
       "  program_type  program_duration test_type difficulty_level gender  \\\n",
       "0            Y               136   offline     intermediate      M   \n",
       "1            T               134   offline     intermediate      F   \n",
       "2            V               131   offline     intermediate      F   \n",
       "3            V               131   offline     intermediate      M   \n",
       "4            Y               136    online             easy      M   \n",
       "\n",
       "             education  city_tier        age  total_programs_enrolled  \\\n",
       "0        Matriculation          1  42.000000                        2   \n",
       "1        Matriculation          3  25.000000                        2   \n",
       "2  High School Diploma          3  24.000000                        3   \n",
       "3        Matriculation          3  35.093137                        4   \n",
       "4  High School Diploma          1  45.000000                        3   \n",
       "\n",
       "  is_handicapped  trainee_engagement_rating  is_pass  \n",
       "0              Y                        3.0        0  \n",
       "1              Y                        1.0        0  \n",
       "2              N                        1.0        0  \n",
       "3              N                        3.0        0  \n",
       "4              N                        4.0        1  "
      ]
     },
     "execution_count": 87,
     "metadata": {},
     "output_type": "execute_result"
    }
   ],
   "source": [
    "y_test_predict = knn0.predict(Test)\n",
    "test['is_pass'] = y_test_predict\n",
    "test.head()"
   ]
  },
  {
   "cell_type": "markdown",
   "metadata": {},
   "source": [
    "### Saving the prediction file"
   ]
  },
  {
   "cell_type": "code",
   "execution_count": 89,
   "metadata": {},
   "outputs": [],
   "source": [
    "test.to_csv("Final test data.csv",index=False )",
   ]
  },
  {
   "cell_type": "markdown",
   "metadata": {},
   "source": [
    "# CONCLUSION"
   ]
  },
  {
   "cell_type": "code",
   "execution_count": 90,
   "metadata": {},
   "outputs": [
    {
     "name": "stdout",
     "output_type": "stream",
     "text": [
      "The ROC_AUC score with Logistic regression is 61.86 %\n",
      "\n",
      "The ROC_AUC score with Random forest classifier is 64.55 %\n",
      "\n",
      "The ROC_AUC score with only selecting best features with random forest classifier is 65.02 %\n",
      "\n",
      "The ROC_AUC score with RFE-variables with Random forest classifier is 64.72 %\n",
      "\n",
      "The ROC_AUC score with KNeighbors classifier is 81.01 %\n"
     ]
    }
   ],
   "source": [
    "print(\"The ROC_AUC score with Logistic regression is {:.2f}\".format(roc_auc_score(Y,Y_predict)*100),\"%\")\n",
    "print()\n",
    "print(\"The ROC_AUC score with Random forest classifier is {:.2f}\".format(roc_auc_score(Y,Y_predict1)*100),\"%\")\n",
    "print()\n",
    "print(\"The ROC_AUC score with only selecting best features with random forest classifier is {:.2f}\".format(roc_auc_score(Y,Y_predict_new1)*100),\"%\")\n",
    "print()\n",
    "print(\"The ROC_AUC score with RFE-variables with Random forest classifier is {:.2f}\".format(roc_auc_score(Y,Y_predict2_new)*100),\"%\")\n",
    "print()\n",
    "print(\"The ROC_AUC score with KNeighbors classifier is {:.2f}\".format(roc_auc_score(Y , y_predict_knn_new) * 100) , \"%\")"
   ]
  },
  {
   "cell_type": "markdown",
   "metadata": {},
   "source": [
    "#### As we observed from the entire analysis that \"KNN\" performed best on the dataset,so,\"KNN\" have been finally selected for test data prediction."
   ]
  }
 ],
 "metadata": {
  "kernelspec": {
   "display_name": "Python 3",
   "language": "python",
   "name": "python3"
  },
  "language_info": {
   "codemirror_mode": {
    "name": "ipython",
    "version": 3
   },
   "file_extension": ".py",
   "mimetype": "text/x-python",
   "name": "python",
   "nbconvert_exporter": "python",
   "pygments_lexer": "ipython3",
   "version": "3.7.6"
  }
 },
 "nbformat": 4,
 "nbformat_minor": 4
}
